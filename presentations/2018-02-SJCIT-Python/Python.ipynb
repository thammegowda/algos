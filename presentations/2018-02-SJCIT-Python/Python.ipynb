{
 "cells": [
  {
   "cell_type": "markdown",
   "metadata": {
    "slideshow": {
     "slide_type": "slide"
    }
   },
   "source": [
    "<div style=\"text-align: center;\">\n",
    "<h1> Python - Why should you learn? </h1>\n",
    "\n",
    "<h3> Thamme Gowda </h3> <h4> Feb 9th, 2018. SJCIT </h4>\n",
    "<br/>\n",
    "<a href=\"https://twitter.com/thammegowda\">@thammegowda</a> \n",
    "<br/>\n",
    "<a href=\"https://isi.edu/~tg\">https://isi.edu/~tg </a>\n",
    "</div>"
   ]
  },
  {
   "cell_type": "markdown",
   "metadata": {
    "slideshow": {
     "slide_type": "slide"
    }
   },
   "source": [
    "# Hello World\n",
    "\n",
    "World's simplest hello world program"
   ]
  },
  {
   "cell_type": "code",
   "execution_count": 11,
   "metadata": {
    "slideshow": {
     "slide_type": "fragment"
    }
   },
   "outputs": [
    {
     "name": "stdout",
     "output_type": "stream",
     "text": [
      "Hello World\n"
     ]
    }
   ],
   "source": [
    "print(\"Hello World\")"
   ]
  },
  {
   "cell_type": "markdown",
   "metadata": {},
   "source": [
    "# Two major version branches\n",
    "\n",
    "- Python 2.x\n",
    "  - Latest: 2.7.x\n",
    "- Python 3.x \n",
    "  - Latest: 3.6.x\n",
    "\n",
    "Python 3.x is not backward compatible with python 2.x.\n",
    "\n",
    "In Python 2.x\n",
    "```\n",
    "print \"Hello World\" # print is a keyword\n",
    "```\n",
    "In Python 3.x\n",
    "```\n",
    "print(\"Hello World\") # print is a built in function\n",
    "```\n",
    "\n",
    "I strongly recommend you to use 3.x."
   ]
  },
  {
   "cell_type": "markdown",
   "metadata": {
    "collapsed": true,
    "slideshow": {
     "slide_type": "slide"
    }
   },
   "source": [
    "## When a programmer submitted HW essay \n",
    "<img style=\"margin:auto; width:80%\" src=\"res/if-lang-essay.jpg\"/>"
   ]
  },
  {
   "cell_type": "markdown",
   "metadata": {
    "slideshow": {
     "slide_type": "slide"
    }
   },
   "source": [
    "#### How python programmer learned to fly\n",
    "<img style=\"margin:auto;\" src=\"res/flying-python.png\"/>"
   ]
  },
  {
   "cell_type": "markdown",
   "metadata": {
    "slideshow": {
     "slide_type": "slide"
    }
   },
   "source": [
    "# Huge Collection of Existing Libraries\n",
    "\n",
    "- get any library from repositories\n"
   ]
  },
  {
   "cell_type": "markdown",
   "metadata": {
    "slideshow": {
     "slide_type": "slide"
    }
   },
   "source": [
    "## High level ? \n",
    "- More english like (as high as we could get!)\n",
    "- Not a joke! Python code is 'executable pseudo code'\n",
    "\n",
    "<img src=\"res/executable-code.jpeg\" style=\"margin:auto\"/>\n"
   ]
  },
  {
   "cell_type": "markdown",
   "metadata": {
    "slideshow": {
     "slide_type": "slide"
    }
   },
   "source": [
    "# Interpreted\n",
    "\n",
    "- You DONT NEED TO compile code (to the machine language)\n",
    "  - but if you want to (for performance reasons), you CAN!\n",
    "- `python` command runs an interpreter on your python code\n",
    "  - converted to machine instructions at run time (of course!)\n",
    "- So, no more compile time errors! Is it good or bad?\n",
    "  - Bad ? Write test cases"
   ]
  },
  {
   "cell_type": "markdown",
   "metadata": {
    "slideshow": {
     "slide_type": "slide"
    }
   },
   "source": [
    "# Dynamic Typed\n",
    "\n",
    "- What is a type?\n",
    "- What is a cast or (type) casting? - We dont have worry in python!"
   ]
  },
  {
   "cell_type": "code",
   "execution_count": 44,
   "metadata": {
    "slideshow": {
     "slide_type": "-"
    }
   },
   "outputs": [
    {
     "name": "stdout",
     "output_type": "stream",
     "text": [
      "30\n",
      "4.1\n",
      "ABCDEFGH\n",
      ">> With great power comes great responsibility!\n"
     ]
    }
   ],
   "source": [
    "# sample function\n",
    "def add(op1, op2):\n",
    "    return op1 + op2\n",
    "\n",
    "# Integers\n",
    "var1 = 10\n",
    "var2 = 20\n",
    "var3 = add(var1, var2)\n",
    "print(var3)\n",
    "\n",
    "# Floats\n",
    "var1, var2 = 1.5, 2.6 # multiple assignment\n",
    "print(add(var1, var2))\n",
    "\n",
    "# Strings\n",
    "var1 = \"ABCD\"\n",
    "var2 = \"EFGH\"\n",
    "var3 = add(var1, var2)\n",
    "print(var3)\n",
    "print(\">> With great power comes great responsibility!\")"
   ]
  },
  {
   "cell_type": "markdown",
   "metadata": {
    "slideshow": {
     "slide_type": "slide"
    }
   },
   "source": [
    "## Mis-Conceptions\n",
    "1. python does not have types?\n",
    " - No! Python does have types, but they are dynamic"
   ]
  },
  {
   "cell_type": "code",
   "execution_count": 12,
   "metadata": {},
   "outputs": [
    {
     "name": "stdout",
     "output_type": "stream",
     "text": [
      "<class 'str'>\n",
      "<class 'int'>\n",
      "<class 'float'>\n",
      "<class 'bool'>\n",
      "<class 'NoneType'>\n"
     ]
    }
   ],
   "source": [
    "x = \"Hello\"\n",
    "print(type(x))\n",
    "x = 10\n",
    "print(type(x))\n",
    "x = 1e10\n",
    "print(type(x))\n",
    "x = True\n",
    "print(type(x))\n",
    "x = None\n",
    "print(type(x))"
   ]
  },
  {
   "cell_type": "markdown",
   "metadata": {
    "slideshow": {
     "slide_type": "slide"
    }
   },
   "source": [
    "# Automatic Memory Management\n",
    "\n",
    "Look for this:\n",
    "- No **new** keyword (as in C++ or Java), no malloc calloc (as in C)\n",
    "- No need to call free (as in C) or delete (as in C++)\n",
    " - Just like Java, when you lose a reference to memory, garbage collector will mark it for cleaning\n"
   ]
  },
  {
   "cell_type": "code",
   "execution_count": 40,
   "metadata": {},
   "outputs": [
    {
     "name": "stdout",
     "output_type": "stream",
     "text": [
      "TG tg@isi.edu\n",
      "None\n"
     ]
    }
   ],
   "source": [
    "class User(object):\n",
    "\n",
    "    def __init__(self, name, email):\n",
    "        self.name = name\n",
    "        self.email = email\n",
    "\n",
    "\n",
    "u1 =  User(name=\"TG\", email=\"tg@isi.edu\")\n",
    "print(u1.name, u1.email)\n",
    "u1 = None # in python equivalent of NULL is None\n",
    "print(u1)\n",
    "# GC will free the above object when it needs memory"
   ]
  },
  {
   "cell_type": "markdown",
   "metadata": {
    "slideshow": {
     "slide_type": "slide"
    }
   },
   "source": [
    "## General Purpose\n",
    "Here are some libraries I have used \n",
    "- Web applications and API Services : Django, Flask,\n",
    "- Windowing Applications: PyQt, TkInter, PyGTK, PyKDE, Py\n",
    "- Operating system tools / Commandline : `sys`, `os`, `argparse`, `subprocess` modules\n",
    "- Machine Learning / Deep learning: scikit-learn, tensorflow, keras, pytorch, libSVM, \n",
    "- Scientific Computing: scipy\n",
    "- Text processing / Natural Language Processing: nltk, spacy\n",
    "- Linear Algebra: numpy\n",
    "- Data processing/ ETL: pandas, \n",
    "- Visualizations: Matplotlib\n",
    "- Distributed and parallel computing: py-spark\n",
    "- GPUs: py-cuda\n",
    "- ..."
   ]
  },
  {
   "cell_type": "markdown",
   "metadata": {
    "slideshow": {
     "slide_type": "slide"
    }
   },
   "source": [
    "# Obtaining and using libraries:\n",
    "\n",
    "- use **conda** or **pip** to search and install libraries (also called modules)\n",
    " - Look for **miniconda** and install it to your system\n",
    " - then you can use `conda install [lib_name]`\n",
    " - example: `conda install numpy`\n",
    "- use **import** keyword to enable a module in your program"
   ]
  },
  {
   "cell_type": "code",
   "execution_count": 41,
   "metadata": {},
   "outputs": [
    {
     "name": "stdout",
     "output_type": "stream",
     "text": [
      "{\"name\": \"TG\", \"email\": \"tg@isi.edu\"}\n",
      "{\"name\": \"TG\", \"email\": \"tg@isi.edu\"}\n",
      "{\"name\": \"TG\", \"email\": \"tg@isi.edu\"}\n"
     ]
    },
    {
     "name": "stderr",
     "output_type": "stream",
     "text": [
      "gc: collecting generation 0...\n",
      "gc: objects in each generation: 934 1281 64370\n",
      "gc: done, 588 unreachable, 0 uncollectable, 0.0004s elapsed\n"
     ]
    }
   ],
   "source": [
    "import json\n",
    "\n",
    "u1 =  User(name=\"TG\", email=\"tg@isi.edu\")\n",
    "print(json.dumps(u1.__dict__))\n",
    "\n",
    "# or, another way\n",
    "®®from json import dumps\n",
    "print(dumps(u1.__dict__))\n",
    "\n",
    "# aliasing, yet another way \n",
    "from json import dumps as to_json\n",
    "print(to_json(u1.__dict__))"
   ]
  },
  {
   "cell_type": "code",
   "execution_count": 39,
   "metadata": {},
   "outputs": [
    {
     "name": "stdout",
     "output_type": "stream",
     "text": [
      "[[1 2 3]\n",
      " [4 5 6]\n",
      " [7 8 9]]\n",
      "[[ 66  78  90]\n",
      " [ 78  93 108]\n",
      " [ 90 108 126]]\n"
     ]
    }
   ],
   "source": [
    "# Another example\n",
    "import numpy as np\n",
    "\n",
    "A = np.array([\n",
    "    [1, 2, 3],\n",
    "    [4, 5, 6],\n",
    "    [7, 8, 9]])\n",
    "print(A)\n",
    "AT_A = np.matmul(A.transpose(), A)\n",
    "print(AT_A)"
   ]
  },
  {
   "cell_type": "markdown",
   "metadata": {
    "slideshow": {
     "slide_type": "slide"
    }
   },
   "source": [
    "<img style=\"margin:auto;\" src=\"res/why-python.png\"/>"
   ]
  },
  {
   "cell_type": "markdown",
   "metadata": {
    "slideshow": {
     "slide_type": "slide"
    }
   },
   "source": [
    "## About me\n",
    "- BE in CSE at VTU/SJCIT : Class of 2012\n",
    "- MS in CSE at University of Southern California (USC) : Class of 2017\n",
    "---\n",
    "- 2012 - 2014: Software Engineer @ Simplyphi Software Solutions, Bengaluru\n",
    "- 2013 - 2015: Co-Founder @ Datoin.com, Bengaluru\n",
    "- 2016 - 2017: Data Scientist @ NASA Jet Propulsion Laboratory, California, USA\n",
    "- 2017 - Present: Research Programmer @ USC Information Sciences Institute, California, USA\n",
    "---\n",
    "- Committer at Apache Software Foundation\n",
    "- Google Summer of Code 2017 Mentor"
   ]
  }
 ],
 "metadata": {
  "celltoolbar": "Slideshow",
  "kernelspec": {
   "display_name": "Python 3",
   "language": "python",
   "name": "python3"
  },
  "language_info": {
   "codemirror_mode": {
    "name": "ipython",
    "version": 3
   },
   "file_extension": ".py",
   "mimetype": "text/x-python",
   "name": "python",
   "nbconvert_exporter": "python",
   "pygments_lexer": "ipython3",
   "version": "3.6.1"
  },
  "livereveal": {
   "footer": "<h3>Feb 2, 2018</h3>",
   "header": "<h3>Python</h3>",
   "height": 800,
   "scroll": true,
   "start_slideshow_at": "selected",
   "transition": "zoom",
   "width": 1280
  }
 },
 "nbformat": 4,
 "nbformat_minor": 2
}
