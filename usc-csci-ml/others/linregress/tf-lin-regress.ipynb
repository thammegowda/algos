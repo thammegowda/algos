{
 "cells": [
  {
   "cell_type": "markdown",
   "metadata": {},
   "source": [
    "# Linear Regression using Tensorfow data flow graph\n",
    "\n",
    "\n",
    "NOTE: this has nothing to do with neural networks.\n",
    "\n",
    "This notebook teaches an usage of tensorflow's dataflow graph + gradient descent optimizer for linear regression\n",
    "\n",
    "\n",
    "### Dataset and the Task  overview:\n",
    "Courtesy : Airial Intelligence.   \n",
    "\n",
    "The datset used is from this datascience challenge: https://github.com/aerialintel/data-science-challenge\n",
    "\n",
    "The task here is to predict the yield of wheat. \n"
   ]
  },
  {
   "cell_type": "code",
   "execution_count": 110,
   "metadata": {
    "collapsed": false
   },
   "outputs": [],
   "source": [
    "%%bash\n",
    "# Download the dataset\n",
    "[ ! -d dataset ] && mkdir dataset\n",
    "[ ! -f dataset/wheat-2013-supervised.csv ] && wget https://aerialintel.blob.core.windows.net/recruiting/datasets/wheat-2013-supervised.csv -O dataset/wheat-2013-supervised.csv  \n",
    "# [ ! -f dataset/wheat-2014-supervised.csv ] && wget https://aerialintel.blob.core.windows.net/recruiting/datasets/wheat-2014-supervised.csv -O dataset/wheat-2014-supervised.csv"
   ]
  },
  {
   "cell_type": "code",
   "execution_count": 80,
   "metadata": {
    "collapsed": false
   },
   "outputs": [],
   "source": [
    "%matplotlib inline\n",
    "import tensorflow as tf\n",
    "import numpy as np\n",
    "import pandas as pd\n",
    "import matplotlib.pyplot as plt\n",
    "from IPython.display import display, HTML\n",
    "import sys\n",
    "import os\n",
    "import time\n",
    "current_milli_time = lambda: int(round(time.time() * 1000))\n"
   ]
  },
  {
   "cell_type": "code",
   "execution_count": 107,
   "metadata": {
    "collapsed": false
   },
   "outputs": [
    {
     "data": {
      "text/html": [
       "<div>\n",
       "<table border=\"1\" class=\"dataframe\">\n",
       "  <thead>\n",
       "    <tr style=\"text-align: right;\">\n",
       "      <th></th>\n",
       "      <th>CountyName</th>\n",
       "      <th>State</th>\n",
       "      <th>Latitude</th>\n",
       "      <th>Longitude</th>\n",
       "      <th>Date</th>\n",
       "      <th>apparentTemperatureMax</th>\n",
       "      <th>apparentTemperatureMin</th>\n",
       "      <th>cloudCover</th>\n",
       "      <th>dewPoint</th>\n",
       "      <th>humidity</th>\n",
       "      <th>...</th>\n",
       "      <th>precipTypeIsOther</th>\n",
       "      <th>pressure</th>\n",
       "      <th>temperatureMax</th>\n",
       "      <th>temperatureMin</th>\n",
       "      <th>visibility</th>\n",
       "      <th>windBearing</th>\n",
       "      <th>windSpeed</th>\n",
       "      <th>NDVI</th>\n",
       "      <th>DayInSeason</th>\n",
       "      <th>Yield</th>\n",
       "    </tr>\n",
       "  </thead>\n",
       "  <tbody>\n",
       "    <tr>\n",
       "      <th>0</th>\n",
       "      <td>Adams</td>\n",
       "      <td>Washington</td>\n",
       "      <td>46.811686</td>\n",
       "      <td>-118.695237</td>\n",
       "      <td>11/30/2013 0:00</td>\n",
       "      <td>35.70</td>\n",
       "      <td>20.85</td>\n",
       "      <td>0.00</td>\n",
       "      <td>29.53</td>\n",
       "      <td>0.91</td>\n",
       "      <td>...</td>\n",
       "      <td>0</td>\n",
       "      <td>1027.13</td>\n",
       "      <td>35.70</td>\n",
       "      <td>27.48</td>\n",
       "      <td>2.46</td>\n",
       "      <td>214</td>\n",
       "      <td>1.18</td>\n",
       "      <td>134.110657</td>\n",
       "      <td>0</td>\n",
       "      <td>35.7</td>\n",
       "    </tr>\n",
       "    <tr>\n",
       "      <th>1</th>\n",
       "      <td>Adams</td>\n",
       "      <td>Washington</td>\n",
       "      <td>46.929839</td>\n",
       "      <td>-118.352109</td>\n",
       "      <td>11/30/2013 0:00</td>\n",
       "      <td>35.10</td>\n",
       "      <td>26.92</td>\n",
       "      <td>0.00</td>\n",
       "      <td>29.77</td>\n",
       "      <td>0.93</td>\n",
       "      <td>...</td>\n",
       "      <td>0</td>\n",
       "      <td>1026.87</td>\n",
       "      <td>35.10</td>\n",
       "      <td>26.92</td>\n",
       "      <td>2.83</td>\n",
       "      <td>166</td>\n",
       "      <td>1.01</td>\n",
       "      <td>131.506592</td>\n",
       "      <td>0</td>\n",
       "      <td>35.7</td>\n",
       "    </tr>\n",
       "    <tr>\n",
       "      <th>2</th>\n",
       "      <td>Adams</td>\n",
       "      <td>Washington</td>\n",
       "      <td>47.006888</td>\n",
       "      <td>-118.510160</td>\n",
       "      <td>11/30/2013 0:00</td>\n",
       "      <td>33.38</td>\n",
       "      <td>26.95</td>\n",
       "      <td>0.00</td>\n",
       "      <td>29.36</td>\n",
       "      <td>0.94</td>\n",
       "      <td>...</td>\n",
       "      <td>0</td>\n",
       "      <td>1026.88</td>\n",
       "      <td>33.38</td>\n",
       "      <td>26.95</td>\n",
       "      <td>2.95</td>\n",
       "      <td>158</td>\n",
       "      <td>1.03</td>\n",
       "      <td>131.472946</td>\n",
       "      <td>0</td>\n",
       "      <td>35.7</td>\n",
       "    </tr>\n",
       "    <tr>\n",
       "      <th>3</th>\n",
       "      <td>Adams</td>\n",
       "      <td>Washington</td>\n",
       "      <td>47.162342</td>\n",
       "      <td>-118.699677</td>\n",
       "      <td>11/30/2013 0:00</td>\n",
       "      <td>28.05</td>\n",
       "      <td>25.93</td>\n",
       "      <td>0.91</td>\n",
       "      <td>29.47</td>\n",
       "      <td>0.94</td>\n",
       "      <td>...</td>\n",
       "      <td>0</td>\n",
       "      <td>1026.37</td>\n",
       "      <td>33.19</td>\n",
       "      <td>27.17</td>\n",
       "      <td>2.89</td>\n",
       "      <td>153</td>\n",
       "      <td>1.84</td>\n",
       "      <td>131.288300</td>\n",
       "      <td>0</td>\n",
       "      <td>35.7</td>\n",
       "    </tr>\n",
       "    <tr>\n",
       "      <th>4</th>\n",
       "      <td>Adams</td>\n",
       "      <td>Washington</td>\n",
       "      <td>47.157512</td>\n",
       "      <td>-118.434056</td>\n",
       "      <td>11/30/2013 0:00</td>\n",
       "      <td>28.83</td>\n",
       "      <td>25.98</td>\n",
       "      <td>0.91</td>\n",
       "      <td>29.86</td>\n",
       "      <td>0.94</td>\n",
       "      <td>...</td>\n",
       "      <td>0</td>\n",
       "      <td>1026.19</td>\n",
       "      <td>33.85</td>\n",
       "      <td>27.07</td>\n",
       "      <td>2.97</td>\n",
       "      <td>156</td>\n",
       "      <td>1.85</td>\n",
       "      <td>131.288300</td>\n",
       "      <td>0</td>\n",
       "      <td>35.7</td>\n",
       "    </tr>\n",
       "  </tbody>\n",
       "</table>\n",
       "<p>5 rows × 26 columns</p>\n",
       "</div>"
      ],
      "text/plain": [
       "  CountyName       State   Latitude   Longitude             Date  \\\n",
       "0      Adams  Washington  46.811686 -118.695237  11/30/2013 0:00   \n",
       "1      Adams  Washington  46.929839 -118.352109  11/30/2013 0:00   \n",
       "2      Adams  Washington  47.006888 -118.510160  11/30/2013 0:00   \n",
       "3      Adams  Washington  47.162342 -118.699677  11/30/2013 0:00   \n",
       "4      Adams  Washington  47.157512 -118.434056  11/30/2013 0:00   \n",
       "\n",
       "   apparentTemperatureMax  apparentTemperatureMin  cloudCover  dewPoint  \\\n",
       "0                   35.70                   20.85        0.00     29.53   \n",
       "1                   35.10                   26.92        0.00     29.77   \n",
       "2                   33.38                   26.95        0.00     29.36   \n",
       "3                   28.05                   25.93        0.91     29.47   \n",
       "4                   28.83                   25.98        0.91     29.86   \n",
       "\n",
       "   humidity  ...    precipTypeIsOther  pressure  temperatureMax  \\\n",
       "0      0.91  ...                    0   1027.13           35.70   \n",
       "1      0.93  ...                    0   1026.87           35.10   \n",
       "2      0.94  ...                    0   1026.88           33.38   \n",
       "3      0.94  ...                    0   1026.37           33.19   \n",
       "4      0.94  ...                    0   1026.19           33.85   \n",
       "\n",
       "   temperatureMin  visibility  windBearing  windSpeed        NDVI  \\\n",
       "0           27.48        2.46          214       1.18  134.110657   \n",
       "1           26.92        2.83          166       1.01  131.506592   \n",
       "2           26.95        2.95          158       1.03  131.472946   \n",
       "3           27.17        2.89          153       1.84  131.288300   \n",
       "4           27.07        2.97          156       1.85  131.288300   \n",
       "\n",
       "   DayInSeason  Yield  \n",
       "0            0   35.7  \n",
       "1            0   35.7  \n",
       "2            0   35.7  \n",
       "3            0   35.7  \n",
       "4            0   35.7  \n",
       "\n",
       "[5 rows x 26 columns]"
      ]
     },
     "metadata": {},
     "output_type": "display_data"
    }
   ],
   "source": [
    "path = \"dataset/wheat-2013-supervised.csv\"\n",
    "df=pd.read_csv(path, sep=',')\n",
    "df=df[:10000]     # for a smaller dataset for quick experimentation\n",
    "display(df[0:5])\n",
    "\n",
    "train_X = df.iloc[:, range(5,15)] # basic features\n",
    "train_Y = df.iloc[:, [25]]        # Labels\n"
   ]
  },
  {
   "cell_type": "code",
   "execution_count": 108,
   "metadata": {
    "collapsed": false
   },
   "outputs": [],
   "source": [
    "#train_X[0:3]\n",
    "#Y[0:3]\n",
    "\n",
    "train_X = train_X.as_matrix()\n",
    "train_Y = train_Y.as_matrix()"
   ]
  },
  {
   "cell_type": "code",
   "execution_count": 111,
   "metadata": {
    "collapsed": false
   },
   "outputs": [
    {
     "data": {
      "text/plain": [
       "((10000, 10), (10000, 1))"
      ]
     },
     "execution_count": 111,
     "metadata": {},
     "output_type": "execute_result"
    }
   ],
   "source": [
    "train_X.shape, train_Y.shape\n"
   ]
  },
  {
   "cell_type": "code",
   "execution_count": 109,
   "metadata": {
    "collapsed": false
   },
   "outputs": [
    {
     "name": "stdout",
     "output_type": "stream",
     "text": [
      "Epoch = 3  Training cost= 3290.35  W= [ 0.50202197 -0.71432447  0.45135888  1.53339005  2.16887093  0.00756516\n",
      "  0.03683155  0.79745901  1.21918154  0.65199518]  b= [ 3.54992509]\n",
      "Epoch = 7  Training cost= 3545.78  W= [ 0.53028524 -0.51294017  0.76944953  1.33049798  3.98809338  0.01321977\n",
      "  0.06082681  1.38437867  1.77836943  1.2440021 ]  b= [ 6.54370832]\n",
      "Epoch = 11  Training cost= 3561.35  W= [ 0.52964783 -0.38242337  1.03272319  1.13514972  5.6051116   0.01823431\n",
      "  0.08018073  1.89801979  2.02878428  1.84203005]  b= [ 9.16207218]\n",
      "Epoch = 15  Training cost= 3325.56  W= [ 0.46652761 -0.31932497  1.20993543  1.00125337  7.01392603  0.02279235\n",
      "  0.09651474  2.34582019  2.18599558  2.38200974]  b= [ 11.39697552]\n",
      "Epoch = 19  Training cost= 3127.38  W= [ 0.41846704 -0.23212326  1.25548387  0.84717125  8.23327065  0.027003\n",
      "  0.1113037   2.74090934  2.27914762  2.89597249]  b= [ 13.28974056]\n",
      "Epoch = 23  Training cost= 3477.34  W= [ 0.45878983 -0.12122732  1.20230746  0.77553397  9.3246994   0.0308159\n",
      "  0.12406422  3.10067201  2.27570915  3.39793611]  b= [ 14.94841099]\n",
      "Epoch = 27  Training cost= 3311.9  W= [  0.40219146  -0.06754839   1.09026718   0.69407433  10.3013401\n",
      "   0.03439157   0.13559583   3.43259692   2.21709251   3.88790059]  b= [ 16.40461349]\n",
      "Epoch = 29  Training cost= 3409.07  W= [  0.40731025  -0.02352848   1.01966643   0.66407675  10.73937798\n",
      "   0.03614091   0.14088586   3.58474565   2.16418695   4.11188459]  b= [ 17.05225754]\n",
      "Epoch = 32  Training cost= 3248.85  W= [  3.92640144e-01   1.72085478e-04   8.98276448e-01   5.62195778e-01\n",
      "   1.13669348e+01   3.85876410e-02   1.48184225e-01   3.80097914e+00\n",
      "   2.07111669e+00   4.40486336e+00]  b= [ 17.96375656]\n",
      "Epoch = 35  Training cost= 3188.18  W= [  0.33723027   0.05657379   0.76218933   0.54551595  11.93965721\n",
      "   0.04103177   0.15529579   3.99727368   1.9774648    4.69184256]  b= [ 18.77331161]\n",
      "Epoch = 39  Training cost= 3457.44  W= [  0.39623028   0.14353457   0.5594607    0.45203736  12.6020546\n",
      "   0.04412251   0.16374716   4.22853422   1.79516673   5.07581472]  b= [ 19.68081284]\n",
      "Epoch = 43  Training cost= 3424.94  W= [  0.37417093   0.15977553   0.34275684   0.42723873  13.20234299\n",
      "   0.04727514   0.17239991   4.44637156   1.61558318   5.4237895 ]  b= [ 20.46638107]\n",
      "Epoch = 47  Training cost= 3291.01  W= [  0.37655315   0.17189616   0.14219651   0.32915837  13.69180489\n",
      "   0.05035638   0.18081781   4.64349413   1.3923676    5.78376341]  b= [ 21.06005478]\n",
      "Epoch = 51  Training cost= 3194.22  W= [  0.33555415   0.17569634  -0.07654332   0.32889909  14.13689423\n",
      "   0.053391     0.18905821   4.81544733   1.19860458   6.09974051]  b= [ 21.56377792]\n",
      "Epoch = 55  Training cost= 3388.86  W= [  0.36781523   0.21679753  -0.28310359   0.30417937  14.53925514\n",
      "   0.05643561   0.19721615   4.97654581   1.03796053   6.3937192 ]  b= [ 21.98954391]\n",
      "Epoch = 58  Training cost= 3097.58  W= [  0.30590606   0.24943882  -0.43090388   0.23895976  14.82512379\n",
      "   0.05862808   0.20297135   5.08961344   0.90933859   6.61070347]  b= [ 22.27938461]\n",
      "Epoch = 61  Training cost= 3099.64  W= [  0.33079669   0.24036002  -0.57394797   0.19466141  15.07886505\n",
      "   0.06085793   0.2090902    5.20457792   0.79657435   6.81768847]  b= [ 22.50725937]\n",
      "Epoch = 65  Training cost= 3070.65  W= [  0.32565647   0.2516436   -0.77006024   0.16756517  15.38215637\n",
      "   0.06357498   0.21562999   5.31935263   0.62175596   7.03767252]  b= [ 22.76311874]\n",
      "Epoch = 69  Training cost= 2977.92  W= [  0.2999374    0.26712486  -0.96755403   0.1447273   15.65566063\n",
      "   0.06637059   0.22253519   5.42914629   0.47018456   7.22765875]  b= [ 22.97700119]\n",
      "Epoch = 72  Training cost= 3178.43  W= [  0.33482802   0.26220629  -1.10375035   0.17310919  15.82148457\n",
      "   0.06843819   0.22782554   5.50762796   0.40944299   7.34265041]  b= [ 23.06095505]\n",
      "Epoch = 76  Training cost= 3266.38  W= [  0.34074783   0.3255305   -1.30334675   0.13985193  16.04771233\n",
      "   0.07122585   0.23474242   5.61193609   0.34205428   7.48464012]  b= [ 23.17689133]\n",
      "Epoch = 80  Training cost= 3090.27  W= [  0.30652714   0.30129445  -1.48902023   0.13357487  16.25978088\n",
      "   0.07405001   0.24149321   5.71012163   0.30597183   7.63462925]  b= [ 23.27283859]\n",
      "Epoch = 83  Training cost= 3043.59  W= [  0.28575695   0.3164553   -1.61355543   0.12975694  16.41523552\n",
      "   0.07617529   0.24662557   5.77924299   0.30158255   7.70962381]  b= [ 23.33480453]\n",
      "Epoch = 86  Training cost= 3311.6  W= [  0.34662738   0.30389693  -1.74755037   0.15090139  16.56870651\n",
      "   0.07834867   0.25198054   5.85102797   0.28775257   7.81061649]  b= [ 23.39277267]\n",
      "Epoch = 89  Training cost= 3143.48  W= [  0.31157529   0.31873721  -1.88160563   0.11956507  16.71250725\n",
      "   0.08038245   0.25678968   5.91346884   0.27505234   7.89961004]  b= [ 23.43874741]\n",
      "Epoch = 92  Training cost= 3023.38  W= [  0.29600388   0.30147645  -1.99946272   0.10376698  16.8432045\n",
      "   0.08258215   0.26210672   5.98050833   0.29190591   7.97260475]  b= [ 23.46873093]\n",
      "Epoch = 95  Training cost= 3026.78  W= [  0.29259247   0.30741566  -2.11784482   0.10278936  16.96927834\n",
      "   0.08467254   0.26678991   6.03642607   0.27968171   8.06162739]  b= [ 23.48672104]\n",
      "Epoch = 98  Training cost= 3093.42  W= [  0.31032073   0.30677664  -2.23872519   0.0999314   17.09514999\n",
      "   0.08681309   0.27203012   6.09326887   0.27022743   8.13865852]  b= [ 23.50671005]\n",
      "Optimization finished.\n",
      "Training cost= 3011.7  W= [  0.29657057   0.30751657  -2.27531075   0.08533256  17.13388634\n",
      "   0.08754566   0.27377224   6.11127806   0.27356994   8.16166782]  b= [ 23.51070786]\n"
     ]
    },
    {
     "data": {
      "image/png": "[encoded data removed]",
      "text/plain": [
       "<matplotlib.figure.Figure at 0x7efe4c0daa10>"
      ]
     },
     "metadata": {},
     "output_type": "display_data"
    }
   ],
   "source": [
    "n_recs, n_attrs = train_X.shape\n",
    "\n",
    "## Tensorflow for linear regression\n",
    "X = tf.placeholder(\"float\", [None, n_attrs])\n",
    "Y = tf.placeholder(\"float\", [None, 1])\n",
    "\n",
    "W = tf.Variable(tf.zeros([n_attrs, 1]))\n",
    "b = tf.Variable(tf.zeros([1]))\n",
    "\n",
    "Y_ = tf.matmul(X, W) + b\n",
    "\n",
    "learning_rate = 0.001\n",
    "\n",
    "# Root Mean squared error\n",
    "cost = tf.sqrt(tf.reduce_sum(tf.pow(Y_ - Y, 2)))\n",
    "\n",
    "# Gradient descent\n",
    "optimizer = tf.train.GradientDescentOptimizer(learning_rate).minimize(cost)\n",
    "\n",
    "num_epochs = 10\n",
    "\n",
    "progress_delay = 10 * 1000 \n",
    "last_time = current_milli_time()\n",
    "\n",
    "with tf.Session() as sess:\n",
    "    sess.run(tf.initialize_all_variables())\n",
    "    for e in range(num_epochs):\n",
    "        for x, y in zip(train_X, train_Y):\n",
    "            sess.run(optimizer, feed_dict={X: np.array([x]), Y: np.array([y])})\n",
    "        if (current_milli_time() - last_time > progress_delay):\n",
    "            last_time = current_milli_time()\n",
    "            training_cost = sess.run(cost, feed_dict={X: train_X, Y: train_Y})\n",
    "            print \"Epoch =\", e,\" Training cost=\", training_cost, \" W=\", sess.run(W).flatten(), \" b=\", sess.run(b)\n",
    "\n",
    "    print (\"Optimization finished.\")\n",
    "    training_cost = sess.run(cost, feed_dict={X: train_X, Y: train_Y})\n",
    "    print \"Training cost=\", training_cost, \" W=\", sess.run(W).flatten(), \" b=\", sess.run(b)\n",
    "    \n",
    "    # predictions\n",
    "    preds = sess.run(Y_, feed_dict={X: train_X, Y: train_Y})\n",
    "    \n",
    "    # Graphic display\n",
    "    plt.plot(train_X[0:1000], train_Y[0:1000], 'ro', label='Original data')\n",
    "    plt.plot(train_X[0:1000], preds[0:1000], label='Fitted line')\n",
    "    plt.legend()\n",
    "    plt.show()"
   ]
  },
  {
   "cell_type": "code",
   "execution_count": 74,
   "metadata": {
    "collapsed": false
   },
   "outputs": [
    {
     "data": {
      "text/plain": [
       "(1, 3)"
      ]
     },
     "execution_count": 74,
     "metadata": {},
     "output_type": "execute_result"
    }
   ],
   "source": []
  },
  {
   "cell_type": "code",
   "execution_count": null,
   "metadata": {
    "collapsed": true
   },
   "outputs": [],
   "source": []
  }
 ],
 "metadata": {
  "kernelspec": {
   "display_name": "Python [Root]",
   "language": "python",
   "name": "Python [Root]"
  },
  "language_info": {
   "codemirror_mode": {
    "name": "ipython",
    "version": 2
   },
   "file_extension": ".py",
   "mimetype": "text/x-python",
   "name": "python",
   "nbconvert_exporter": "python",
   "pygments_lexer": "ipython2",
   "version": "2.7.12"
  }
 },
 "nbformat": 4,
 "nbformat_minor": 0
}
