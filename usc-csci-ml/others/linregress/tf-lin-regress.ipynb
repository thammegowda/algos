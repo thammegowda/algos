{
 "cells": [
  {
   "cell_type": "markdown",
   "metadata": {},
   "source": [
    "# Linear Regression using Tensorfow data flow graph\n",
    "\n",
    "\n",
    "NOTE: this has nothing to do with neural networks.\n",
    "\n",
    "This notebook teaches an usage of tensorflow's dataflow graph + gradient descent optimizer for linear regression\n",
    "\n",
    "\n",
    "### Dataset and the Task  overview:\n",
    "Courtesy : Airial Intelligence.   \n",
    "\n",
    "The datset used is from this datascience challenge: https://github.com/aerialintel/data-science-challenge\n",
    "\n",
    "The task here is to predict the yield of wheat. \n"
   ]
  },
  {
   "cell_type": "code",
   "execution_count": 1,
   "metadata": {
    "collapsed": false
   },
   "outputs": [],
   "source": [
    "%%bash\n",
    "# Download the dataset\n",
    "[ ! -d dataset ] && mkdir dataset\n",
    "[ ! -f dataset/wheat-2013-supervised.csv ] && wget https://aerialintel.blob.core.windows.net/recruiting/datasets/wheat-2013-supervised.csv -O dataset/wheat-2013-supervised.csv  \n",
    "# [ ! -f dataset/wheat-2014-supervised.csv ] && wget https://aerialintel.blob.core.windows.net/recruiting/datasets/wheat-2014-supervised.csv -O dataset/wheat-2014-supervised.csv"
   ]
  },
  {
   "cell_type": "code",
   "execution_count": 2,
   "metadata": {
    "collapsed": false
   },
   "outputs": [
    {
     "name": "stderr",
     "output_type": "stream",
     "text": [
      "/home/tg/anaconda2/lib/python2.7/site-packages/matplotlib/font_manager.py:273: UserWarning: Matplotlib is building the font cache using fc-list. This may take a moment.\n",
      "  warnings.warn('Matplotlib is building the font cache using fc-list. This may take a moment.')\n"
     ]
    }
   ],
   "source": [
    "%matplotlib inline\n",
    "import tensorflow as tf\n",
    "import numpy as np\n",
    "import pandas as pd\n",
    "import matplotlib.pyplot as plt\n",
    "from IPython.display import display, HTML\n",
    "import sys\n",
    "import os\n",
    "import time\n",
    "current_milli_time = lambda: int(round(time.time() * 1000))\n"
   ]
  },
  {
   "cell_type": "code",
   "execution_count": 11,
   "metadata": {
    "collapsed": false
   },
   "outputs": [
    {
     "data": {
      "text/html": [
       "<div>\n",
       "<table border=\"1\" class=\"dataframe\">\n",
       "  <thead>\n",
       "    <tr style=\"text-align: right;\">\n",
       "      <th></th>\n",
       "      <th>CountyName</th>\n",
       "      <th>State</th>\n",
       "      <th>Latitude</th>\n",
       "      <th>Longitude</th>\n",
       "      <th>Date</th>\n",
       "      <th>apparentTemperatureMax</th>\n",
       "      <th>apparentTemperatureMin</th>\n",
       "      <th>cloudCover</th>\n",
       "      <th>dewPoint</th>\n",
       "      <th>humidity</th>\n",
       "      <th>...</th>\n",
       "      <th>precipTypeIsOther</th>\n",
       "      <th>pressure</th>\n",
       "      <th>temperatureMax</th>\n",
       "      <th>temperatureMin</th>\n",
       "      <th>visibility</th>\n",
       "      <th>windBearing</th>\n",
       "      <th>windSpeed</th>\n",
       "      <th>NDVI</th>\n",
       "      <th>DayInSeason</th>\n",
       "      <th>Yield</th>\n",
       "    </tr>\n",
       "  </thead>\n",
       "  <tbody>\n",
       "    <tr>\n",
       "      <th>0</th>\n",
       "      <td>Adams</td>\n",
       "      <td>Washington</td>\n",
       "      <td>46.811686</td>\n",
       "      <td>-118.695237</td>\n",
       "      <td>11/30/2013 0:00</td>\n",
       "      <td>35.70</td>\n",
       "      <td>20.85</td>\n",
       "      <td>0.00</td>\n",
       "      <td>29.53</td>\n",
       "      <td>0.91</td>\n",
       "      <td>...</td>\n",
       "      <td>0</td>\n",
       "      <td>1027.13</td>\n",
       "      <td>35.70</td>\n",
       "      <td>27.48</td>\n",
       "      <td>2.46</td>\n",
       "      <td>214</td>\n",
       "      <td>1.18</td>\n",
       "      <td>134.110657</td>\n",
       "      <td>0</td>\n",
       "      <td>35.7</td>\n",
       "    </tr>\n",
       "    <tr>\n",
       "      <th>1</th>\n",
       "      <td>Adams</td>\n",
       "      <td>Washington</td>\n",
       "      <td>46.929839</td>\n",
       "      <td>-118.352109</td>\n",
       "      <td>11/30/2013 0:00</td>\n",
       "      <td>35.10</td>\n",
       "      <td>26.92</td>\n",
       "      <td>0.00</td>\n",
       "      <td>29.77</td>\n",
       "      <td>0.93</td>\n",
       "      <td>...</td>\n",
       "      <td>0</td>\n",
       "      <td>1026.87</td>\n",
       "      <td>35.10</td>\n",
       "      <td>26.92</td>\n",
       "      <td>2.83</td>\n",
       "      <td>166</td>\n",
       "      <td>1.01</td>\n",
       "      <td>131.506592</td>\n",
       "      <td>0</td>\n",
       "      <td>35.7</td>\n",
       "    </tr>\n",
       "    <tr>\n",
       "      <th>2</th>\n",
       "      <td>Adams</td>\n",
       "      <td>Washington</td>\n",
       "      <td>47.006888</td>\n",
       "      <td>-118.510160</td>\n",
       "      <td>11/30/2013 0:00</td>\n",
       "      <td>33.38</td>\n",
       "      <td>26.95</td>\n",
       "      <td>0.00</td>\n",
       "      <td>29.36</td>\n",
       "      <td>0.94</td>\n",
       "      <td>...</td>\n",
       "      <td>0</td>\n",
       "      <td>1026.88</td>\n",
       "      <td>33.38</td>\n",
       "      <td>26.95</td>\n",
       "      <td>2.95</td>\n",
       "      <td>158</td>\n",
       "      <td>1.03</td>\n",
       "      <td>131.472946</td>\n",
       "      <td>0</td>\n",
       "      <td>35.7</td>\n",
       "    </tr>\n",
       "    <tr>\n",
       "      <th>3</th>\n",
       "      <td>Adams</td>\n",
       "      <td>Washington</td>\n",
       "      <td>47.162342</td>\n",
       "      <td>-118.699677</td>\n",
       "      <td>11/30/2013 0:00</td>\n",
       "      <td>28.05</td>\n",
       "      <td>25.93</td>\n",
       "      <td>0.91</td>\n",
       "      <td>29.47</td>\n",
       "      <td>0.94</td>\n",
       "      <td>...</td>\n",
       "      <td>0</td>\n",
       "      <td>1026.37</td>\n",
       "      <td>33.19</td>\n",
       "      <td>27.17</td>\n",
       "      <td>2.89</td>\n",
       "      <td>153</td>\n",
       "      <td>1.84</td>\n",
       "      <td>131.288300</td>\n",
       "      <td>0</td>\n",
       "      <td>35.7</td>\n",
       "    </tr>\n",
       "    <tr>\n",
       "      <th>4</th>\n",
       "      <td>Adams</td>\n",
       "      <td>Washington</td>\n",
       "      <td>47.157512</td>\n",
       "      <td>-118.434056</td>\n",
       "      <td>11/30/2013 0:00</td>\n",
       "      <td>28.83</td>\n",
       "      <td>25.98</td>\n",
       "      <td>0.91</td>\n",
       "      <td>29.86</td>\n",
       "      <td>0.94</td>\n",
       "      <td>...</td>\n",
       "      <td>0</td>\n",
       "      <td>1026.19</td>\n",
       "      <td>33.85</td>\n",
       "      <td>27.07</td>\n",
       "      <td>2.97</td>\n",
       "      <td>156</td>\n",
       "      <td>1.85</td>\n",
       "      <td>131.288300</td>\n",
       "      <td>0</td>\n",
       "      <td>35.7</td>\n",
       "    </tr>\n",
       "  </tbody>\n",
       "</table>\n",
       "<p>5 rows × 26 columns</p>\n",
       "</div>"
      ],
      "text/plain": [
       "  CountyName       State   Latitude   Longitude             Date  \\\n",
       "0      Adams  Washington  46.811686 -118.695237  11/30/2013 0:00   \n",
       "1      Adams  Washington  46.929839 -118.352109  11/30/2013 0:00   \n",
       "2      Adams  Washington  47.006888 -118.510160  11/30/2013 0:00   \n",
       "3      Adams  Washington  47.162342 -118.699677  11/30/2013 0:00   \n",
       "4      Adams  Washington  47.157512 -118.434056  11/30/2013 0:00   \n",
       "\n",
       "   apparentTemperatureMax  apparentTemperatureMin  cloudCover  dewPoint  \\\n",
       "0                   35.70                   20.85        0.00     29.53   \n",
       "1                   35.10                   26.92        0.00     29.77   \n",
       "2                   33.38                   26.95        0.00     29.36   \n",
       "3                   28.05                   25.93        0.91     29.47   \n",
       "4                   28.83                   25.98        0.91     29.86   \n",
       "\n",
       "   humidity  ...    precipTypeIsOther  pressure  temperatureMax  \\\n",
       "0      0.91  ...                    0   1027.13           35.70   \n",
       "1      0.93  ...                    0   1026.87           35.10   \n",
       "2      0.94  ...                    0   1026.88           33.38   \n",
       "3      0.94  ...                    0   1026.37           33.19   \n",
       "4      0.94  ...                    0   1026.19           33.85   \n",
       "\n",
       "   temperatureMin  visibility  windBearing  windSpeed        NDVI  \\\n",
       "0           27.48        2.46          214       1.18  134.110657   \n",
       "1           26.92        2.83          166       1.01  131.506592   \n",
       "2           26.95        2.95          158       1.03  131.472946   \n",
       "3           27.17        2.89          153       1.84  131.288300   \n",
       "4           27.07        2.97          156       1.85  131.288300   \n",
       "\n",
       "   DayInSeason  Yield  \n",
       "0            0   35.7  \n",
       "1            0   35.7  \n",
       "2            0   35.7  \n",
       "3            0   35.7  \n",
       "4            0   35.7  \n",
       "\n",
       "[5 rows x 26 columns]"
      ]
     },
     "metadata": {},
     "output_type": "display_data"
    }
   ],
   "source": [
    "path = \"dataset/wheat-2013-supervised.csv\"\n",
    "df=pd.read_csv(path, sep=',')\n",
    "df=df[:10000]     # for a smaller dataset for quick experimentation\n",
    "display(df[0:5])\n",
    "\n",
    "train_X = df.iloc[:, range(5,15)] # basic features\n",
    "train_Y = df.iloc[:, [25]]        # Labels\n",
    "\n",
    "\n",
    "means = train_X.mean()\n",
    "stds = train_X.std()\n",
    "train_X = (train_X - means) / stds\n",
    "\n",
    "\n"
   ]
  },
  {
   "cell_type": "code",
   "execution_count": 12,
   "metadata": {
    "collapsed": false
   },
   "outputs": [],
   "source": [
    "#train_X[0:3]\n",
    "#Y[0:3]\n",
    "\n",
    "train_X = train_X.as_matrix()\n",
    "train_Y = train_Y.as_matrix()\n"
   ]
  },
  {
   "cell_type": "code",
   "execution_count": 13,
   "metadata": {
    "collapsed": false
   },
   "outputs": [
    {
     "data": {
      "text/plain": [
       "((10000, 10), (10000, 1))"
      ]
     },
     "execution_count": 13,
     "metadata": {},
     "output_type": "execute_result"
    }
   ],
   "source": [
    "train_X.shape, train_Y.shape\n"
   ]
  },
  {
   "cell_type": "code",
   "execution_count": 16,
   "metadata": {
    "collapsed": false
   },
   "outputs": [
    {
     "name": "stdout",
     "output_type": "stream",
     "text": [
      "Epoch = 3  Training cost= 1662.13  W= [-1.73535001 -1.56158304  0.64364094 -1.29775858  1.20920122  0.9089275\n",
      " -0.01618723  0.64039057 -0.28188893  2.25604653]  b= [ 24.02242661]\n",
      "Epoch = 7  Training cost= 1471.98  W= [-1.62460577 -1.13254797 -0.87408513 -1.01908696  2.39189243  1.72627711\n",
      " -0.36256787  0.77363473 -0.4994058   2.78240705]  b= [ 29.18358994]\n",
      "Epoch = 11  Training cost= 1450.04  W= [-1.71049213 -0.57524407 -1.26913095 -0.89953929  2.89991808  2.20356965\n",
      " -0.66515845  0.73559988 -0.8414036   2.69298577]  b= [ 30.40691757]\n",
      "Epoch = 15  Training cost= 1446.82  W= [-1.91022635 -0.19468179 -1.3106643  -1.00933588  3.00771952  2.44481564\n",
      " -0.83346182  0.69910026 -0.97608459  2.52923226]  b= [ 30.65278244]\n",
      "Epoch = 19  Training cost= 1445.74  W= [-2.08038926  0.11862925 -1.34683442 -1.13047743  3.06448889  2.67980576\n",
      " -0.93724048  0.7088002  -1.07999873  2.44138741]  b= [ 30.73073959]\n",
      "Optimization finished.\n",
      "Training cost= 1445.74  W= [-2.08038926  0.11862925 -1.34683442 -1.13047743  3.06448889  2.67980576\n",
      " -0.93724048  0.7088002  -1.07999873  2.44138741]  b= [ 30.73073959]\n"
     ]
    },
    {
     "data": {
      "image/png": "[encoded data removed]",
      "text/plain": [
       "<matplotlib.figure.Figure at 0x7feb51040690>"
      ]
     },
     "metadata": {},
     "output_type": "display_data"
    }
   ],
   "source": [
    "n_recs, n_attrs = train_X.shape\n",
    "\n",
    "## Tensorflow for linear regression\n",
    "X = tf.placeholder(\"float\", [None, n_attrs])\n",
    "Y = tf.placeholder(\"float\", [None, 1])\n",
    "\n",
    "W = tf.Variable(tf.zeros([n_attrs, 1]))\n",
    "b = tf.Variable(tf.zeros([1]))\n",
    "\n",
    "Y_ = tf.matmul(X, W) + b\n",
    "\n",
    "learning_rate = 0.001\n",
    "\n",
    "# Root Mean squared error\n",
    "cost = tf.sqrt(tf.reduce_sum(tf.pow(Y_ - Y, 2)))\n",
    "\n",
    "# Gradient descent\n",
    "optimizer = tf.train.GradientDescentOptimizer(learning_rate).minimize(cost)\n",
    "\n",
    "num_epochs = 20\n",
    "\n",
    "progress_delay = 10 * 1000 \n",
    "last_time = current_milli_time()\n",
    "conv_tol = 0.1\n",
    "\n",
    "training_cost = float('inf') \n",
    "with tf.Session() as sess:\n",
    "    sess.run(tf.initialize_all_variables())\n",
    "    for e in range(num_epochs):\n",
    "        for x, y in zip(train_X, train_Y):\n",
    "            sess.run(optimizer, feed_dict={X: np.array([x]), Y: np.array([y])})\n",
    "        if (current_milli_time() - last_time > progress_delay):\n",
    "            last_time = current_milli_time()\n",
    "            new_cost = sess.run(cost, feed_dict={X: train_X, Y: train_Y})\n",
    "            print \"Epoch =\", e,\" Training cost=\", new_cost, \" W=\", sess.run(W).flatten(), \" b=\", sess.run(b)\n",
    "            if abs(new_cost - training_cost) < conv_tol:\n",
    "                print(\"Converged...\")\n",
    "                break\n",
    "            training_cost = new_cost\n",
    "            \n",
    "    print (\"Optimization finished.\")\n",
    "    training_cost = sess.run(cost, feed_dict={X: train_X, Y: train_Y})\n",
    "    print \"Training cost=\", training_cost, \" W=\", sess.run(W).flatten(), \" b=\", sess.run(b)\n",
    "    \n",
    "    # predictions\n",
    "    preds = sess.run(Y_, feed_dict={X: train_X, Y: train_Y})\n",
    "    \n",
    "    # Graphic display\n",
    "    plt.plot(train_X[0:1000], train_Y[0:1000], 'ro', label='Original data')\n",
    "    plt.plot(train_X[0:1000], preds[0:1000], label='Fitted line')\n",
    "    plt.legend()\n",
    "    plt.show()"
   ]
  },
  {
   "cell_type": "code",
   "execution_count": 74,
   "metadata": {
    "collapsed": false
   },
   "outputs": [
    {
     "data": {
      "text/plain": [
       "(1, 3)"
      ]
     },
     "execution_count": 74,
     "metadata": {},
     "output_type": "execute_result"
    }
   ],
   "source": []
  },
  {
   "cell_type": "code",
   "execution_count": null,
   "metadata": {
    "collapsed": true
   },
   "outputs": [],
   "source": []
  }
 ],
 "metadata": {
  "kernelspec": {
   "display_name": "Python [Root]",
   "language": "python",
   "name": "Python [Root]"
  },
  "language_info": {
   "codemirror_mode": {
    "name": "ipython",
    "version": 2
   },
   "file_extension": ".py",
   "mimetype": "text/x-python",
   "name": "python",
   "nbconvert_exporter": "python",
   "pygments_lexer": "ipython2",
   "version": "2.7.12"
  }
 },
 "nbformat": 4,
 "nbformat_minor": 0
}
