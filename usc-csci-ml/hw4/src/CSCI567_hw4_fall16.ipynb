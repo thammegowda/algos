{
 "cells": [
  {
   "cell_type": "code",
   "execution_count": 5,
   "metadata": {
    "collapsed": false
   },
   "outputs": [],
   "source": [
    "from hw_utils import *\n",
    "from copy import copy\n"
   ]
  },
  {
   "cell_type": "code",
   "execution_count": 6,
   "metadata": {
    "collapsed": true
   },
   "outputs": [],
   "source": [
    "# Variables\n",
    "\n",
    "data_path = '../data/MiniBooNE_PID.txt'"
   ]
  },
  {
   "cell_type": "markdown",
   "metadata": {},
   "source": [
    "## Load Data"
   ]
  },
  {
   "cell_type": "code",
   "execution_count": 7,
   "metadata": {
    "collapsed": false
   },
   "outputs": [
    {
     "name": "stdout",
     "output_type": "stream",
     "text": [
      "Train X, Y : (104051, 50) (104051, 2)\n",
      "Test  X, Y : (26013, 50) (26013, 2)\n"
     ]
    }
   ],
   "source": [
    "## (c)\n",
    "X_tr, Y_tr, X_te, Y_te = loaddata(data_path)\n",
    "print \"Train X, Y :\", X_tr.shape, Y_tr.shape\n",
    "print \"Test  X, Y :\", X_te.shape, Y_te.shape\n",
    "X_tr, X_te = normalize(X_tr, X_te)\n",
    "d_in = X_tr.shape[1] # input features\n",
    "d_out = Y_tr.shape[1] # Output predictions"
   ]
  },
  {
   "cell_type": "code",
   "execution_count": 20,
   "metadata": {
    "collapsed": false
   },
   "outputs": [
    {
     "name": "stdout",
     "output_type": "stream",
     "text": [
      "Train X, Y : (1000, 50) (1000, 2)\n"
     ]
    }
   ],
   "source": []
  },
  {
   "cell_type": "code",
   "execution_count": 29,
   "metadata": {
    "collapsed": false
   },
   "outputs": [
    {
     "name": "stdout",
     "output_type": "stream",
     "text": [
      "Train X, Y : (100, 50) (100, 2)\n",
      "architecture=[50, 2], lambda=0.0, decay=0.0, momentum=0.0, actfn=linear: score=0.644792991821 | time=1.59886002541\n",
      "architecture=[50, 50, 2], lambda=0.0, decay=0.0, momentum=0.0, actfn=linear: score=0.777880288265 | time=1.32127022743\n",
      "architecture=[50, 50, 50, 2], lambda=0.0, decay=0.0, momentum=0.0, actfn=linear: score=0.809057006188 | time=1.50701999664\n",
      "architecture=[50, 50, 50, 50, 2], lambda=0.0, decay=0.0, momentum=0.0, actfn=linear: score=0.797678081223 | time=1.58687400818\n",
      "Best Config: architecture = [50, 50, 50, 2], lambda = 0.0, decay = 0.0, momentum = 0.0, actfn = linear, best_acc = 0.809057006188\n",
      "Mean Time = 1.50350606441seconds, |Models| = 4, Total Time = 6.01402425766seconds\n",
      "architecture=[50, 50, 2], lambda=0.0, decay=0.0, momentum=0.0, actfn=linear: score=0.769730517817 | time=1.40755581856\n",
      "architecture=[50, 500, 2], lambda=0.0, decay=0.0, momentum=0.0, actfn=linear: score=0.796140388485 | time=1.27941417694\n",
      "architecture=[50, 500, 300, 2], lambda=0.0, decay=0.0, momentum=0.0, actfn=linear: score=0.820128393072 | time=1.74258708954\n",
      "architecture=[50, 800, 500, 300, 2], lambda=0.0, decay=0.0, momentum=0.0, actfn=linear: score=0.824280163174 | time=2.56319308281\n",
      "architecture=[50, 800, 800, 500, 300, 2], lambda=0.0, decay=0.0, momentum=0.0, actfn=linear: score=0.824280163174 | time=4.39556503296\n",
      "Best Config: architecture = [50, 800, 500, 300, 2], lambda = 0.0, decay = 0.0, momentum = 0.0, actfn = linear, best_acc = 0.824280163174\n",
      "Mean Time = 2.27766304016seconds, |Models| = 5, Total Time = 11.3883152008seconds\n"
     ]
    }
   ],
   "source": [
    "## (d)\n",
    "\n",
    "# default args\n",
    "args = {\n",
    "    'actfn':'linear',\n",
    "    'last_act':'softmax',\n",
    "    'reg_coeffs': [0.0],\n",
    "    'num_epoch': 30,\n",
    "    'batch_size': 1000,\n",
    "    'sgd_lr': 0.001,\n",
    "    'sgd_decays': [0.0],\n",
    "    'sgd_moms': [0.0],\n",
    "    'sgd_Nesterov': False,\n",
    "    'EStop': False,\n",
    "    'verbose': False\n",
    "}\n",
    "\n",
    "# FIXME: BEGIN : remove this\n",
    "args['batch_size'] = 10\n",
    "X_tr, Y_tr = X_tr[0:100], Y_tr[:100]\n",
    "print \"Train X, Y :\", X_tr.shape, Y_tr.shape\n",
    "# FIXME: END\n",
    "\n",
    "print(\"\\n\\n## (d) Linear Activation \")\n",
    "archs = [[d_in, d_out], [d_in, 50, d_out], [d_in, 50, 50, d_out], [d_in, 50, 50, 50, d_out]]\n",
    "res = testmodels(X_tr, Y_tr, X_te, Y_te, archs, **args)\n",
    "\n",
    "archs = [[d_in, 50, d_out], [d_in, 500, d_out], [d_in, 500, 300, d_out],\n",
    "         [d_in, 800, 500, 300, d_out], [d_in, 800, 800, 500, 300, d_out]]\n",
    "res = testmodels(X_tr, Y_tr, X_te, Y_te, archs, **args)"
   ]
  },
  {
   "cell_type": "code",
   "execution_count": 30,
   "metadata": {
    "collapsed": false
   },
   "outputs": [
    {
     "name": "stdout",
     "output_type": "stream",
     "text": [
      "architecture=[50, 50, 2], lambda=0.0, decay=0.0, momentum=0.0, actfn=sigmoid: score=0.728097490125 | time=1.4637401104\n",
      "architecture=[50, 500, 2], lambda=0.0, decay=0.0, momentum=0.0, actfn=sigmoid: score=0.72567562421 | time=1.52699995041\n",
      "architecture=[50, 500, 300, 2], lambda=0.0, decay=0.0, momentum=0.0, actfn=sigmoid: score=0.72567562421 | time=2.11750817299\n",
      "architecture=[50, 800, 500, 300, 2], lambda=0.0, decay=0.0, momentum=0.0, actfn=sigmoid: score=0.72567562421 | time=3.49359512329\n",
      "architecture=[50, 800, 800, 500, 300, 2], lambda=0.0, decay=0.0, momentum=0.0, actfn=sigmoid: score=0.72567562421 | time=5.4399960041\n",
      "Best Config: architecture = [50, 50, 2], lambda = 0.0, decay = 0.0, momentum = 0.0, actfn = sigmoid, best_acc = 0.728097490125\n",
      "Mean Time = 2.80836787224seconds, |Models| = 5, Total Time = 14.0418393612seconds\n",
      "[ 1.46374011  1.52699995  2.11750817  3.49359512  5.439996  ]\n"
     ]
    }
   ],
   "source": [
    "# (e)\n",
    "print(\"\\n\\n## (e) Sigmoid Activation\")\n",
    "args['actfn'] = 'sigmoid'\n",
    "_ = testmodels(X_tr, Y_tr, X_te, Y_te, archs, **args)"
   ]
  },
  {
   "cell_type": "code",
   "execution_count": 31,
   "metadata": {
    "collapsed": false
   },
   "outputs": [
    {
     "name": "stdout",
     "output_type": "stream",
     "text": [
      "architecture=[50, 50, 2], lambda=0.0, decay=0.0, momentum=0.0, actfn=relu: score=0.594087576795 | time=1.54891991615\n",
      "architecture=[50, 500, 2], lambda=0.0, decay=0.0, momentum=0.0, actfn=relu: score=0.797447427081 | time=1.60470986366\n",
      "architecture=[50, 500, 300, 2], lambda=0.0, decay=0.0, momentum=0.0, actfn=relu: score=0.765809401414 | time=2.00542593002\n",
      "architecture=[50, 800, 500, 300, 2], lambda=0.0, decay=0.0, momentum=0.0, actfn=relu: score=0.770345594546 | time=2.83977007866\n",
      "architecture=[50, 800, 800, 500, 300, 2], lambda=0.0, decay=0.0, momentum=0.0, actfn=relu: score=0.72567562421 | time=4.6529238224\n",
      "Best Config: architecture = [50, 500, 2], lambda = 0.0, decay = 0.0, momentum = 0.0, actfn = relu, best_acc = 0.797447427081\n",
      "Mean Time = 2.53034992218seconds, |Models| = 5, Total Time = 12.6517496109seconds\n",
      "[ 1.54891992  1.60470986  2.00542593  2.83977008  4.65292382]\n"
     ]
    }
   ],
   "source": [
    "# (f)\n",
    "print(\"\\n\\n## (f) ReLu Activation\")\n",
    "args['actfn'] = 'relu'\n",
    "args['sgd_lr'] = 5e-4\n",
    "_ = testmodels(X_tr, Y_tr, X_te, Y_te, archs, **args)"
   ]
  },
  {
   "cell_type": "code",
   "execution_count": 32,
   "metadata": {
    "collapsed": false
   },
   "outputs": [
    {
     "name": "stdout",
     "output_type": "stream",
     "text": [
      "architecture=[50, 800, 800, 500, 300, 2], lambda=1e-07, decay=0.0, momentum=0.0, actfn=relu: score=0.725637181907 | time=14.3752989769\n",
      "architecture=[50, 800, 800, 500, 300, 2], lambda=5e-07, decay=0.0, momentum=0.0, actfn=relu: score=0.72567562421 | time=14.5565328598\n",
      "architecture=[50, 800, 800, 500, 300, 2], lambda=1e-06, decay=0.0, momentum=0.0, actfn=relu: score=0.72567562421 | time=15.7959990501\n",
      "architecture=[50, 800, 800, 500, 300, 2], lambda=5e-06, decay=0.0, momentum=0.0, actfn=relu: score=0.75489178422 | time=18.1669859886\n",
      "architecture=[50, 800, 800, 500, 300, 2], lambda=1e-05, decay=0.0, momentum=0.0, actfn=relu: score=0.726713566681 | time=16.3381991386\n",
      "Best Config: architecture = [50, 800, 800, 500, 300, 2], lambda = 5e-06, decay = 0.0, momentum = 0.0, actfn = relu, best_acc = 0.75489178422\n",
      "Mean Time = 15.8466032028seconds, |Models| = 5, Total Time = 79.2330160141seconds\n",
      "('Best Regression Coefficient=', 5e-06)\n"
     ]
    }
   ],
   "source": [
    "# (g)\n",
    "print(\"\\n\\n## (g) Regularization Coefficients\")\n",
    "archs = [[d_in, 800, 800, 500, 300, d_out]]\n",
    "args['reg_coeffs'] = [1e-7, 5e-7, 1e-6, 5e-6, 1e-5]\n",
    "best, _ = testmodels(X_tr, Y_tr, X_te, Y_te, archs, **args)\n",
    "best_lambda_noEstop = best[1]\n",
    "print(\"Best Regularization Coefficient=\", best_lambda_noEstop)"
   ]
  },
  {
   "cell_type": "code",
   "execution_count": 26,
   "metadata": {
    "collapsed": false
   },
   "outputs": [
    {
     "name": "stdout",
     "output_type": "stream",
     "text": [
      "Epoch 00007: early stopping\n",
      "architecture=[50, 800, 800, 500, 300, 2], lambda=0.0, decay=0.001, momentum=0.99, actfn=relu: score=0.268750241549 | time=3.53610491753\n",
      "Epoch 00007: early stopping\n",
      "architecture=[50, 800, 800, 500, 300, 2], lambda=0.0, decay=0.001, momentum=0.98, actfn=relu: score=0.540076117421 | time=3.48036003113\n",
      "Epoch 00007: early stopping\n",
      "architecture=[50, 800, 800, 500, 300, 2], lambda=0.0, decay=0.001, momentum=0.95, actfn=relu: score=0.272363817533 | time=3.49149918556\n",
      "Epoch 00007: early stopping\n",
      "architecture=[50, 800, 800, 500, 300, 2], lambda=0.0, decay=0.001, momentum=0.9, actfn=relu: score=0.723138430262 | time=3.54128098488\n",
      "Epoch 00012: early stopping\n",
      "architecture=[50, 800, 800, 500, 300, 2], lambda=0.0, decay=0.001, momentum=0.85, actfn=relu: score=0.684888325669 | time=4.11652612686\n",
      "Best Config: architecture = [50, 800, 800, 500, 300, 2], lambda = 0.0, decay = 0.001, momentum = 0.9, actfn = relu, best_acc = 0.723138430262\n",
      "Mean Time = 3.63315424919seconds, |Models| = 5, Total Time = 18.165771246seconds\n",
      "('Best Regression Coefficient with early stopping=', 0.0)\n"
     ]
    }
   ],
   "source": [
    "# (h)\n",
    "print(\"\\n\\n## (h) Regularization Coefficients -- Early stop\")\n",
    "args['EStop'] = True\n",
    "best, _ = testmodels(X_tr, Y_tr, X_te, Y_te, archs, **args)\n",
    "best_lambda_EStop = best[1]\n",
    "print(\"Best Regularization Coefficient with early stopping=\", best_lambda_EStop)"
   ]
  },
  {
   "cell_type": "code",
   "execution_count": 23,
   "metadata": {
    "collapsed": false
   },
   "outputs": [
    {
     "name": "stdout",
     "output_type": "stream",
     "text": [
      "architecture=[50, 800, 800, 500, 300, 2], lambda=5e-07, decay=1e-05, momentum=0.0, actfn=relu: score=0.270826129244 | time=11.516671896\n",
      "architecture=[50, 800, 800, 500, 300, 2], lambda=5e-07, decay=5e-05, momentum=0.0, actfn=relu: score=0.301118670987 | time=12.4318099022\n",
      "architecture=[50, 800, 800, 500, 300, 2], lambda=5e-07, decay=0.0001, momentum=0.0, actfn=relu: score=0.669126972275 | time=11.9210979939\n",
      "architecture=[50, 800, 800, 500, 300, 2], lambda=5e-07, decay=0.0003, momentum=0.0, actfn=relu: score=0.707223307288 | time=12.1909031868\n",
      "architecture=[50, 800, 800, 500, 300, 2], lambda=5e-07, decay=0.0007, momentum=0.0, actfn=relu: score=0.336408719555 | time=11.8696639538\n",
      "architecture=[50, 800, 800, 500, 300, 2], lambda=5e-07, decay=0.001, momentum=0.0, actfn=relu: score=0.724253261442 | time=11.5003929138\n",
      "Best Config: architecture = [50, 800, 800, 500, 300, 2], lambda = 5e-07, decay = 0.001, momentum = 0.0, actfn = relu, best_acc = 0.724253261442\n",
      "Mean Time = 11.9050899744seconds, |Models| = 6, Total Time = 71.4305398464seconds\n",
      "('Best Decay', 0.001)\n"
     ]
    }
   ],
   "source": [
    "# (i)\n",
    "print(\"\\n\\n## (i) SGD Decay\")\n",
    "args['reg_coeffs'] = [5e-7]\n",
    "args['num_epoch'] = 100\n",
    "args['sgd_lr'] = 1e-5\n",
    "args['sgd_decays'] = [1e-5, 5e-5, 1e-4, 3e-4, 7e-4, 1e-3]\n",
    "args['EStop'] = False\n",
    "best, _ = testmodels(X_tr, Y_tr, X_te, Y_te, archs, **args)\n",
    "best_decay = best[2]\n",
    "print(\"Best Decay\", best_decay)"
   ]
  },
  {
   "cell_type": "code",
   "execution_count": 24,
   "metadata": {
    "collapsed": false
   },
   "outputs": [
    {
     "name": "stdout",
     "output_type": "stream",
     "text": [
      "architecture=[50, 800, 800, 500, 300, 2], lambda=0.0, decay=0.001, momentum=0.99, actfn=relu: score=0.42540268402 | time=7.02015113831\n",
      "architecture=[50, 800, 800, 500, 300, 2], lambda=0.0, decay=0.001, momentum=0.98, actfn=relu: score=0.696267250431 | time=6.69596099854\n",
      "architecture=[50, 800, 800, 500, 300, 2], lambda=0.0, decay=0.001, momentum=0.95, actfn=relu: score=0.735247765196 | time=6.49156498909\n",
      "architecture=[50, 800, 800, 500, 300, 2], lambda=0.0, decay=0.001, momentum=0.9, actfn=relu: score=0.279168110601 | time=7.27232408524\n",
      "architecture=[50, 800, 800, 500, 300, 2], lambda=0.0, decay=0.001, momentum=0.85, actfn=relu: score=0.630223346722 | time=6.64503598213\n",
      "Best Config: architecture = [50, 800, 800, 500, 300, 2], lambda = 0.0, decay = 0.001, momentum = 0.95, actfn = relu, best_acc = 0.735247765196\n",
      "Mean Time = 6.82500743866seconds, |Models| = 5, Total Time = 34.1250371933seconds\n",
      "('Best moemntum', 0.95)\n"
     ]
    }
   ],
   "source": [
    "# (j)\n",
    "print(\"\\n\\n## (j) SGD Momentum\")\n",
    "args['reg_coeffs'] = [0.0]\n",
    "args['num_epoch'] = 50\n",
    "args['sgd_decays'] = [best_decay] # TODO: get this from the best value of previous step\n",
    "args['sgd_Nesterov'] = True\n",
    "args['sgd_moms']= [0.99, 0.98, 0.95, 0.9, 0.85]\n",
    "best, _ = testmodels(X_tr, Y_tr, X_te, Y_te, archs, **args)\n",
    "best_mom = best[3]\n",
    "print(\"Best moemntum\", best_mom)"
   ]
  },
  {
   "cell_type": "code",
   "execution_count": null,
   "metadata": {
    "collapsed": false
   },
   "outputs": [],
   "source": [
    "# (k)\n",
    "print(\"\\n\\n## (k) Combining all\")\n",
    "args['num_epoch'] = 100\n",
    "args['sgd_lr'] = 1e-5\n",
    "args['sgd_Nesterov'] = True\n",
    "args['EStop'] = True\n",
    "\n",
    "#TODO: Best values from previous steps\n",
    "args['sgd_decays'] = [best_decay]\n",
    "args['sgd_moms']= [best_mom]\n",
    "args['reg_coeffs'] = [best_lambda_EStop]\n",
    "\n",
    "testmodels(X_tr, Y_tr, X_te, Y_te, archs, **args)"
   ]
  },
  {
   "cell_type": "code",
   "execution_count": null,
   "metadata": {
    "collapsed": false
   },
   "outputs": [],
   "source": [
    "# (l) Grid Search\n",
    "print(\"\\n\\n## (j) Grid Search \")\n",
    "archs = [[d_in, 50, d_out], [d_in, 500, d_out], [d_in, 500, 300, d_out],\n",
    "         [d_in, 800, 500, 300, d_out], [d_in, 800, 800, 500, 300, d_out]]\n",
    "args = {\n",
    "    'actfn':'relu',\n",
    "    'last_act':'softmax',\n",
    "    'num_epoch': 100,\n",
    "    'batch_size': 1000,\n",
    "    'sgd_lr': 1e-5,\n",
    "    'sgd_Nesterov': True,\n",
    "    'sgd_moms': [0.99],\n",
    "    'EStop': True,\n",
    "    'verbose': False,\n",
    "    'reg_coeffs': [1e-7, 5e-7, 1e-6, 5e-6, 1e-5],\n",
    "    'sgd_decays': [1e-5, 5e-5, 1e-4],\n",
    "}\n",
    "testmodels(X_tr, Y_tr, X_te, Y_te, archs, **args)"
   ]
  },
  {
   "cell_type": "code",
   "execution_count": null,
   "metadata": {
    "collapsed": true
   },
   "outputs": [],
   "source": []
  }
 ],
 "metadata": {
  "anaconda-cloud": {},
  "kernelspec": {
   "display_name": "Python [conda root]",
   "language": "python",
   "name": "conda-root-py"
  },
  "language_info": {
   "codemirror_mode": {
    "name": "ipython",
    "version": 2
   },
   "file_extension": ".py",
   "mimetype": "text/x-python",
   "name": "python",
   "nbconvert_exporter": "python",
   "pygments_lexer": "ipython2",
   "version": "2.7.12"
  }
 },
 "nbformat": 4,
 "nbformat_minor": 1
}
