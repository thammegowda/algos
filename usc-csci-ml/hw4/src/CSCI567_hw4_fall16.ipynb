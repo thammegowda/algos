{
 "cells": [
  {
   "cell_type": "code",
   "execution_count": 1,
   "metadata": {
    "collapsed": false
   },
   "outputs": [
    {
     "name": "stderr",
     "output_type": "stream",
     "text": [
      "Using Theano backend.\n"
     ]
    }
   ],
   "source": [
    "from hw_utils import *\n",
    "from copy import copy\n"
   ]
  },
  {
   "cell_type": "code",
   "execution_count": 2,
   "metadata": {
    "collapsed": true
   },
   "outputs": [],
   "source": [
    "# Variables\n",
    "\n",
    "data_path = '../data/MiniBooNE_PID.txt'"
   ]
  },
  {
   "cell_type": "markdown",
   "metadata": {},
   "source": [
    "## Load Data"
   ]
  },
  {
   "cell_type": "code",
   "execution_count": 3,
   "metadata": {
    "collapsed": false
   },
   "outputs": [
    {
     "name": "stderr",
     "output_type": "stream",
     "text": [
      "/Users/thammegr/anaconda/lib/python2.7/site-packages/keras/utils/np_utils.py:14: VisibleDeprecationWarning: using a non-integer number instead of an integer will result in an error in the future\n",
      "  Y = np.zeros((len(y), nb_classes))\n",
      "/Users/thammegr/anaconda/lib/python2.7/site-packages/keras/utils/np_utils.py:16: VisibleDeprecationWarning: using a non-integer number instead of an integer will result in an error in the future\n",
      "  Y[i, y[i]] = 1.\n"
     ]
    },
    {
     "name": "stdout",
     "output_type": "stream",
     "text": [
      "Train X, Y : (104051, 50) (104051, 2)\n",
      "Test  X, Y : (26013, 50) (26013, 2)\n"
     ]
    }
   ],
   "source": [
    "## (c)\n",
    "X_tr, Y_tr, X_te, Y_te = loaddata(data_path)\n",
    "print \"Train X, Y :\", X_tr.shape, Y_tr.shape\n",
    "print \"Test  X, Y :\", X_te.shape, Y_te.shape\n",
    "X_tr, X_te = normalize(X_tr, X_te)\n",
    "d_in = X_tr.shape[1] # input features\n",
    "d_out = Y_tr.shape[1] # Output predictions\n"
   ]
  },
  {
   "cell_type": "code",
   "execution_count": 4,
   "metadata": {
    "collapsed": false
   },
   "outputs": [
    {
     "name": "stdout",
     "output_type": "stream",
     "text": [
      "Train X, Y : (10000, 50) (10000, 2)\n"
     ]
    }
   ],
   "source": [
    "# Select few for \n",
    "X_tr, Y_tr = X_tr[0:10000], Y_tr[:10000]\n",
    "print \"Train X, Y :\", X_tr.shape, Y_tr.shape"
   ]
  },
  {
   "cell_type": "code",
   "execution_count": 13,
   "metadata": {
    "collapsed": false
   },
   "outputs": [
    {
     "name": "stdout",
     "output_type": "stream",
     "text": [
      "Score for architecture = [50, 2], lambda = 0.0, decay = 0.0, momentum = 0.0, actfn = linear: 0.649329184982\n",
      "Score for architecture = [50, 50, 2], lambda = 0.0, decay = 0.0, momentum = 0.0, actfn = linear: 0.789682084043\n",
      "Score for architecture = [50, 50, 50, 2], lambda = 0.0, decay = 0.0, momentum = 0.0, actfn = linear: 0.830392504221\n",
      "Score for architecture = [50, 50, 50, 50, 2], lambda = 0.0, decay = 0.0, momentum = 0.0, actfn = linear: 0.81686080173\n",
      "Score for architecture = [50, 50, 50, 50, 50, 2], lambda = 0.0, decay = 0.0, momentum = 0.0, actfn = linear: 0.836197281759\n",
      "Best Config: architecture = [50, 50, 50, 50, 50, 2], lambda = 0.0, decay = 0.0, momentum = 0.0, actfn = linear, best_acc = 0.836197281759\n",
      "Score for architecture = [50, 50, 2], lambda = 0.0, decay = 0.0, momentum = 0.0, actfn = linear: 0.79398762085\n",
      "Score for architecture = [50, 500, 2], lambda = 0.0, decay = 0.0, momentum = 0.0, actfn = linear: 0.832429939631\n",
      "Score for architecture = [50, 500, 300, 2], lambda = 0.0, decay = 0.0, momentum = 0.0, actfn = linear: 0.833813858491\n",
      "Score for architecture = [50, 800, 500, 300, 2], lambda = 0.0, decay = 0.0, momentum = 0.0, actfn = linear: 0.840387499972\n",
      "Score for architecture = [50, 800, 800, 500, 300, 2], lambda = 0.0, decay = 0.0, momentum = 0.0, actfn = linear: 0.839541761549\n",
      "Best Config: architecture = [50, 800, 500, 300, 2], lambda = 0.0, decay = 0.0, momentum = 0.0, actfn = linear, best_acc = 0.840387499972\n"
     ]
    }
   ],
   "source": [
    "## (d)\n",
    "archs = [[d_in, d_out], [d_in, 50, d_out], [d_in, 50, 50, d_out], [d_in, 50, 50, 50, d_out]]\n",
    "# default args\n",
    "args = {\n",
    "    'actfn':'linear',\n",
    "    'last_act':'softmax',\n",
    "    'reg_coeffs': [0.0],\n",
    "    'num_epoch': 30,\n",
    "    'batch_size': 1000,\n",
    "    'sgd_lr': 0.001,\n",
    "    'sgd_decays': [0.0],\n",
    "    'sgd_moms': [0.0],\n",
    "    'sgd_Nesterov': False,\n",
    "    'EStop': False,\n",
    "    'verbose': False\n",
    "}\n",
    "\n",
    "res = testmodels(X_tr, Y_tr, X_te, Y_te, archs, **args)\n",
    "\n",
    "archs = [[d_in, 50, d_out], [d_in, 500, d_out], [d_in, 500, 300, d_out],\n",
    "         [d_in, 800, 500, 300, d_out], [d_in, 800, 800, 500, 300, d_out]]\n",
    "res = testmodels(X_tr, Y_tr, X_te, Y_te, archs, **args)"
   ]
  },
  {
   "cell_type": "code",
   "execution_count": 12,
   "metadata": {
    "collapsed": false
   },
   "outputs": [
    {
     "name": "stdout",
     "output_type": "stream",
     "text": [
      "Score for architecture = [50, 50, 2], lambda = 0.0, decay = 0.0, momentum = 0.0, actfn = sigmoid: 0.72110098995\n",
      "Score for architecture = [50, 500, 2], lambda = 0.0, decay = 0.0, momentum = 0.0, actfn = sigmoid: 0.72110098995\n",
      "Score for architecture = [50, 500, 300, 2], lambda = 0.0, decay = 0.0, momentum = 0.0, actfn = sigmoid: 0.72110098995\n",
      "Score for architecture = [50, 800, 500, 300, 2], lambda = 0.0, decay = 0.0, momentum = 0.0, actfn = sigmoid: 0.72110098995\n",
      "Score for architecture = [50, 800, 800, 500, 300, 2], lambda = 0.0, decay = 0.0, momentum = 0.0, actfn = sigmoid: 0.72110098995\n",
      "Best Config: architecture = [50, 50, 2], lambda = 0.0, decay = 0.0, momentum = 0.0, actfn = sigmoid, best_acc = 0.72110098995\n"
     ]
    }
   ],
   "source": [
    "# (e)\n",
    "args['actfn'] = 'sigmoid'\n",
    "testmodels(X_tr, Y_tr, X_te, Y_te, archs, **args)"
   ]
  },
  {
   "cell_type": "code",
   "execution_count": 14,
   "metadata": {
    "collapsed": false
   },
   "outputs": [
    {
     "name": "stdout",
     "output_type": "stream",
     "text": [
      "Score for architecture = [50, 50, 2], lambda = 0.0, decay = 0.0, momentum = 0.0, actfn = relu: 0.732172375871\n",
      "Score for architecture = [50, 500, 2], lambda = 0.0, decay = 0.0, momentum = 0.0, actfn = relu: 0.76204204862\n",
      "Score for architecture = [50, 500, 300, 2], lambda = 0.0, decay = 0.0, momentum = 0.0, actfn = relu: 0.72110098995\n",
      "Score for architecture = [50, 800, 500, 300, 2], lambda = 0.0, decay = 0.0, momentum = 0.0, actfn = relu: 0.801022561908\n",
      "Score for architecture = [50, 800, 800, 500, 300, 2], lambda = 0.0, decay = 0.0, momentum = 0.0, actfn = relu: 0.757006112606\n",
      "Best Config: architecture = [50, 800, 500, 300, 2], lambda = 0.0, decay = 0.0, momentum = 0.0, actfn = relu, best_acc = 0.801022561908\n"
     ]
    }
   ],
   "source": [
    "# (f)\n",
    "args['actfn'] = 'relu'\n",
    "args['sgd_lr'] = 5e-4\n",
    "testmodels(X_tr, Y_tr, X_te, Y_te, archs, **args)"
   ]
  },
  {
   "cell_type": "code",
   "execution_count": 15,
   "metadata": {
    "collapsed": false
   },
   "outputs": [
    {
     "name": "stdout",
     "output_type": "stream",
     "text": [
      "Score for architecture = [50, 800, 800, 500, 300, 2], lambda = 1e-07, decay = 0.0, momentum = 0.0, actfn = relu: 0.765732525434\n",
      "Score for architecture = [50, 800, 800, 500, 300, 2], lambda = 5e-07, decay = 0.0, momentum = 0.0, actfn = relu: 0.72110098995\n",
      "Score for architecture = [50, 800, 800, 500, 300, 2], lambda = 1e-06, decay = 0.0, momentum = 0.0, actfn = relu: 0.721985158738\n",
      "Score for architecture = [50, 800, 800, 500, 300, 2], lambda = 5e-06, decay = 0.0, momentum = 0.0, actfn = relu: 0.772652131367\n",
      "Score for architecture = [50, 800, 800, 500, 300, 2], lambda = 1e-05, decay = 0.0, momentum = 0.0, actfn = relu: 0.721293201353\n",
      "Best Config: architecture = [50, 800, 800, 500, 300, 2], lambda = 5e-06, decay = 0.0, momentum = 0.0, actfn = relu, best_acc = 0.772652131367\n"
     ]
    }
   ],
   "source": [
    "# (g)\n",
    "archs = [[d_in, 800, 800, 500, 300, d_out]]\n",
    "args['reg_coeffs'] = [1e-7, 5e-7, 1e-6, 5e-6, 1e-5]\n",
    "testmodels(X_tr, Y_tr, X_te, Y_te, archs, **args)"
   ]
  },
  {
   "cell_type": "code",
   "execution_count": 16,
   "metadata": {
    "collapsed": false
   },
   "outputs": [
    {
     "name": "stdout",
     "output_type": "stream",
     "text": [
      "Epoch 00012: early stopping\n",
      "Score for architecture = [50, 800, 800, 500, 300, 2], lambda = 1e-07, decay = 0.0, momentum = 0.0, actfn = relu: 0.721216319999\n",
      "Epoch 00008: early stopping\n",
      "Score for architecture = [50, 800, 800, 500, 300, 2], lambda = 5e-07, decay = 0.0, momentum = 0.0, actfn = relu: 0.721446970934\n",
      "Epoch 00023: early stopping\n",
      "Score for architecture = [50, 800, 800, 500, 300, 2], lambda = 1e-06, decay = 0.0, momentum = 0.0, actfn = relu: 0.738822892324\n",
      "Epoch 00011: early stopping\n",
      "Score for architecture = [50, 800, 800, 500, 300, 2], lambda = 5e-06, decay = 0.0, momentum = 0.0, actfn = relu: 0.72110098995\n",
      "Epoch 00021: early stopping\n",
      "Score for architecture = [50, 800, 800, 500, 300, 2], lambda = 1e-05, decay = 0.0, momentum = 0.0, actfn = relu: 0.729481417211\n",
      "Best Config: architecture = [50, 800, 800, 500, 300, 2], lambda = 1e-06, decay = 0.0, momentum = 0.0, actfn = relu, best_acc = 0.738822892324\n"
     ]
    }
   ],
   "source": [
    "# (h)\n",
    "args['EStop'] = True\n",
    "testmodels(X_tr, Y_tr, X_te, Y_te, archs, **args)"
   ]
  },
  {
   "cell_type": "code",
   "execution_count": 17,
   "metadata": {
    "collapsed": false
   },
   "outputs": [
    {
     "name": "stdout",
     "output_type": "stream",
     "text": [
      "Score for architecture = [50, 800, 800, 500, 300, 2], lambda = 5e-07, decay = 1e-05, momentum = 0.0, actfn = relu: 0.72575250774\n",
      "Score for architecture = [50, 800, 800, 500, 300, 2], lambda = 5e-07, decay = 5e-05, momentum = 0.0, actfn = relu: 0.58363126684\n",
      "Score for architecture = [50, 800, 800, 500, 300, 2], lambda = 5e-07, decay = 0.0001, momentum = 0.0, actfn = relu: 0.709260752355\n",
      "Score for architecture = [50, 800, 800, 500, 300, 2], lambda = 5e-07, decay = 0.0003, momentum = 0.0, actfn = relu: 0.685080537564\n",
      "Score for architecture = [50, 800, 800, 500, 300, 2], lambda = 5e-07, decay = 0.0007, momentum = 0.0, actfn = relu: 0.653673160013\n",
      "Score for architecture = [50, 800, 800, 500, 300, 2], lambda = 5e-07, decay = 0.001, momentum = 0.0, actfn = relu: 0.473186485455\n",
      "Best Config: architecture = [50, 800, 800, 500, 300, 2], lambda = 5e-07, decay = 1e-05, momentum = 0.0, actfn = relu, best_acc = 0.72575250774\n"
     ]
    }
   ],
   "source": [
    "# (i)\n",
    "args['reg_coeffs'] = [5e-7]\n",
    "args['num_epoch'] = 100\n",
    "args['sgd_lr'] = 1e-5\n",
    "args['sgd_decays'] = [1e-5, 5e-5, 1e-4, 3e-4, 7e-4, 1e-3]\n",
    "args['EStop'] = False\n",
    "testmodels(X_tr, Y_tr, X_te, Y_te, archs, **args)"
   ]
  },
  {
   "cell_type": "code",
   "execution_count": 18,
   "metadata": {
    "collapsed": false
   },
   "outputs": [
    {
     "name": "stdout",
     "output_type": "stream",
     "text": [
      "Score for architecture = [50, 800, 800, 500, 300, 2], lambda = 0.0, decay = 1e-05, momentum = 0.99, actfn = relu: 0.721177875886\n",
      "Score for architecture = [50, 800, 800, 500, 300, 2], lambda = 0.0, decay = 1e-05, momentum = 0.98, actfn = relu: 0.763272207558\n",
      "Score for architecture = [50, 800, 800, 500, 300, 2], lambda = 0.0, decay = 1e-05, momentum = 0.95, actfn = relu: 0.781186320843\n",
      "Score for architecture = [50, 800, 800, 500, 300, 2], lambda = 0.0, decay = 1e-05, momentum = 0.9, actfn = relu: 0.767193328432\n",
      "Score for architecture = [50, 800, 800, 500, 300, 2], lambda = 0.0, decay = 1e-05, momentum = 0.85, actfn = relu: 0.709106982281\n",
      "Best Config: architecture = [50, 800, 800, 500, 300, 2], lambda = 0.0, decay = 1e-05, momentum = 0.95, actfn = relu, best_acc = 0.781186320843\n"
     ]
    }
   ],
   "source": [
    "# (j)\n",
    "args['reg_coeffs'] = [0.0]\n",
    "args['num_epoch'] = 50\n",
    "args['sgd_decays'] = [1e-5] # TODO: get this from the best value of previous step\n",
    "args['sgd_Nesterov'] = True\n",
    "args['sgd_moms']= [0.99, 0.98, 0.95, 0.9, 0.85]\n",
    "testmodels(X_tr, Y_tr, X_te, Y_te, archs, **args)\n"
   ]
  },
  {
   "cell_type": "code",
   "execution_count": 19,
   "metadata": {
    "collapsed": false
   },
   "outputs": [
    {
     "name": "stdout",
     "output_type": "stream",
     "text": [
      "Epoch 00038: early stopping\n",
      "Score for architecture = [50, 800, 800, 500, 300, 2], lambda = 5e-06, decay = 1e-05, momentum = 0.95, actfn = relu: 0.732633681016\n",
      "Best Config: architecture = [50, 800, 800, 500, 300, 2], lambda = 5e-06, decay = 1e-05, momentum = 0.95, actfn = relu, best_acc = 0.732633681016\n"
     ]
    }
   ],
   "source": [
    "# (k)\n",
    "\n",
    "args['num_epoch'] = 100\n",
    "args['sgd_lr'] = 1e-5\n",
    "args['sgd_decays'] = [1e-5] # TODO: get this from the best value of previous step\n",
    "args['sgd_Nesterov'] = True\n",
    "args['EStop'] = True\n",
    "\n",
    "#TODO: Best values from previous steps\n",
    "args['sgd_decays'] = [1e-5]\n",
    "args['sgd_moms']= [0.95]\n",
    "args['reg_coeffs'] = [5e-06]\n",
    "\n",
    "testmodels(X_tr, Y_tr, X_te, Y_te, archs, **args)"
   ]
  },
  {
   "cell_type": "code",
   "execution_count": 20,
   "metadata": {
    "collapsed": false
   },
   "outputs": [
    {
     "name": "stdout",
     "output_type": "stream",
     "text": [
      "Epoch 00092: early stopping\n",
      "Score for architecture = [50, 50, 2], lambda = 1e-07, decay = 1e-05, momentum = 0.99, actfn = relu: 0.79087379118\n",
      "Epoch 00061: early stopping\n",
      "Score for architecture = [50, 50, 2], lambda = 1e-07, decay = 5e-05, momentum = 0.99, actfn = relu: 0.788990122568\n",
      "Score for architecture = [50, 50, 2], lambda = 1e-07, decay = 0.0001, momentum = 0.99, actfn = relu: 0.768577251876\n",
      "Epoch 00064: early stopping\n",
      "Score for architecture = [50, 50, 2], lambda = 5e-07, decay = 1e-05, momentum = 0.99, actfn = relu: 0.812017069752\n",
      "Epoch 00092: early stopping\n",
      "Score for architecture = [50, 50, 2], lambda = 5e-07, decay = 5e-05, momentum = 0.99, actfn = relu: 0.82773997036\n",
      "Epoch 00096: early stopping\n",
      "Score for architecture = [50, 50, 2], lambda = 5e-07, decay = 0.0001, momentum = 0.99, actfn = relu: 0.796755460542\n",
      "Epoch 00070: early stopping\n",
      "Score for architecture = [50, 50, 2], lambda = 1e-06, decay = 1e-05, momentum = 0.99, actfn = relu: 0.764656131494\n",
      "Epoch 00051: early stopping\n",
      "Score for architecture = [50, 50, 2], lambda = 1e-06, decay = 5e-05, momentum = 0.99, actfn = relu: 0.80452082143\n",
      "Epoch 00033: early stopping\n",
      "Score for architecture = [50, 50, 2], lambda = 1e-06, decay = 0.0001, momentum = 0.99, actfn = relu: 0.727713065886\n",
      "Score for architecture = [50, 50, 2], lambda = 5e-06, decay = 1e-05, momentum = 0.99, actfn = relu: 0.786452928414\n",
      "Epoch 00071: early stopping\n",
      "Score for architecture = [50, 50, 2], lambda = 5e-06, decay = 5e-05, momentum = 0.99, actfn = relu: 0.789259214018\n",
      "Score for architecture = [50, 50, 2], lambda = 5e-06, decay = 0.0001, momentum = 0.99, actfn = relu: 0.777034558692\n",
      "Epoch 00057: early stopping\n",
      "Score for architecture = [50, 50, 2], lambda = 1e-05, decay = 1e-05, momentum = 0.99, actfn = relu: 0.837658098012\n",
      "Epoch 00084: early stopping\n",
      "Score for architecture = [50, 50, 2], lambda = 1e-05, decay = 5e-05, momentum = 0.99, actfn = relu: 0.829585207128\n",
      "Epoch 00044: early stopping\n",
      "Score for architecture = [50, 50, 2], lambda = 1e-05, decay = 0.0001, momentum = 0.99, actfn = relu: 0.807634645211\n",
      "Epoch 00078: early stopping\n",
      "Score for architecture = [50, 500, 2], lambda = 1e-07, decay = 1e-05, momentum = 0.99, actfn = relu: 0.794333607894\n",
      "Epoch 00051: early stopping\n",
      "Score for architecture = [50, 500, 2], lambda = 1e-07, decay = 5e-05, momentum = 0.99, actfn = relu: 0.812401493051\n",
      "Epoch 00054: early stopping\n",
      "Score for architecture = [50, 500, 2], lambda = 1e-07, decay = 0.0001, momentum = 0.99, actfn = relu: 0.804021068574\n",
      "Epoch 00039: early stopping\n",
      "Score for architecture = [50, 500, 2], lambda = 5e-07, decay = 1e-05, momentum = 0.99, actfn = relu: 0.784876788984\n",
      "Epoch 00079: early stopping\n",
      "Score for architecture = [50, 500, 2], lambda = 5e-07, decay = 5e-05, momentum = 0.99, actfn = relu: 0.796909235198\n",
      "Score for architecture = [50, 500, 2], lambda = 5e-07, decay = 0.0001, momentum = 0.99, actfn = relu: 0.799600199426\n",
      "Epoch 00051: early stopping\n",
      "Score for architecture = [50, 500, 2], lambda = 1e-06, decay = 1e-05, momentum = 0.99, actfn = relu: 0.794064508264\n",
      "Epoch 00050: early stopping\n",
      "Score for architecture = [50, 500, 2], lambda = 1e-06, decay = 5e-05, momentum = 0.99, actfn = relu: 0.796217280104\n",
      "Epoch 00056: early stopping\n",
      "Score for architecture = [50, 500, 2], lambda = 1e-06, decay = 0.0001, momentum = 0.99, actfn = relu: 0.782416484856\n",
      "Epoch 00068: early stopping\n",
      "Score for architecture = [50, 500, 2], lambda = 5e-06, decay = 1e-05, momentum = 0.99, actfn = relu: 0.80109945112\n",
      "Epoch 00059: early stopping\n",
      "Score for architecture = [50, 500, 2], lambda = 5e-06, decay = 5e-05, momentum = 0.99, actfn = relu: 0.794218268679\n",
      "Score for architecture = [50, 500, 2], lambda = 5e-06, decay = 0.0001, momentum = 0.99, actfn = relu: 0.806750479206\n",
      "Epoch 00072: early stopping\n",
      "Score for architecture = [50, 500, 2], lambda = 1e-05, decay = 1e-05, momentum = 0.99, actfn = relu: 0.800061512258\n",
      "Epoch 00035: early stopping\n",
      "Score for architecture = [50, 500, 2], lambda = 1e-05, decay = 5e-05, momentum = 0.99, actfn = relu: 0.80109945112\n",
      "Epoch 00079: early stopping\n",
      "Score for architecture = [50, 500, 2], lambda = 1e-05, decay = 0.0001, momentum = 0.99, actfn = relu: 0.795333099859\n",
      "Epoch 00073: early stopping\n",
      "Score for architecture = [50, 500, 300, 2], lambda = 1e-07, decay = 1e-05, momentum = 0.99, actfn = relu: 0.771844843932\n",
      "Epoch 00025: early stopping\n",
      "Score for architecture = [50, 500, 300, 2], lambda = 1e-07, decay = 5e-05, momentum = 0.99, actfn = relu: 0.721408529111\n",
      "Score for architecture = [50, 500, 300, 2], lambda = 1e-07, decay = 0.0001, momentum = 0.99, actfn = relu: 0.788682577517\n",
      "Epoch 00091: early stopping\n",
      "Score for architecture = [50, 500, 300, 2], lambda = 5e-07, decay = 1e-05, momentum = 0.99, actfn = relu: 0.789758962292\n",
      "Epoch 00019: early stopping\n",
      "Score for architecture = [50, 500, 300, 2], lambda = 5e-07, decay = 5e-05, momentum = 0.99, actfn = relu: 0.788375049812\n",
      "Epoch 00034: early stopping\n",
      "Score for architecture = [50, 500, 300, 2], lambda = 5e-07, decay = 0.0001, momentum = 0.99, actfn = relu: 0.805059008742\n",
      "Epoch 00086: early stopping\n",
      "Score for architecture = [50, 500, 300, 2], lambda = 1e-06, decay = 1e-05, momentum = 0.99, actfn = relu: 0.776035057563\n",
      "Epoch 00017: early stopping\n",
      "Score for architecture = [50, 500, 300, 2], lambda = 1e-06, decay = 5e-05, momentum = 0.99, actfn = relu: 0.721408529111\n",
      "Epoch 00021: early stopping\n",
      "Score for architecture = [50, 500, 300, 2], lambda = 1e-06, decay = 0.0001, momentum = 0.99, actfn = relu: 0.791142890811\n",
      "Epoch 00031: early stopping\n",
      "Score for architecture = [50, 500, 300, 2], lambda = 5e-06, decay = 1e-05, momentum = 0.99, actfn = relu: 0.79141199224\n",
      "Epoch 00035: early stopping\n",
      "Score for architecture = [50, 500, 300, 2], lambda = 5e-06, decay = 5e-05, momentum = 0.99, actfn = relu: 0.7744204822\n",
      "Score for architecture = [50, 500, 300, 2], lambda = 5e-06, decay = 0.0001, momentum = 0.99, actfn = relu: 0.784223273421\n",
      "Epoch 00024: early stopping\n",
      "Score for architecture = [50, 500, 300, 2], lambda = 1e-05, decay = 1e-05, momentum = 0.99, actfn = relu: 0.720793446205\n",
      "Epoch 00021: early stopping\n",
      "Score for architecture = [50, 500, 300, 2], lambda = 1e-05, decay = 5e-05, momentum = 0.99, actfn = relu: 0.721408529111\n",
      "Epoch 00029: early stopping\n",
      "Score for architecture = [50, 500, 300, 2], lambda = 1e-05, decay = 0.0001, momentum = 0.99, actfn = relu: 0.721177873594\n",
      "Epoch 00022: early stopping\n",
      "Score for architecture = [50, 800, 500, 300, 2], lambda = 1e-07, decay = 1e-05, momentum = 0.99, actfn = relu: 0.72240802795\n",
      "Epoch 00022: early stopping\n",
      "Score for architecture = [50, 800, 500, 300, 2], lambda = 1e-07, decay = 5e-05, momentum = 0.99, actfn = relu: 0.773075005161\n",
      "Epoch 00011: early stopping\n",
      "Score for architecture = [50, 800, 500, 300, 2], lambda = 1e-07, decay = 0.0001, momentum = 0.99, actfn = relu: 0.722215816546\n",
      "Epoch 00013: early stopping\n",
      "Score for architecture = [50, 800, 500, 300, 2], lambda = 5e-07, decay = 1e-05, momentum = 0.99, actfn = relu: 0.72110098995\n",
      "Epoch 00033: early stopping\n",
      "Score for architecture = [50, 800, 500, 300, 2], lambda = 5e-07, decay = 5e-05, momentum = 0.99, actfn = relu: 0.738592243681\n",
      "Epoch 00028: early stopping\n",
      "Score for architecture = [50, 800, 500, 300, 2], lambda = 5e-07, decay = 0.0001, momentum = 0.99, actfn = relu: 0.786875791244\n",
      "Epoch 00028: early stopping\n",
      "Score for architecture = [50, 800, 500, 300, 2], lambda = 1e-06, decay = 1e-05, momentum = 0.99, actfn = relu: 0.721139429481\n",
      "Epoch 00016: early stopping\n",
      "Score for architecture = [50, 800, 500, 300, 2], lambda = 1e-06, decay = 5e-05, momentum = 0.99, actfn = relu: 0.721331638592\n",
      "Epoch 00026: early stopping\n",
      "Score for architecture = [50, 800, 500, 300, 2], lambda = 1e-06, decay = 0.0001, momentum = 0.99, actfn = relu: 0.759351088975\n",
      "Epoch 00007: early stopping\n",
      "Score for architecture = [50, 800, 500, 300, 2], lambda = 5e-06, decay = 1e-05, momentum = 0.99, actfn = relu: 0.72110098995\n",
      "Epoch 00023: early stopping\n",
      "Score for architecture = [50, 800, 500, 300, 2], lambda = 5e-06, decay = 5e-05, momentum = 0.99, actfn = relu: 0.722215816546\n",
      "Epoch 00019: early stopping\n",
      "Score for architecture = [50, 800, 500, 300, 2], lambda = 5e-06, decay = 0.0001, momentum = 0.99, actfn = relu: 0.759427979494\n",
      "Epoch 00021: early stopping\n",
      "Score for architecture = [50, 800, 500, 300, 2], lambda = 1e-05, decay = 1e-05, momentum = 0.99, actfn = relu: 0.731095994373\n",
      "Epoch 00012: early stopping\n",
      "Score for architecture = [50, 800, 500, 300, 2], lambda = 1e-05, decay = 5e-05, momentum = 0.99, actfn = relu: 0.726213818281\n",
      "Epoch 00019: early stopping\n",
      "Score for architecture = [50, 800, 500, 300, 2], lambda = 1e-05, decay = 0.0001, momentum = 0.99, actfn = relu: 0.802637144637\n",
      "Epoch 00007: early stopping\n",
      "Score for architecture = [50, 800, 800, 500, 300, 2], lambda = 1e-07, decay = 1e-05, momentum = 0.99, actfn = relu: 0.730519353289\n",
      "Epoch 00021: early stopping\n",
      "Score for architecture = [50, 800, 800, 500, 300, 2], lambda = 1e-07, decay = 5e-05, momentum = 0.99, actfn = relu: 0.737669628487\n",
      "Epoch 00014: early stopping\n",
      "Score for architecture = [50, 800, 800, 500, 300, 2], lambda = 1e-07, decay = 0.0001, momentum = 0.99, actfn = relu: 0.724445467449\n",
      "Epoch 00019: early stopping\n",
      "Score for architecture = [50, 800, 800, 500, 300, 2], lambda = 5e-07, decay = 1e-05, momentum = 0.99, actfn = relu: 0.727443968547\n",
      "Epoch 00012: early stopping\n",
      "Score for architecture = [50, 800, 800, 500, 300, 2], lambda = 5e-07, decay = 5e-05, momentum = 0.99, actfn = relu: 0.72110098995\n",
      "Epoch 00021: early stopping\n",
      "Score for architecture = [50, 800, 800, 500, 300, 2], lambda = 5e-07, decay = 0.0001, momentum = 0.99, actfn = relu: 0.791488874086\n",
      "Epoch 00020: early stopping\n",
      "Score for architecture = [50, 800, 800, 500, 300, 2], lambda = 1e-06, decay = 1e-05, momentum = 0.99, actfn = relu: 0.737208323835\n",
      "Epoch 00020: early stopping\n",
      "Score for architecture = [50, 800, 800, 500, 300, 2], lambda = 1e-06, decay = 5e-05, momentum = 0.99, actfn = relu: 0.72110098995\n",
      "Epoch 00018: early stopping\n",
      "Score for architecture = [50, 800, 800, 500, 300, 2], lambda = 1e-06, decay = 0.0001, momentum = 0.99, actfn = relu: 0.732749011066\n",
      "Epoch 00012: early stopping\n",
      "Score for architecture = [50, 800, 800, 500, 300, 2], lambda = 5e-06, decay = 1e-05, momentum = 0.99, actfn = relu: 0.726136930547\n",
      "Epoch 00019: early stopping\n",
      "Score for architecture = [50, 800, 800, 500, 300, 2], lambda = 5e-06, decay = 5e-05, momentum = 0.99, actfn = relu: 0.782493373084\n",
      "Epoch 00007: early stopping\n",
      "Score for architecture = [50, 800, 800, 500, 300, 2], lambda = 5e-06, decay = 0.0001, momentum = 0.99, actfn = relu: 0.72110098995\n",
      "Epoch 00026: early stopping\n",
      "Score for architecture = [50, 800, 800, 500, 300, 2], lambda = 1e-05, decay = 1e-05, momentum = 0.99, actfn = relu: 0.74685733631\n",
      "Epoch 00017: early stopping\n",
      "Score for architecture = [50, 800, 800, 500, 300, 2], lambda = 1e-05, decay = 5e-05, momentum = 0.99, actfn = relu: 0.72110098995\n",
      "Epoch 00013: early stopping\n",
      "Score for architecture = [50, 800, 800, 500, 300, 2], lambda = 1e-05, decay = 0.0001, momentum = 0.99, actfn = relu: 0.757659637334\n",
      "Best Config: architecture = [50, 50, 2], lambda = 1e-05, decay = 1e-05, momentum = 0.99, actfn = relu, best_acc = 0.837658098012\n"
     ]
    }
   ],
   "source": [
    "# (l) Grid Search\n",
    "archs = [[d_in, 50, d_out], [d_in, 500, d_out], [d_in, 500, 300, d_out],\n",
    "         [d_in, 800, 500, 300, d_out], [d_in, 800, 800, 500, 300, d_out]]\n",
    "args = {\n",
    "    'actfn':'relu',\n",
    "    'last_act':'softmax',\n",
    "    'num_epoch': 100,\n",
    "    'batch_size': 1000,\n",
    "    'sgd_lr': 1e-5,\n",
    "    'sgd_Nesterov': True,\n",
    "    'sgd_moms': [0.99],\n",
    "    'EStop': True,\n",
    "    'verbose': False,\n",
    "    'reg_coeffs': [1e-7, 5e-7, 1e-6, 5e-6, 1e-5],\n",
    "    'sgd_decays': [1e-5, 5e-5, 1e-4],\n",
    "}\n",
    "testmodels(X_tr, Y_tr, X_te, Y_te, archs, **args)"
   ]
  },
  {
   "cell_type": "code",
   "execution_count": null,
   "metadata": {
    "collapsed": true
   },
   "outputs": [],
   "source": []
  }
 ],
 "metadata": {
  "anaconda-cloud": {},
  "kernelspec": {
   "display_name": "Python [conda root]",
   "language": "python",
   "name": "conda-root-py"
  },
  "language_info": {
   "codemirror_mode": {
    "name": "ipython",
    "version": 2
   },
   "file_extension": ".py",
   "mimetype": "text/x-python",
   "name": "python",
   "nbconvert_exporter": "python",
   "pygments_lexer": "ipython2",
   "version": "2.7.12"
  }
 },
 "nbformat": 4,
 "nbformat_minor": 1
}
