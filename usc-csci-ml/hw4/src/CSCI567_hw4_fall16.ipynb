{
 "cells": [
  {
   "cell_type": "code",
   "execution_count": 1,
   "metadata": {
    "collapsed": false
   },
   "outputs": [
    {
     "name": "stderr",
     "output_type": "stream",
     "text": [
      "Using Theano backend.\n"
     ]
    }
   ],
   "source": [
    "from hw_utils import *\n",
    "from copy import copy\n"
   ]
  },
  {
   "cell_type": "code",
   "execution_count": 2,
   "metadata": {
    "collapsed": true
   },
   "outputs": [],
   "source": [
    "# Variables\n",
    "\n",
    "data_path = '../data/MiniBooNE_PID.txt'"
   ]
  },
  {
   "cell_type": "markdown",
   "metadata": {},
   "source": [
    "## Load Data"
   ]
  },
  {
   "cell_type": "code",
   "execution_count": 3,
   "metadata": {
    "collapsed": false
   },
   "outputs": [
    {
     "name": "stdout",
     "output_type": "stream",
     "text": [
      "Train X, Y : (104051, 50) (104051, 2)\n",
      "Test  X, Y : (26013, 50) (26013, 2)\n"
     ]
    },
    {
     "name": "stderr",
     "output_type": "stream",
     "text": [
      "/Users/thammegr/anaconda/lib/python2.7/site-packages/keras/utils/np_utils.py:14: VisibleDeprecationWarning: using a non-integer number instead of an integer will result in an error in the future\n",
      "  Y = np.zeros((len(y), nb_classes))\n",
      "/Users/thammegr/anaconda/lib/python2.7/site-packages/keras/utils/np_utils.py:16: VisibleDeprecationWarning: using a non-integer number instead of an integer will result in an error in the future\n",
      "  Y[i, y[i]] = 1.\n"
     ]
    }
   ],
   "source": [
    "## (c)\n",
    "X_tr, Y_tr, X_te, Y_te = loaddata(data_path)\n",
    "print \"Train X, Y :\", X_tr.shape, Y_tr.shape\n",
    "print \"Test  X, Y :\", X_te.shape, Y_te.shape\n",
    "X_tr, X_te = normalize(X_tr, X_te)\n",
    "d_in = X_tr.shape[1] # input features\n",
    "d_out = Y_tr.shape[1] # Output predictions"
   ]
  },
  {
   "cell_type": "code",
   "execution_count": 4,
   "metadata": {
    "collapsed": false
   },
   "outputs": [
    {
     "name": "stdout",
     "output_type": "stream",
     "text": [
      "Train X, Y : (100, 50) (100, 2)\n",
      "\n",
      "\n",
      "## (d) Linear Activation \n",
      "architecture=[50, 2], lambda=0.0, decay=0.0, momentum=0.0, actfn=linear: score=0.65000000596 | time=1.86916589737\n",
      "architecture=[50, 50, 2], lambda=0.0, decay=0.0, momentum=0.0, actfn=linear: score=0.90000000596 | time=0.925344944\n",
      "architecture=[50, 50, 50, 2], lambda=0.0, decay=0.0, momentum=0.0, actfn=linear: score=0.799999982119 | time=1.17178320885\n",
      "architecture=[50, 50, 50, 50, 2], lambda=0.0, decay=0.0, momentum=0.0, actfn=linear: score=0.84999999404 | time=1.22634387016\n",
      "Best Config: architecture = [50, 50, 2], lambda = 0.0, decay = 0.0, momentum = 0.0, actfn = linear, best_acc = 0.90000000596\n",
      "Mean Time = 1.29815948009seconds, |Models| = 4, Total Time = 5.19263792038seconds\n",
      "architecture=[50, 50, 2], lambda=0.0, decay=0.0, momentum=0.0, actfn=linear: score=0.90000000596 | time=1.06496405602\n",
      "architecture=[50, 500, 2], lambda=0.0, decay=0.0, momentum=0.0, actfn=linear: score=0.84999999404 | time=0.992525100708\n",
      "architecture=[50, 500, 300, 2], lambda=0.0, decay=0.0, momentum=0.0, actfn=linear: score=0.899999976158 | time=1.31494212151\n",
      "architecture=[50, 800, 500, 300, 2], lambda=0.0, decay=0.0, momentum=0.0, actfn=linear: score=0.899999976158 | time=1.4492418766\n",
      "architecture=[50, 800, 800, 500, 300, 2], lambda=0.0, decay=0.0, momentum=0.0, actfn=linear: score=0.899999976158 | time=2.16674518585\n",
      "Best Config: architecture = [50, 50, 2], lambda = 0.0, decay = 0.0, momentum = 0.0, actfn = linear, best_acc = 0.90000000596\n",
      "Mean Time = 1.39768366814seconds, |Models| = 5, Total Time = 6.98841834068seconds\n"
     ]
    }
   ],
   "source": [
    "## (d)\n",
    "\n",
    "# default args\n",
    "args = {\n",
    "    'actfn':'linear',\n",
    "    'last_act':'softmax',\n",
    "    'reg_coeffs': [0.0],\n",
    "    'num_epoch': 30,\n",
    "    'batch_size': 1000,\n",
    "    'sgd_lr': 0.001,\n",
    "    'sgd_decays': [0.0],\n",
    "    'sgd_moms': [0.0],\n",
    "    'sgd_Nesterov': False,\n",
    "    'EStop': False,\n",
    "    'verbose': False\n",
    "}\n",
    "\n",
    "# FIXME: BEGIN : For quick testing.. Remove this later\n",
    "args['batch_size'] = 10\n",
    "X_tr, Y_tr = X_tr[0:100], Y_tr[:100]\n",
    "X_te, Y_te = X_te[0:20], Y_te[:20]\n",
    "print \"Train X, Y :\", X_tr.shape, Y_tr.shape\n",
    "\n",
    "# FIXME: END\n",
    "\n",
    "print(\"\\n\\n## (d) Linear Activation \")\n",
    "archs = [[d_in, d_out], [d_in, 50, d_out], [d_in, 50, 50, d_out], [d_in, 50, 50, 50, d_out]]\n",
    "res = testmodels(X_tr, Y_tr, X_te, Y_te, archs, **args)\n",
    "\n",
    "archs = [[d_in, 50, d_out], [d_in, 500, d_out], [d_in, 500, 300, d_out],\n",
    "         [d_in, 800, 500, 300, d_out], [d_in, 800, 800, 500, 300, d_out]]\n",
    "res = testmodels(X_tr, Y_tr, X_te, Y_te, archs, **args)"
   ]
  },
  {
   "cell_type": "code",
   "execution_count": 5,
   "metadata": {
    "collapsed": false
   },
   "outputs": [
    {
     "name": "stdout",
     "output_type": "stream",
     "text": [
      "\n",
      "\n",
      "## (e) Sigmoid Activation\n",
      "architecture=[50, 50, 2], lambda=0.0, decay=0.0, momentum=0.0, actfn=sigmoid: score=0.59999999404 | time=0.977607965469\n",
      "architecture=[50, 500, 2], lambda=0.0, decay=0.0, momentum=0.0, actfn=sigmoid: score=0.59999999404 | time=1.02421379089\n",
      "architecture=[50, 500, 300, 2], lambda=0.0, decay=0.0, momentum=0.0, actfn=sigmoid: score=0.59999999404 | time=1.30875492096\n",
      "architecture=[50, 800, 500, 300, 2], lambda=0.0, decay=0.0, momentum=0.0, actfn=sigmoid: score=0.59999999404 | time=1.70223593712\n",
      "architecture=[50, 800, 800, 500, 300, 2], lambda=0.0, decay=0.0, momentum=0.0, actfn=sigmoid: score=0.59999999404 | time=2.83162212372\n",
      "Best Config: architecture = [50, 50, 2], lambda = 0.0, decay = 0.0, momentum = 0.0, actfn = sigmoid, best_acc = 0.59999999404\n",
      "Mean Time = 1.56888694763seconds, |Models| = 5, Total Time = 7.84443473816seconds\n"
     ]
    }
   ],
   "source": [
    "# (e)\n",
    "print(\"\\n\\n## (e) Sigmoid Activation\")\n",
    "args['actfn'] = 'sigmoid'\n",
    "_ = testmodels(X_tr, Y_tr, X_te, Y_te, archs, **args)"
   ]
  },
  {
   "cell_type": "code",
   "execution_count": 6,
   "metadata": {
    "collapsed": false
   },
   "outputs": [
    {
     "name": "stdout",
     "output_type": "stream",
     "text": [
      "\n",
      "\n",
      "## (f) ReLu Activation\n",
      "architecture=[50, 50, 2], lambda=0.0, decay=0.0, momentum=0.0, actfn=relu: score=0.550000011921 | time=1.23269987106\n",
      "architecture=[50, 500, 2], lambda=0.0, decay=0.0, momentum=0.0, actfn=relu: score=0.84999999404 | time=0.984317064285\n",
      "architecture=[50, 500, 300, 2], lambda=0.0, decay=0.0, momentum=0.0, actfn=relu: score=0.800000011921 | time=1.41553783417\n",
      "architecture=[50, 800, 500, 300, 2], lambda=0.0, decay=0.0, momentum=0.0, actfn=relu: score=0.700000017881 | time=1.92823719978\n",
      "architecture=[50, 800, 800, 500, 300, 2], lambda=0.0, decay=0.0, momentum=0.0, actfn=relu: score=0.59999999404 | time=2.5575799942\n",
      "Best Config: architecture = [50, 500, 2], lambda = 0.0, decay = 0.0, momentum = 0.0, actfn = relu, best_acc = 0.84999999404\n",
      "Mean Time = 1.6236743927seconds, |Models| = 5, Total Time = 8.1183719635seconds\n"
     ]
    }
   ],
   "source": [
    "# (f)\n",
    "print(\"\\n\\n## (f) ReLu Activation\")\n",
    "args['actfn'] = 'relu'\n",
    "args['sgd_lr'] = 5e-4\n",
    "_ = testmodels(X_tr, Y_tr, X_te, Y_te, archs, **args)"
   ]
  },
  {
   "cell_type": "code",
   "execution_count": 7,
   "metadata": {
    "collapsed": false
   },
   "outputs": [
    {
     "name": "stdout",
     "output_type": "stream",
     "text": [
      "\n",
      "\n",
      "## (g) Regularization Coefficients\n",
      "architecture=[50, 800, 500, 300, 2], lambda=1e-07, decay=0.0, momentum=0.0, actfn=relu: score=0.65000000596 | time=3.26436805725\n",
      "architecture=[50, 800, 500, 300, 2], lambda=5e-07, decay=0.0, momentum=0.0, actfn=relu: score=0.59999999404 | time=3.47442913055\n",
      "architecture=[50, 800, 500, 300, 2], lambda=1e-06, decay=0.0, momentum=0.0, actfn=relu: score=0.59999999404 | time=3.42006278038\n",
      "architecture=[50, 800, 500, 300, 2], lambda=5e-06, decay=0.0, momentum=0.0, actfn=relu: score=0.700000017881 | time=3.3063929081\n",
      "architecture=[50, 800, 500, 300, 2], lambda=1e-05, decay=0.0, momentum=0.0, actfn=relu: score=0.59999999404 | time=3.420814991\n",
      "Best Config: architecture = [50, 800, 500, 300, 2], lambda = 5e-06, decay = 0.0, momentum = 0.0, actfn = relu, best_acc = 0.700000017881\n",
      "Mean Time = 3.37721357346seconds, |Models| = 5, Total Time = 16.8860678673seconds\n",
      "('Best Regularization Coefficient=', 5e-06)\n"
     ]
    }
   ],
   "source": [
    "# (g)\n",
    "print(\"\\n\\n## (g) Regularization Coefficients\")\n",
    "archs = [[d_in, 800, 500, 300, d_out]]\n",
    "args['reg_coeffs'] = [1e-7, 5e-7, 1e-6, 5e-6, 1e-5]\n",
    "best, _ = testmodels(X_tr, Y_tr, X_te, Y_te, archs, **args)\n",
    "best_lambda_noEstop = best[1]\n",
    "print(\"Best Regularization Coefficient=\", best_lambda_noEstop)"
   ]
  },
  {
   "cell_type": "code",
   "execution_count": 8,
   "metadata": {
    "collapsed": false
   },
   "outputs": [
    {
     "name": "stdout",
     "output_type": "stream",
     "text": [
      "\n",
      "\n",
      "## (h) Regularization Coefficients -- Early stop\n",
      "Epoch 00022: early stopping\n",
      "architecture=[50, 800, 500, 300, 2], lambda=1e-07, decay=0.0, momentum=0.0, actfn=relu: score=0.800000011921 | time=2.89277601242\n",
      "Epoch 00007: early stopping\n",
      "architecture=[50, 800, 500, 300, 2], lambda=5e-07, decay=0.0, momentum=0.0, actfn=relu: score=0.59999999404 | time=2.30634999275\n",
      "Epoch 00007: early stopping\n",
      "architecture=[50, 800, 500, 300, 2], lambda=1e-06, decay=0.0, momentum=0.0, actfn=relu: score=0.800000011921 | time=2.31239390373\n",
      "Epoch 00020: early stopping\n",
      "architecture=[50, 800, 500, 300, 2], lambda=5e-06, decay=0.0, momentum=0.0, actfn=relu: score=0.799999982119 | time=2.92426681519\n",
      "Epoch 00007: early stopping\n",
      "architecture=[50, 800, 500, 300, 2], lambda=1e-05, decay=0.0, momentum=0.0, actfn=relu: score=0.59999999404 | time=2.315128088\n",
      "Best Config: architecture = [50, 800, 500, 300, 2], lambda = 1e-07, decay = 0.0, momentum = 0.0, actfn = relu, best_acc = 0.800000011921\n",
      "Mean Time = 2.55018296242seconds, |Models| = 5, Total Time = 12.7509148121seconds\n",
      "('Best Regularization Coefficient with early stopping=', 1e-07)\n"
     ]
    }
   ],
   "source": [
    "# (h)\n",
    "print(\"\\n\\n## (h) Regularization Coefficients -- Early stop\")\n",
    "args['EStop'] = True\n",
    "best, _ = testmodels(X_tr, Y_tr, X_te, Y_te, archs, **args)\n",
    "best_lambda_EStop = best[1]\n",
    "print(\"Best Regularization Coefficient with early stopping=\", best_lambda_EStop)"
   ]
  },
  {
   "cell_type": "code",
   "execution_count": 9,
   "metadata": {
    "collapsed": false
   },
   "outputs": [
    {
     "name": "stdout",
     "output_type": "stream",
     "text": [
      "\n",
      "\n",
      "## (i) SGD Decay\n",
      "architecture=[50, 800, 500, 300, 2], lambda=5e-07, decay=1e-05, momentum=0.0, actfn=relu: score=0.59999999404 | time=6.84515190125\n",
      "architecture=[50, 800, 500, 300, 2], lambda=5e-07, decay=5e-05, momentum=0.0, actfn=relu: score=0.75 | time=8.42867708206\n",
      "architecture=[50, 800, 500, 300, 2], lambda=5e-07, decay=0.0001, momentum=0.0, actfn=relu: score=0.799999982119 | time=6.8960351944\n",
      "architecture=[50, 800, 500, 300, 2], lambda=5e-07, decay=0.0003, momentum=0.0, actfn=relu: score=0.350000008941 | time=6.87825584412\n",
      "architecture=[50, 800, 500, 300, 2], lambda=5e-07, decay=0.0007, momentum=0.0, actfn=relu: score=0.550000011921 | time=6.68029594421\n",
      "architecture=[50, 800, 500, 300, 2], lambda=5e-07, decay=0.001, momentum=0.0, actfn=relu: score=0.45000000298 | time=6.56511807442\n",
      "Best Config: architecture = [50, 800, 500, 300, 2], lambda = 5e-07, decay = 0.0001, momentum = 0.0, actfn = relu, best_acc = 0.799999982119\n",
      "Mean Time = 7.04892234008seconds, |Models| = 6, Total Time = 42.2935340405seconds\n",
      "('Best Decay', 0.0001)\n"
     ]
    }
   ],
   "source": [
    "# (i)\n",
    "print(\"\\n\\n## (i) SGD Decay\")\n",
    "args['reg_coeffs'] = [5e-7]\n",
    "args['num_epoch'] = 100\n",
    "args['sgd_lr'] = 1e-5\n",
    "args['sgd_decays'] = [1e-5, 5e-5, 1e-4, 3e-4, 7e-4, 1e-3]\n",
    "args['EStop'] = False\n",
    "best, _ = testmodels(X_tr, Y_tr, X_te, Y_te, archs, **args)\n",
    "best_decay = best[2]\n",
    "print(\"Best Decay\", best_decay)"
   ]
  },
  {
   "cell_type": "code",
   "execution_count": 10,
   "metadata": {
    "collapsed": false
   },
   "outputs": [
    {
     "name": "stdout",
     "output_type": "stream",
     "text": [
      "\n",
      "\n",
      "## (j) SGD Momentum\n",
      "architecture=[50, 800, 500, 300, 2], lambda=0.0, decay=0.0001, momentum=0.99, actfn=relu: score=0.65000000596 | time=3.50205802917\n",
      "architecture=[50, 800, 500, 300, 2], lambda=0.0, decay=0.0001, momentum=0.98, actfn=relu: score=0.65000000596 | time=3.60273885727\n",
      "architecture=[50, 800, 500, 300, 2], lambda=0.0, decay=0.0001, momentum=0.95, actfn=relu: score=0.59999999404 | time=3.38674712181\n",
      "architecture=[50, 800, 500, 300, 2], lambda=0.0, decay=0.0001, momentum=0.9, actfn=relu: score=0.75 | time=3.39339518547\n",
      "architecture=[50, 800, 500, 300, 2], lambda=0.0, decay=0.0001, momentum=0.85, actfn=relu: score=0.550000011921 | time=3.41920590401\n",
      "Best Config: architecture = [50, 800, 500, 300, 2], lambda = 0.0, decay = 0.0001, momentum = 0.9, actfn = relu, best_acc = 0.75\n",
      "Mean Time = 3.46082901955seconds, |Models| = 5, Total Time = 17.3041450977seconds\n",
      "('Best moemntum', 0.9)\n"
     ]
    }
   ],
   "source": [
    "# (j)\n",
    "print(\"\\n\\n## (j) SGD Momentum\")\n",
    "args['reg_coeffs'] = [0.0]\n",
    "args['num_epoch'] = 50\n",
    "args['sgd_decays'] = [best_decay] # TODO: get this from the best value of previous step\n",
    "args['sgd_Nesterov'] = True\n",
    "args['sgd_moms']= [0.99, 0.98, 0.95, 0.9, 0.85]\n",
    "best, _ = testmodels(X_tr, Y_tr, X_te, Y_te, archs, **args)\n",
    "best_mom = best[3]\n",
    "print(\"Best moemntum\", best_mom)"
   ]
  },
  {
   "cell_type": "code",
   "execution_count": 11,
   "metadata": {
    "collapsed": false
   },
   "outputs": [
    {
     "name": "stdout",
     "output_type": "stream",
     "text": [
      "\n",
      "\n",
      "## (k) Combining all\n",
      "Epoch 00014: early stopping\n",
      "architecture=[50, 800, 500, 300, 2], lambda=1e-07, decay=0.0001, momentum=0.9, actfn=relu: score=0.65000000596 | time=3.09857201576\n",
      "Best Config: architecture = [50, 800, 500, 300, 2], lambda = 1e-07, decay = 0.0001, momentum = 0.9, actfn = relu, best_acc = 0.65000000596\n",
      "Mean Time = 3.09857201576seconds, |Models| = 1, Total Time = 3.09857201576seconds\n"
     ]
    },
    {
     "data": {
      "text/plain": [
       "([[50, 800, 500, 300, 2], 1e-07, 0.0001, 0.9, 'relu', 0.65000000596046448],\n",
       " array([ 3.09857202]))"
      ]
     },
     "execution_count": 11,
     "metadata": {},
     "output_type": "execute_result"
    }
   ],
   "source": [
    "# (k)\n",
    "print(\"\\n\\n## (k) Combining all\")\n",
    "args['num_epoch'] = 100\n",
    "args['sgd_lr'] = 1e-5\n",
    "args['sgd_Nesterov'] = True\n",
    "args['EStop'] = True\n",
    "\n",
    "#TODO: Best values from previous steps\n",
    "args['sgd_decays'] = [best_decay]\n",
    "args['sgd_moms']= [best_mom]\n",
    "args['reg_coeffs'] = [best_lambda_EStop]\n",
    "\n",
    "testmodels(X_tr, Y_tr, X_te, Y_te, archs, **args)"
   ]
  },
  {
   "cell_type": "code",
   "execution_count": 12,
   "metadata": {
    "collapsed": false
   },
   "outputs": [
    {
     "name": "stdout",
     "output_type": "stream",
     "text": [
      "\n",
      "\n",
      "## (j) Grid Search \n",
      "Epoch 00007: early stopping\n",
      "architecture=[50, 50, 2], lambda=1e-07, decay=1e-05, momentum=0.99, actfn=relu: score=0.899999976158 | time=1.21030306816\n",
      "Epoch 00007: early stopping\n",
      "architecture=[50, 50, 2], lambda=1e-07, decay=5e-05, momentum=0.99, actfn=relu: score=0.449999988079 | time=1.2862830162\n",
      "Epoch 00007: early stopping\n",
      "architecture=[50, 50, 2], lambda=1e-07, decay=0.0001, momentum=0.99, actfn=relu: score=0.40000000596 | time=1.39065003395\n",
      "Epoch 00007: early stopping\n",
      "architecture=[50, 50, 2], lambda=5e-07, decay=1e-05, momentum=0.99, actfn=relu: score=0.25 | time=1.21554899216\n",
      "Epoch 00007: early stopping\n",
      "architecture=[50, 50, 2], lambda=5e-07, decay=5e-05, momentum=0.99, actfn=relu: score=0.25 | time=1.33358192444\n",
      "Epoch 00007: early stopping\n",
      "architecture=[50, 50, 2], lambda=5e-07, decay=0.0001, momentum=0.99, actfn=relu: score=0.300000011921 | time=1.34109997749\n",
      "Epoch 00007: early stopping\n",
      "architecture=[50, 50, 2], lambda=1e-06, decay=1e-05, momentum=0.99, actfn=relu: score=0.15000000596 | time=1.25166296959\n",
      "Epoch 00007: early stopping\n",
      "architecture=[50, 50, 2], lambda=1e-06, decay=5e-05, momentum=0.99, actfn=relu: score=0.449999988079 | time=1.30975294113\n",
      "Epoch 00007: early stopping\n",
      "architecture=[50, 50, 2], lambda=1e-06, decay=0.0001, momentum=0.99, actfn=relu: score=0.699999988079 | time=1.35929894447\n",
      "Epoch 00012: early stopping\n",
      "architecture=[50, 50, 2], lambda=5e-06, decay=1e-05, momentum=0.99, actfn=relu: score=0.600000023842 | time=1.31907081604\n",
      "Epoch 00007: early stopping\n",
      "architecture=[50, 50, 2], lambda=5e-06, decay=5e-05, momentum=0.99, actfn=relu: score=0.550000011921 | time=1.33358502388\n",
      "Epoch 00007: early stopping\n",
      "architecture=[50, 50, 2], lambda=5e-06, decay=0.0001, momentum=0.99, actfn=relu: score=0.699999988079 | time=1.47901797295\n",
      "Epoch 00007: early stopping\n",
      "architecture=[50, 50, 2], lambda=1e-05, decay=1e-05, momentum=0.99, actfn=relu: score=0.40000000596 | time=1.31222605705\n",
      "Epoch 00009: early stopping\n",
      "architecture=[50, 50, 2], lambda=1e-05, decay=5e-05, momentum=0.99, actfn=relu: score=0.649999976158 | time=1.47111296654\n",
      "Epoch 00007: early stopping\n",
      "architecture=[50, 50, 2], lambda=1e-05, decay=0.0001, momentum=0.99, actfn=relu: score=0.25 | time=1.27420687675\n",
      "Epoch 00010: early stopping\n",
      "architecture=[50, 500, 2], lambda=1e-07, decay=1e-05, momentum=0.99, actfn=relu: score=0.449999988079 | time=1.46441507339\n",
      "Epoch 00007: early stopping\n",
      "architecture=[50, 500, 2], lambda=1e-07, decay=5e-05, momentum=0.99, actfn=relu: score=0.34999999404 | time=1.4722058773\n",
      "Epoch 00007: early stopping\n",
      "architecture=[50, 500, 2], lambda=1e-07, decay=0.0001, momentum=0.99, actfn=relu: score=0.15000000596 | time=1.31370186806\n",
      "Epoch 00007: early stopping\n",
      "architecture=[50, 500, 2], lambda=5e-07, decay=1e-05, momentum=0.99, actfn=relu: score=0.300000011921 | time=1.3919467926\n",
      "Epoch 00007: early stopping\n",
      "architecture=[50, 500, 2], lambda=5e-07, decay=5e-05, momentum=0.99, actfn=relu: score=0.600000023842 | time=1.38250207901\n",
      "Epoch 00007: early stopping\n",
      "architecture=[50, 500, 2], lambda=5e-07, decay=0.0001, momentum=0.99, actfn=relu: score=0.600000023842 | time=1.37583708763\n",
      "Epoch 00007: early stopping\n",
      "architecture=[50, 500, 2], lambda=1e-06, decay=1e-05, momentum=0.99, actfn=relu: score=0.600000023842 | time=1.36326503754\n",
      "Epoch 00007: early stopping\n",
      "architecture=[50, 500, 2], lambda=1e-06, decay=5e-05, momentum=0.99, actfn=relu: score=0.449999988079 | time=1.24810910225\n",
      "Epoch 00007: early stopping\n",
      "architecture=[50, 500, 2], lambda=1e-06, decay=0.0001, momentum=0.99, actfn=relu: score=0.800000011921 | time=1.37515521049\n",
      "Epoch 00007: early stopping\n",
      "architecture=[50, 500, 2], lambda=5e-06, decay=1e-05, momentum=0.99, actfn=relu: score=0.300000011921 | time=1.38642597198\n",
      "Epoch 00007: early stopping\n",
      "architecture=[50, 500, 2], lambda=5e-06, decay=5e-05, momentum=0.99, actfn=relu: score=0.600000023842 | time=1.28251886368\n",
      "Epoch 00007: early stopping\n",
      "architecture=[50, 500, 2], lambda=5e-06, decay=0.0001, momentum=0.99, actfn=relu: score=0.449999988079 | time=1.35393500328\n",
      "Epoch 00007: early stopping\n",
      "architecture=[50, 500, 2], lambda=1e-05, decay=1e-05, momentum=0.99, actfn=relu: score=0.550000011921 | time=1.23606085777\n",
      "Epoch 00007: early stopping\n",
      "architecture=[50, 500, 2], lambda=1e-05, decay=5e-05, momentum=0.99, actfn=relu: score=0.699999988079 | time=1.32297897339\n",
      "Epoch 00007: early stopping\n",
      "architecture=[50, 500, 2], lambda=1e-05, decay=0.0001, momentum=0.99, actfn=relu: score=0.699999988079 | time=1.31705713272\n",
      "Epoch 00007: early stopping\n",
      "architecture=[50, 500, 300, 2], lambda=1e-07, decay=1e-05, momentum=0.99, actfn=relu: score=0.600000023842 | time=1.72202992439\n",
      "Epoch 00007: early stopping\n",
      "architecture=[50, 500, 300, 2], lambda=1e-07, decay=5e-05, momentum=0.99, actfn=relu: score=0.800000011921 | time=1.77702879906\n",
      "Epoch 00007: early stopping\n",
      "architecture=[50, 500, 300, 2], lambda=1e-07, decay=0.0001, momentum=0.99, actfn=relu: score=0.600000023842 | time=1.85370397568\n",
      "Epoch 00007: early stopping\n",
      "architecture=[50, 500, 300, 2], lambda=5e-07, decay=1e-05, momentum=0.99, actfn=relu: score=0.5 | time=1.79700708389\n",
      "Epoch 00007: early stopping\n",
      "architecture=[50, 500, 300, 2], lambda=5e-07, decay=5e-05, momentum=0.99, actfn=relu: score=0.34999999404 | time=1.84643912315\n",
      "Epoch 00007: early stopping\n",
      "architecture=[50, 500, 300, 2], lambda=5e-07, decay=0.0001, momentum=0.99, actfn=relu: score=0.5 | time=1.83488607407\n",
      "Epoch 00007: early stopping\n",
      "architecture=[50, 500, 300, 2], lambda=1e-06, decay=1e-05, momentum=0.99, actfn=relu: score=0.600000023842 | time=1.68571710587\n",
      "Epoch 00007: early stopping\n",
      "architecture=[50, 500, 300, 2], lambda=1e-06, decay=5e-05, momentum=0.99, actfn=relu: score=0.850000023842 | time=1.80838012695\n",
      "Epoch 00007: early stopping\n",
      "architecture=[50, 500, 300, 2], lambda=1e-06, decay=0.0001, momentum=0.99, actfn=relu: score=0.40000000596 | time=1.81895780563\n",
      "Epoch 00007: early stopping\n",
      "architecture=[50, 500, 300, 2], lambda=5e-06, decay=1e-05, momentum=0.99, actfn=relu: score=0.5 | time=1.83311510086\n",
      "Epoch 00007: early stopping\n",
      "architecture=[50, 500, 300, 2], lambda=5e-06, decay=5e-05, momentum=0.99, actfn=relu: score=0.5 | time=1.68818712234\n",
      "Epoch 00007: early stopping\n",
      "architecture=[50, 500, 300, 2], lambda=5e-06, decay=0.0001, momentum=0.99, actfn=relu: score=0.34999999404 | time=1.85359096527\n",
      "Epoch 00007: early stopping\n",
      "architecture=[50, 500, 300, 2], lambda=1e-05, decay=1e-05, momentum=0.99, actfn=relu: score=0.449999988079 | time=1.98514699936\n",
      "Epoch 00007: early stopping\n",
      "architecture=[50, 500, 300, 2], lambda=1e-05, decay=5e-05, momentum=0.99, actfn=relu: score=0.449999988079 | time=2.13911509514\n",
      "Epoch 00007: early stopping\n",
      "architecture=[50, 500, 300, 2], lambda=1e-05, decay=0.0001, momentum=0.99, actfn=relu: score=0.15000000596 | time=1.99159502983\n",
      "Epoch 00008: early stopping\n",
      "architecture=[50, 800, 500, 300, 2], lambda=1e-07, decay=1e-05, momentum=0.99, actfn=relu: score=0.449999988079 | time=2.97883582115\n",
      "Epoch 00007: early stopping\n",
      "architecture=[50, 800, 500, 300, 2], lambda=1e-07, decay=5e-05, momentum=0.99, actfn=relu: score=0.600000023842 | time=2.65910792351\n",
      "Epoch 00007: early stopping\n",
      "architecture=[50, 800, 500, 300, 2], lambda=1e-07, decay=0.0001, momentum=0.99, actfn=relu: score=0.40000000596 | time=2.57715702057\n",
      "Epoch 00007: early stopping\n",
      "architecture=[50, 800, 500, 300, 2], lambda=5e-07, decay=1e-05, momentum=0.99, actfn=relu: score=0.40000000596 | time=2.76571798325\n",
      "Epoch 00007: early stopping\n",
      "architecture=[50, 800, 500, 300, 2], lambda=5e-07, decay=5e-05, momentum=0.99, actfn=relu: score=0.600000023842 | time=2.67143392563\n",
      "Epoch 00007: early stopping\n",
      "architecture=[50, 800, 500, 300, 2], lambda=5e-07, decay=0.0001, momentum=0.99, actfn=relu: score=0.40000000596 | time=2.74462294579\n",
      "Epoch 00007: early stopping\n",
      "architecture=[50, 800, 500, 300, 2], lambda=1e-06, decay=1e-05, momentum=0.99, actfn=relu: score=0.449999988079 | time=2.81343007088\n",
      "Epoch 00007: early stopping\n",
      "architecture=[50, 800, 500, 300, 2], lambda=1e-06, decay=5e-05, momentum=0.99, actfn=relu: score=0.600000023842 | time=2.76092219353\n",
      "Epoch 00007: early stopping\n",
      "architecture=[50, 800, 500, 300, 2], lambda=1e-06, decay=0.0001, momentum=0.99, actfn=relu: score=0.649999976158 | time=2.72733187675\n",
      "Epoch 00007: early stopping\n",
      "architecture=[50, 800, 500, 300, 2], lambda=5e-06, decay=1e-05, momentum=0.99, actfn=relu: score=0.800000011921 | time=2.41824197769\n",
      "Epoch 00007: early stopping\n",
      "architecture=[50, 800, 500, 300, 2], lambda=5e-06, decay=5e-05, momentum=0.99, actfn=relu: score=0.600000023842 | time=2.54658317566\n",
      "Epoch 00007: early stopping\n",
      "architecture=[50, 800, 500, 300, 2], lambda=5e-06, decay=0.0001, momentum=0.99, actfn=relu: score=0.550000011921 | time=2.38805699348\n",
      "Epoch 00007: early stopping\n",
      "architecture=[50, 800, 500, 300, 2], lambda=1e-05, decay=1e-05, momentum=0.99, actfn=relu: score=0.600000023842 | time=2.25120592117\n",
      "Epoch 00007: early stopping\n",
      "architecture=[50, 800, 500, 300, 2], lambda=1e-05, decay=5e-05, momentum=0.99, actfn=relu: score=0.800000011921 | time=2.45753717422\n",
      "Epoch 00007: early stopping\n",
      "architecture=[50, 800, 500, 300, 2], lambda=1e-05, decay=0.0001, momentum=0.99, actfn=relu: score=0.34999999404 | time=2.56502890587\n",
      "Epoch 00007: early stopping\n",
      "architecture=[50, 800, 800, 500, 300, 2], lambda=1e-07, decay=1e-05, momentum=0.99, actfn=relu: score=0.699999988079 | time=3.2302839756\n",
      "Epoch 00007: early stopping\n",
      "architecture=[50, 800, 800, 500, 300, 2], lambda=1e-07, decay=5e-05, momentum=0.99, actfn=relu: score=0.300000011921 | time=3.14152598381\n",
      "Epoch 00007: early stopping\n",
      "architecture=[50, 800, 800, 500, 300, 2], lambda=1e-07, decay=0.0001, momentum=0.99, actfn=relu: score=0.40000000596 | time=3.25892901421\n",
      "Epoch 00007: early stopping\n",
      "architecture=[50, 800, 800, 500, 300, 2], lambda=5e-07, decay=1e-05, momentum=0.99, actfn=relu: score=0.600000023842 | time=3.30806398392\n",
      "Epoch 00007: early stopping\n",
      "architecture=[50, 800, 800, 500, 300, 2], lambda=5e-07, decay=5e-05, momentum=0.99, actfn=relu: score=0.649999976158 | time=3.17942905426\n",
      "Epoch 00007: early stopping\n",
      "architecture=[50, 800, 800, 500, 300, 2], lambda=5e-07, decay=0.0001, momentum=0.99, actfn=relu: score=0.40000000596 | time=3.21294498444\n",
      "Epoch 00007: early stopping\n",
      "architecture=[50, 800, 800, 500, 300, 2], lambda=1e-06, decay=1e-05, momentum=0.99, actfn=relu: score=0.40000000596 | time=3.48409605026\n",
      "Epoch 00007: early stopping\n",
      "architecture=[50, 800, 800, 500, 300, 2], lambda=1e-06, decay=5e-05, momentum=0.99, actfn=relu: score=0.40000000596 | time=3.06573796272\n",
      "Epoch 00007: early stopping\n",
      "architecture=[50, 800, 800, 500, 300, 2], lambda=1e-06, decay=0.0001, momentum=0.99, actfn=relu: score=0.40000000596 | time=3.17743301392\n",
      "Epoch 00011: early stopping\n",
      "architecture=[50, 800, 800, 500, 300, 2], lambda=5e-06, decay=1e-05, momentum=0.99, actfn=relu: score=0.75 | time=3.32091283798\n",
      "Epoch 00007: early stopping\n",
      "architecture=[50, 800, 800, 500, 300, 2], lambda=5e-06, decay=5e-05, momentum=0.99, actfn=relu: score=0.75 | time=3.04501795769\n",
      "Epoch 00007: early stopping\n",
      "architecture=[50, 800, 800, 500, 300, 2], lambda=5e-06, decay=0.0001, momentum=0.99, actfn=relu: score=0.550000011921 | time=3.07281899452\n",
      "Epoch 00007: early stopping\n",
      "architecture=[50, 800, 800, 500, 300, 2], lambda=1e-05, decay=1e-05, momentum=0.99, actfn=relu: score=0.699999988079 | time=3.09461283684\n",
      "Epoch 00007: early stopping\n",
      "architecture=[50, 800, 800, 500, 300, 2], lambda=1e-05, decay=5e-05, momentum=0.99, actfn=relu: score=0.649999976158 | time=3.05219483376\n",
      "Epoch 00007: early stopping\n",
      "architecture=[50, 800, 800, 500, 300, 2], lambda=1e-05, decay=0.0001, momentum=0.99, actfn=relu: score=0.40000000596 | time=3.06941986084\n",
      "Best Config: architecture = [50, 50, 2], lambda = 1e-07, decay = 1e-05, momentum = 0.99, actfn = relu, best_acc = 0.899999976158\n",
      "Mean Time = 2.0646273613seconds, |Models| = 75, Total Time = 154.847052097seconds\n"
     ]
    },
    {
     "data": {
      "text/plain": [
       "([[50, 50, 2], 1e-07, 1e-05, 0.99, 'relu', 0.89999997615814209],\n",
       " array([ 1.21030307,  1.28628302,  1.39065003,  1.21554899,  1.33358192,\n",
       "         1.34109998,  1.25166297,  1.30975294,  1.35929894,  1.31907082,\n",
       "         1.33358502,  1.47901797,  1.31222606,  1.47111297,  1.27420688,\n",
       "         1.46441507,  1.47220588,  1.31370187,  1.39194679,  1.38250208,\n",
       "         1.37583709,  1.36326504,  1.2481091 ,  1.37515521,  1.38642597,\n",
       "         1.28251886,  1.353935  ,  1.23606086,  1.32297897,  1.31705713,\n",
       "         1.72202992,  1.7770288 ,  1.85370398,  1.79700708,  1.84643912,\n",
       "         1.83488607,  1.68571711,  1.80838013,  1.81895781,  1.8331151 ,\n",
       "         1.68818712,  1.85359097,  1.985147  ,  2.1391151 ,  1.99159503,\n",
       "         2.97883582,  2.65910792,  2.57715702,  2.76571798,  2.67143393,\n",
       "         2.74462295,  2.81343007,  2.76092219,  2.72733188,  2.41824198,\n",
       "         2.54658318,  2.38805699,  2.25120592,  2.45753717,  2.56502891,\n",
       "         3.23028398,  3.14152598,  3.25892901,  3.30806398,  3.17942905,\n",
       "         3.21294498,  3.48409605,  3.06573796,  3.17743301,  3.32091284,\n",
       "         3.04501796,  3.07281899,  3.09461284,  3.05219483,  3.06941986]))"
      ]
     },
     "execution_count": 12,
     "metadata": {},
     "output_type": "execute_result"
    }
   ],
   "source": [
    "# (l) Grid Search\n",
    "print(\"\\n\\n## (j) Grid Search \")\n",
    "archs = [[d_in, 50, d_out], [d_in, 500, d_out], [d_in, 500, 300, d_out],\n",
    "         [d_in, 800, 500, 300, d_out], [d_in, 800, 800, 500, 300, d_out]]\n",
    "args = {\n",
    "    'actfn':'relu',\n",
    "    'last_act':'softmax',\n",
    "    'num_epoch': 100,\n",
    "    'batch_size': 1000,\n",
    "    'sgd_lr': 1e-5,\n",
    "    'sgd_Nesterov': True,\n",
    "    'sgd_moms': [0.99],\n",
    "    'EStop': True,\n",
    "    'verbose': False,\n",
    "    'reg_coeffs': [1e-7, 5e-7, 1e-6, 5e-6, 1e-5],\n",
    "    'sgd_decays': [1e-5, 5e-5, 1e-4],\n",
    "}\n",
    "testmodels(X_tr, Y_tr, X_te, Y_te, archs, **args)"
   ]
  },
  {
   "cell_type": "code",
   "execution_count": null,
   "metadata": {
    "collapsed": true
   },
   "outputs": [],
   "source": []
  }
 ],
 "metadata": {
  "anaconda-cloud": {},
  "kernelspec": {
   "display_name": "Python [conda root]",
   "language": "python",
   "name": "conda-root-py"
  },
  "language_info": {
   "codemirror_mode": {
    "name": "ipython",
    "version": 2
   },
   "file_extension": ".py",
   "mimetype": "text/x-python",
   "name": "python",
   "nbconvert_exporter": "python",
   "pygments_lexer": "ipython2",
   "version": "2.7.12"
  }
 },
 "nbformat": 4,
 "nbformat_minor": 1
}
