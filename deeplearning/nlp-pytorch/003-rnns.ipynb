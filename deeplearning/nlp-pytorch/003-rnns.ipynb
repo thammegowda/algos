{
 "cells": [
  {
   "cell_type": "markdown",
   "metadata": {},
   "source": [
    "# RNNs and LSTMs\n",
    "\n",
    "http://pytorch.org/tutorials/beginner/nlp/sequence_models_tutorial.html#"
   ]
  },
  {
   "cell_type": "code",
   "execution_count": 1,
   "metadata": {},
   "outputs": [
    {
     "data": {
      "text/plain": [
       "<torch._C.Generator at 0x10c191d80>"
      ]
     },
     "execution_count": 1,
     "metadata": {},
     "output_type": "execute_result"
    }
   ],
   "source": [
    "import torch\n",
    "import torch.autograd as autograd\n",
    "import torch.nn as nn\n",
    "import torch.nn.functional as F\n",
    "import torch.optim as optim\n",
    "\n",
    "torch.manual_seed(1)"
   ]
  },
  {
   "cell_type": "code",
   "execution_count": 40,
   "metadata": {},
   "outputs": [
    {
     "name": "stdout",
     "output_type": "stream",
     "text": [
      "Variable containing:\n",
      "(0 ,.,.) = \n",
      "  0.2410  0.0926  0.0145\n",
      "\n",
      "(1 ,.,.) = \n",
      "  0.1168 -0.0040  0.2024\n",
      "\n",
      "(2 ,.,.) = \n",
      "  0.0572 -0.0214  0.2348\n",
      "\n",
      "(3 ,.,.) = \n",
      "  0.0182 -0.1506  0.2259\n",
      "\n",
      "(4 ,.,.) = \n",
      "  0.0220  0.0112  0.3491\n",
      "[torch.FloatTensor of size 5x1x3]\n",
      "\n",
      "(Variable containing:\n",
      "(0 ,.,.) = \n",
      "  0.0220  0.0112  0.3491\n",
      "[torch.FloatTensor of size 1x1x3]\n",
      ", Variable containing:\n",
      "(0 ,.,.) = \n",
      "  0.0431  0.0247  0.7800\n",
      "[torch.FloatTensor of size 1x1x3]\n",
      ")\n"
     ]
    }
   ],
   "source": [
    "\n",
    "lstm = nn.LSTM(3, 3)  # Input dim is 3, output dim is 3\n",
    "inputs = [autograd.Variable(torch.randn((1, 3))) for _ in range(5)]  # make a sequence of length 5\n",
    "\n",
    "\n",
    "# initialize the hidden state.\n",
    "hidden = (autograd.Variable(torch.randn(1, 1, 3)),\n",
    "          autograd.Variable(torch.randn((1, 1, 3))))\n",
    "for i in inputs:\n",
    "    # Step through the sequence one element at a time.\n",
    "    # after each step, hidden contains the hidden state.\n",
    "    out, hidden = lstm(i.view(1, 1, -1), hidden)\n",
    "\n",
    "# alternatively, we can do the entire sequence all at once.\n",
    "# the first value returned by LSTM is all of the hidden states throughout\n",
    "# the sequence. the second is just the most recent hidden state\n",
    "# (compare the last slice of \"out\" with \"hidden\" below, they are the same)\n",
    "# The reason for this is that:\n",
    "# \"out\" will give you access to all hidden states in the sequence\n",
    "# \"hidden\" will allow you to continue the sequence and backpropagate,\n",
    "# by passing it as an argument  to the lstm at a later time\n",
    "# Add the extra 2nd dimension\n",
    "inputs = torch.cat(inputs).view(len(inputs), 1, -1)\n",
    "\n",
    "hidden = (autograd.Variable(torch.randn(1, 1, 3)), autograd.Variable(torch.randn((1, 1, 3))))  # clean out hidden state\n",
    "\n",
    "out, hidden = lstm(inputs, hidden)\n",
    "print(out)\n",
    "print(hidden)"
   ]
  },
  {
   "cell_type": "code",
   "execution_count": 10,
   "metadata": {},
   "outputs": [
    {
     "name": "stdout",
     "output_type": "stream",
     "text": [
      "{'The': 0, 'dog': 1, 'ate': 2, 'the': 3, 'apple': 4, 'Everybody': 5, 'read': 6, 'that': 7, 'book': 8}\n"
     ]
    }
   ],
   "source": [
    "def prepare_sequence(seq, to_ix):\n",
    "    idxs = [to_ix[w] for w in seq]\n",
    "    tensor = torch.LongTensor(idxs)\n",
    "    return autograd.Variable(tensor)\n",
    "\n",
    "\n",
    "training_data = [\n",
    "    (\"The dog ate the apple\".split(), [\"DET\", \"NN\", \"V\", \"DET\", \"NN\"]),\n",
    "    (\"Everybody read that book\".split(), [\"NN\", \"V\", \"DET\", \"NN\"])\n",
    "]\n",
    "word_to_ix = {}\n",
    "for sent, tags in training_data:\n",
    "    for word in sent:\n",
    "        if word not in word_to_ix:\n",
    "            word_to_ix[word] = len(word_to_ix)\n",
    "print(word_to_ix)\n",
    "tag_to_ix = {\"DET\": 0, \"NN\": 1, \"V\": 2}\n",
    "\n",
    "# These will usually be more like 32 or 64 dimensional.\n",
    "# We will keep them small, so we can see how the weights change as we train.\n",
    "EMBEDDING_DIM = 6\n",
    "HIDDEN_DIM = 6"
   ]
  },
  {
   "cell_type": "code",
   "execution_count": 41,
   "metadata": {},
   "outputs": [],
   "source": [
    "class LSTMTagger(nn.Module):\n",
    "\n",
    "    def __init__(self, embedding_dim, hidden_dim, vocab_size, tagset_size):\n",
    "        super(LSTMTagger, self).__init__()\n",
    "        self.hidden_dim = hidden_dim\n",
    "\n",
    "        self.word_embeddings = nn.Embedding(vocab_size, embedding_dim)\n",
    "\n",
    "        # The LSTM takes word embeddings as inputs, and outputs hidden states\n",
    "        # with dimensionality hidden_dim.\n",
    "        self.lstm = nn.LSTM(embedding_dim, hidden_dim)\n",
    "\n",
    "        # The linear layer that maps from hidden state space to tag space\n",
    "        self.hidden2tag = nn.Linear(hidden_dim, tagset_size)\n",
    "        self.hidden = self.init_hidden()\n",
    "        \n",
    "    def init_hidden(self):\n",
    "        # Before we've done anything, we dont have any hidden state.\n",
    "        # Refer to the Pytorch documentation to see exactly\n",
    "        # why they have this dimensionality.\n",
    "        # The axes semantics are (num_layers, minibatch_size, hidden_dim)\n",
    "        return (autograd.Variable(torch.zeros(1, 1, self.hidden_dim)),\n",
    "                autograd.Variable(torch.zeros(1, 1, self.hidden_dim)))\n",
    "\n",
    "    def forward(self, sentence):\n",
    "        embeds = self.word_embeddings(sentence)\n",
    "        lstm_out, self.hidden = self.lstm(embeds.view(len(sentence), 1, -1), self.hidden)\n",
    "        tag_space = self.hidden2tag(lstm_out.view(len(sentence), -1))\n",
    "        tag_scores = F.log_softmax(tag_space)\n",
    "        return tag_scores"
   ]
  },
  {
   "cell_type": "code",
   "execution_count": 42,
   "metadata": {},
   "outputs": [
    {
     "name": "stdout",
     "output_type": "stream",
     "text": [
      "Variable containing:\n",
      "-0.9910 -1.1752 -1.1393\n",
      "-1.0081 -1.1000 -1.1965\n",
      "-1.0978 -1.1130 -1.0853\n",
      "-0.9537 -1.1596 -1.2003\n",
      "-0.9241 -1.2080 -1.1898\n",
      "[torch.FloatTensor of size 5x3]\n",
      "\n",
      "Variable containing:\n",
      "-0.0604 -4.6273 -3.0198\n",
      "-8.1220 -0.0021 -6.2955\n",
      "-5.8761 -7.2554 -0.0035\n",
      "-0.0062 -6.4301 -5.3880\n",
      "-5.4609 -0.0044 -8.7629\n",
      "[torch.FloatTensor of size 5x3]\n",
      "\n"
     ]
    }
   ],
   "source": [
    "model = LSTMTagger(EMBEDDING_DIM, HIDDEN_DIM, len(word_to_ix), len(tag_to_ix))\n",
    "loss_func = nn.NLLLoss()\n",
    "optimizer = optim.SGD(params=model.parameters(), lr=0.5)\n",
    "\n",
    "print(model(prepare_sequence(training_data[0][0], word_to_ix)))\n",
    "for e in range(300):\n",
    "    for seq, tags in training_data:\n",
    "        X = prepare_sequence(seq, word_to_ix)\n",
    "        y_gold = prepare_sequence(tags, tag_to_ix)\n",
    "        model.zero_grad()\n",
    "        model.hidden = model.init_hidden()\n",
    "        \n",
    "        y_pred = model(X)\n",
    "        loss = loss_function(y_pred, y_gold)\n",
    "        \n",
    "        loss.backward()\n",
    "        optimizer.step()\n",
    "\n",
    "print(model(prepare_sequence(training_data[0][0], word_to_ix)))"
   ]
  },
  {
   "cell_type": "markdown",
   "metadata": {},
   "source": [
    "# Character Level Embeddings for LSTM sequence tagger"
   ]
  },
  {
   "cell_type": "code",
   "execution_count": 130,
   "metadata": {},
   "outputs": [],
   "source": [
    "\n",
    "class Tagger2(nn.Module):\n",
    "\n",
    "    def __init__(self, embedding_dim, hidden_dim, word2ix, char2ix, tagset_size):\n",
    "        super(Tagger2, self).__init__()\n",
    "        self.hidden_dim = hidden_dim\n",
    "        self.char2ix = char2ix\n",
    "        self.word2ix = word2ix\n",
    "        vocab_size, alphabet_size = len(word2ix), len(char2ix)\n",
    "        self.word_embeddings = nn.Embedding(vocab_size, embedding_dim)\n",
    "\n",
    "        self.char_embeddings = nn.Embedding(alphabet_size, embedding_dim)\n",
    "        self.char_lstm = nn.LSTM(embedding_dim, hidden_dim)\n",
    "        self.char_hidden = self.init_hidden() # Hidden state for char LSTM\n",
    "\n",
    "        # The LSTM takes word embeddings as inputs, and outputs hidden states\n",
    "        # with dimensionality hidden_dim. \n",
    "        # we concatenate character and word embeddings\n",
    "        self.lstm = nn.LSTM(embedding_dim + hidden_dim, hidden_dim)\n",
    "\n",
    "        # The linear layer that maps from hidden state space to tag space\n",
    "        self.hidden2tag = nn.Linear(hidden_dim, tagset_size)\n",
    "        self.hidden = self.init_hidden()\n",
    "\n",
    "        \n",
    "    def init_hidden(self):\n",
    "        # Before we've done anything, we dont have any hidden state.\n",
    "        # Refer to the Pytorch documentation to see exactly\n",
    "        # why they have this dimensionality.\n",
    "        # The axes semantics are (num_layers, minibatch_size, hidden_dim)\n",
    "        return (autograd.Variable(torch.zeros(1, 1, self.hidden_dim)),\n",
    "                autograd.Variable(torch.zeros(1, 1, self.hidden_dim)))\n",
    "\n",
    "    def forward(self, sentence):\n",
    "        word_reprs = []\n",
    "        for word in sentence:\n",
    "            word_embed = self.word_embeddings(autograd.Variable(torch.LongTensor([self.word2ix[word]])))\n",
    "            self.char_hidden = self.init_hidden()\n",
    "            ch_ixs = [self.char2ix[ch] for ch in word]\n",
    "            ch_seq = autograd.Variable(torch.LongTensor(ch_ixs))\n",
    "            ch_embeds = self.char_embeddings(ch_seq)\n",
    "            ch_repr, self.char_hidden = self.char_lstm(ch_embeds.view(len(word), 1, -1), self.char_hidden)\n",
    "            word_repr = torch.cat((word_embed, ch_repr[-1]), dim=1) # char LSTM output's last time stamp output\n",
    "            word_reprs.append(word_repr)\n",
    "        embeds = torch.cat(word_reprs)\n",
    "        #print(len(sentence), embeds.size())\n",
    "        lstm_out, self.hidden = self.lstm(embeds.view(len(sentence), 1, -1), self.hidden)\n",
    "        tag_space = self.hidden2tag(lstm_out.view(len(sentence), -1))\n",
    "        tag_scores = F.log_softmax(tag_space)\n",
    "        return tag_scores\n"
   ]
  },
  {
   "cell_type": "code",
   "execution_count": 122,
   "metadata": {},
   "outputs": [
    {
     "name": "stdout",
     "output_type": "stream",
     "text": [
      "16 {'E': 0, 'T': 1, 'a': 2, 'b': 3, 'd': 4, 'e': 5, 'g': 6, 'h': 7, 'k': 8, 'l': 9, 'o': 10, 'p': 11, 'r': 12, 't': 13, 'v': 14, 'y': 15}\n"
     ]
    }
   ],
   "source": [
    "uniq_chars = set(ch for seq, _ in training_data for word in seq for ch in word) # read left to right\n",
    "char_to_ix = {ch: ix for ix, ch in enumerate(sorted(uniq_chars))}\n",
    "print(len(char_to_ix), char_to_ix)"
   ]
  },
  {
   "cell_type": "code",
   "execution_count": 131,
   "metadata": {},
   "outputs": [
    {
     "name": "stdout",
     "output_type": "stream",
     "text": [
      "Variable containing:\n",
      "-1.4640 -0.9649 -0.9476\n",
      "-1.5087 -0.9130 -0.9742\n",
      "-1.4906 -0.9598 -0.9370\n",
      "-1.5099 -0.9626 -0.9234\n",
      "-1.5170 -1.0029 -0.8823\n",
      "[torch.FloatTensor of size 5x3]\n",
      "\n",
      "Variable containing:\n",
      "-0.0436 -3.2314 -5.7466\n",
      "-7.7805 -0.0017 -6.6383\n",
      "-7.6889 -6.2214 -0.0024\n",
      "-0.0042 -5.8647 -6.6115\n",
      "-6.2718 -0.0036 -6.3794\n",
      "[torch.FloatTensor of size 5x3]\n",
      "\n"
     ]
    }
   ],
   "source": [
    "tagger = Tagger2(EMBEDDING_DIM, HIDDEN_DIM, word_to_ix, char_to_ix, len(tag_to_ix))\n",
    "loss_func = nn.NLLLoss()\n",
    "optimizer = optim.SGD(params=tagger.parameters(), lr=0.5)\n",
    "\n",
    "print(tagger(training_data[0][0]))\n",
    "for e in range(300):\n",
    "    for seq, tags in training_data:\n",
    "        y_gold = prepare_sequence(tags, tag_to_ix)\n",
    "        tagger.zero_grad()\n",
    "        tagger.hidden = tagger.init_hidden()\n",
    "        \n",
    "        y_pred = tagger(seq)\n",
    "        loss = loss_function(y_pred, y_gold)\n",
    "        \n",
    "        loss.backward()\n",
    "        optimizer.step()\n",
    "\n",
    "print(tagger(training_data[0][0]))"
   ]
  },
  {
   "cell_type": "markdown",
   "metadata": {},
   "source": [
    "Indices [DET, NN, V]\n"
   ]
  },
  {
   "cell_type": "markdown",
   "metadata": {},
   "source": [
    "--- \n",
    "## Scrap Space"
   ]
  },
  {
   "cell_type": "code",
   "execution_count": 84,
   "metadata": {},
   "outputs": [],
   "source": [
    "V = 10\n",
    "E = 5\n",
    "H = 6\n",
    "e = nn.Embedding(V, E)\n",
    "l = nn.LSTM(E, H)"
   ]
  },
  {
   "cell_type": "code",
   "execution_count": 88,
   "metadata": {},
   "outputs": [
    {
     "data": {
      "text/plain": [
       "Variable containing:\n",
       " 0.4068  1.5358 -0.1027 -2.9540  0.7994\n",
       "[torch.FloatTensor of size 1x5]"
      ]
     },
     "execution_count": 88,
     "metadata": {},
     "output_type": "execute_result"
    }
   ],
   "source": [
    "e(autograd.Variable(torch.LongTensor([5])))"
   ]
  },
  {
   "cell_type": "code",
   "execution_count": 85,
   "metadata": {},
   "outputs": [
    {
     "name": "stdout",
     "output_type": "stream",
     "text": [
      "1 torch.Size([4])\n",
      "2 torch.Size([4, 5])\n",
      "3 torch.Size([4, 1, 6])\n"
     ]
    }
   ],
   "source": [
    "hh = (autograd.Variable(torch.zeros(1, 1, 6)), autograd.Variable(torch.zeros(1, 1, 6)))\n",
    "chw = autograd.Variable(torch.LongTensor([5, 1, 3, 4]))\n",
    "print('1', chw.size())\n",
    "seq = e(chw)\n",
    "print('2', seq.size())\n",
    "out, hh = l(seq.view(4, 1, -1), hh)\n",
    "print('3', out.size())\n",
    "# take the last time stamp output\n",
    "out[-1]"
   ]
  },
  {
   "cell_type": "code",
   "execution_count": 86,
   "metadata": {},
   "outputs": [
    {
     "data": {
      "text/plain": [
       "Variable containing:\n",
       "(0 ,.,.) = \n",
       "  0.1137  0.0481 -0.0472  0.1024 -0.0824  0.2085\n",
       "\n",
       "(1 ,.,.) = \n",
       "  0.1944  0.1903 -0.0111  0.0966 -0.1379 -0.0205\n",
       "\n",
       "(2 ,.,.) = \n",
       "  0.0041  0.0633  0.0476  0.0258 -0.0292  0.0463\n",
       "\n",
       "(3 ,.,.) = \n",
       "  0.0173 -0.0504 -0.1395 -0.1017 -0.0999  0.1025\n",
       "[torch.FloatTensor of size 4x1x6]"
      ]
     },
     "execution_count": 86,
     "metadata": {},
     "output_type": "execute_result"
    }
   ],
   "source": [
    "out"
   ]
  },
  {
   "cell_type": "code",
   "execution_count": 97,
   "metadata": {},
   "outputs": [
    {
     "data": {
      "text/plain": [
       "Variable containing:\n",
       " 0.0173 -0.0504 -0.1395 -0.1017 -0.0999  0.1025\n",
       " 0.0041  0.0633  0.0476  0.0258 -0.0292  0.0463\n",
       "[torch.FloatTensor of size 2x6]"
      ]
     },
     "execution_count": 97,
     "metadata": {},
     "output_type": "execute_result"
    }
   ],
   "source": [
    "l = [out[-1], out[-2]]\n",
    "torch.cat(l)"
   ]
  },
  {
   "cell_type": "code",
   "execution_count": null,
   "metadata": {},
   "outputs": [],
   "source": []
  }
 ],
 "metadata": {
  "kernelspec": {
   "display_name": "Python 3",
   "language": "python",
   "name": "python3"
  },
  "language_info": {
   "codemirror_mode": {
    "name": "ipython",
    "version": 3
   },
   "file_extension": ".py",
   "mimetype": "text/x-python",
   "name": "python",
   "nbconvert_exporter": "python",
   "pygments_lexer": "ipython3",
   "version": "3.6.3"
  }
 },
 "nbformat": 4,
 "nbformat_minor": 2
}
