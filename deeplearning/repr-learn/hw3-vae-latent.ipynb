{
 "cells": [
  {
   "cell_type": "markdown",
   "metadata": {},
   "source": [
    "# HW3 for CSCI 699 \n",
    "\n",
    "by Thamme Gowda"
   ]
  },
  {
   "cell_type": "code",
   "execution_count": 1,
   "metadata": {},
   "outputs": [],
   "source": [
    "import numpy as np\n",
    "from IPython.display import display\n",
    "from PIL import Image\n",
    "from time import time\n",
    "import torch\n",
    "from torch import nn\n",
    "from torch.nn import functional as F\n",
    "from torch.distributions.multivariate_normal import MultivariateNormal\n",
    "from torch.utils.data import DataLoader\n",
    "from torch.autograd import Variable\n",
    "from torch.utils.tensorboard import SummaryWriter\n",
    "import torch.nn.init as init\n",
    "import numpy as np\n",
    "import matplotlib.pyplot as plt\n",
    "\n",
    "from pathlib import Path\n",
    "\n",
    "from tqdm import tqdm\n",
    "import logging as log\n",
    "log.basicConfig(level=log.INFO)"
   ]
  },
  {
   "cell_type": "code",
   "execution_count": 2,
   "metadata": {},
   "outputs": [
    {
     "name": "stdout",
     "output_type": "stream",
     "text": [
      "0 _CudaDeviceProperties(name='GeForce GTX TITAN X', major=5, minor=2, total_memory=12204MB, multi_processor_count=24) (5, 2)\n",
      "1 _CudaDeviceProperties(name='Tesla K40m', major=3, minor=5, total_memory=11439MB, multi_processor_count=15) (3, 5)\n"
     ]
    }
   ],
   "source": [
    "for i in range(torch.cuda.device_count()):\n",
    "    print(i, torch.cuda.get_device_properties(i), torch.cuda.get_device_capability(i))"
   ]
  },
  {
   "cell_type": "code",
   "execution_count": 4,
   "metadata": {},
   "outputs": [
    {
     "name": "stdout",
     "output_type": "stream",
     "text": [
      "data/dsprites-dataset/dsprites_ndarray_co1sh3sc6or40x32y32_64x64.npz\n"
     ]
    }
   ],
   "source": [
    "!ls data/dsprites-dataset/dsprites_ndarray_co1sh3sc6or40x32y32_64x64.npz"
   ]
  },
  {
   "cell_type": "code",
   "execution_count": 3,
   "metadata": {},
   "outputs": [
    {
     "name": "stdout",
     "output_type": "stream",
     "text": [
      "['metadata', 'imgs', 'latents_classes', 'latents_values']\n",
      "['supervised_train', 'train', 'test_reconstruct', 'test_interpolate']\n"
     ]
    },
    {
     "data": {
      "text/plain": [
       "((245760, 64, 64), (15, 64, 64), (5, 2, 64, 64))"
      ]
     },
     "execution_count": 3,
     "metadata": {},
     "output_type": "execute_result"
    }
   ],
   "source": [
    "dsprites_file = 'data/dsprites-dataset/dsprites_ndarray_co1sh3sc6or40x32y32_64x64.npz'\n",
    "ids_file = 'data/ids.npz'\n",
    "\n",
    "data = np.load(dsprites_file)\n",
    "print(data.files)\n",
    "ids = np.load(ids_file)\n",
    "print(ids.files)\n",
    "\n",
    "all_imgs = data['imgs']\n",
    "\n",
    "# for task 1: B-VAE\n",
    "train_imgs = all_imgs[ids['train']]\n",
    "\n",
    "# for q1_a.pdf \n",
    "test_reconstruct = all_imgs[ids['test_reconstruct']]\n",
    "# for q1_b.pdf \n",
    "test_interpolate = all_imgs[ids['test_interpolate']]\n",
    "\n",
    "# for task 2: supervision of latent space\n",
    "sup_train_imgs = all_imgs[ids['supervised_train']]\n",
    "sup_train_factors = data['latents_values'][ids['supervised_train']]\n",
    "sup_train_classes = data['latents_classes'][ids['supervised_train']]\n",
    "\n",
    "train_imgs.shape, test_reconstruct.shape, test_interpolate.shape"
   ]
  },
  {
   "cell_type": "code",
   "execution_count": 4,
   "metadata": {},
   "outputs": [
    {
     "data": {
      "image/png": "[encoded data removed]",
      "text/plain": [
       "<PIL.Image.Image image mode=L size=192x192 at 0x7F7A8EFDC5C0>"
      ]
     },
     "metadata": {},
     "output_type": "display_data"
    }
   ],
   "source": [
    "def display_image(data, scale=1, factor=255):\n",
    "    data = data.numpy() if hasattr(data, 'numpy') else data\n",
    "    data = data * factor\n",
    "    if data.dtype != 'uint8':\n",
    "        data = data.astype('uint8')\n",
    "    img = Image.fromarray(data)\n",
    "    if scale != 1:\n",
    "        img = img.resize((img.width * scale, img.height*scale), Image.NEAREST)\n",
    "    display(img)\n",
    "\n",
    "display_image(test_interpolate[1][1], scale=3)"
   ]
  },
  {
   "cell_type": "code",
   "execution_count": 5,
   "metadata": {},
   "outputs": [
    {
     "name": "stderr",
     "output_type": "stream",
     "text": [
      "INFO:root:(10000, 1, 64, 64) (235760, 1, 64, 64)\n"
     ]
    }
   ],
   "source": [
    "np.random.seed(12345)\n",
    "if train_imgs.data.ndim < 4:\n",
    "    train_imgs = np.expand_dims(train_imgs, axis=1)  # add a dummy dim for single channel\n",
    "if train_imgs.dtype != 'float32':\n",
    "    train_imgs = train_imgs.astype('float32', copy=False)\n",
    "np.random.shuffle(train_imgs)\n",
    "validn_count = 10_000\n",
    "validn_imgs, train_split_imgs = train_imgs[:validn_count], train_imgs[validn_count:]\n",
    "log.info(f'{validn_imgs.shape} {train_split_imgs.shape}')"
   ]
  },
  {
   "cell_type": "code",
   "execution_count": 6,
   "metadata": {},
   "outputs": [],
   "source": [
    "class LoopingIterator:\n",
    "    \n",
    "    def __init__(self, iterable, total_steps):\n",
    "        self.total_steps = total_steps\n",
    "        self.iterable = iterable\n",
    "\n",
    "    def __len__(self):\n",
    "        return self.total_steps\n",
    "\n",
    "    def __iter__(self):\n",
    "        count = 0\n",
    "        while count < self.total_steps:\n",
    "            for item in self.iterable:\n",
    "                yield item\n",
    "                count += 1 \n",
    "                if count >= self.total_steps:\n",
    "                    break\n"
   ]
  },
  {
   "cell_type": "markdown",
   "metadata": {},
   "source": [
    "## Beta VAE\n",
    "\n",
    "https://github.com/1Konny/Beta-VAE/blob/master/model.py"
   ]
  },
  {
   "cell_type": "code",
   "execution_count": 7,
   "metadata": {},
   "outputs": [],
   "source": [
    "# Some or most of the model Code taken from https://github.com/1Konny/Beta-VAE/blob/master/model.py\n",
    "\n",
    "class View(nn.Module):\n",
    "    def __init__(self, size):\n",
    "        super().__init__()\n",
    "        self.size = size\n",
    "\n",
    "    def forward(self, tensor):\n",
    "        return tensor.view(self.size)\n",
    "\n",
    "class BetaVAE(nn.Module):\n",
    "    \n",
    "    def __init__(self, z_dim, inp_chs=1, enc_dim=None, use_norm=False):\n",
    "        super().__init__()\n",
    "        self.z_dim = z_dim\n",
    "        self.enc_dim = enc_dim or 2 * z_dim\n",
    "        self.use_norm = use_norm        \n",
    "        enc_layers = [\n",
    "            nn.Conv2d(inp_chs, 32, 4, 2, 1),          # B,  32, 32, 32\n",
    "            nn.ReLU(True),\n",
    "            nn.Conv2d(32, 32, 4, 2, 1),          # B,  32, 16, 16\n",
    "            nn.ReLU(True),\n",
    "            nn.Conv2d(32, 32, 4, 2, 1),          # B,  32,  8,  8\n",
    "            nn.ReLU(True),\n",
    "            nn.Conv2d(32, 32, 4, 2, 1),          # B,  32,  4,  4\n",
    "            nn.ReLU(True),\n",
    "            View((-1, 32*4*4)),                  # B, 512\n",
    "            nn.Linear(32*4*4, 256),              # B, 256\n",
    "            nn.ReLU(True),\n",
    "            nn.Linear(256, 256),                 # B, 256\n",
    "            nn.ReLU(True),\n",
    "            nn.Linear(256, self.enc_dim),             # B, z_dim*2            \n",
    "        ]\n",
    "        \n",
    "        if self.use_norm:\n",
    "            enc_layers = [nn.LayerNorm((inp_chs, 64, 64))] + enc_layers + [nn.LayerNorm(self.enc_dim)]\n",
    "        self.encoder = nn.Sequential(*enc_layers)\n",
    "\n",
    "        self.decoder = nn.Sequential(\n",
    "            nn.Linear(z_dim, 256),               # B, 256\n",
    "            nn.ReLU(True),\n",
    "            nn.Linear(256, 256),                 # B, 256\n",
    "            nn.ReLU(True),\n",
    "            nn.Linear(256, 32*4*4),              # B, 512\n",
    "            nn.ReLU(True),\n",
    "            View((-1, 32, 4, 4)),                # B,  32,  4,  4\n",
    "            nn.ConvTranspose2d(32, 32, 4, 2, 1), # B,  32,  8,  8\n",
    "            nn.ReLU(True),\n",
    "            nn.ConvTranspose2d(32, 32, 4, 2, 1), # B,  32, 16, 16\n",
    "            nn.ReLU(True),\n",
    "            nn.ConvTranspose2d(32, 32, 4, 2, 1), # B,  32, 32, 32\n",
    "            nn.ReLU(True),\n",
    "            nn.ConvTranspose2d(32, inp_chs, 4, 2, 1), # B,  nc, 64, 64\n",
    "        )\n",
    "    \n",
    "    def weight_init(self):\n",
    "        for block in self._modules:\n",
    "            for m in self._modules[block]:\n",
    "                self.kaiming_init(m)\n",
    "                \n",
    "    def kaiming_init(self, m):\n",
    "        # TODO: Read this https://arxiv.org/pdf/1502.01852.pdf \n",
    "        if isinstance(m, (nn.Linear, nn.Conv2d)):\n",
    "            init.kaiming_normal(m.weight)\n",
    "            if m.bias is not None:\n",
    "                m.bias.data.fill_(0)\n",
    "        elif isinstance(m, (nn.BatchNorm1d, nn.BatchNorm2d)):\n",
    "            m.weight.data.fill_(1)\n",
    "            if m.bias is not None:\n",
    "                m.bias.data.fill_(0)\n",
    "\n",
    "    def forward(self, x):\n",
    "        \"\"\"\n",
    "        returns x_reconstruction_logits, mus, logvars\n",
    "        \"\"\"\n",
    "        orig_shape = x.shape\n",
    "        z, mu, logvar = self.encode(x)\n",
    "        x_recon_logits = self.decode(z)\n",
    "\n",
    "        #x_recon = F.sigmoid(x_recon) # squash to [0, 1]\n",
    "        assert orig_shape == x_recon_logits.shape\n",
    "        return x_recon_logits, mu, logvar\n",
    "    \n",
    "    def encode(self, x):\n",
    "        distributions = self.encoder(x)\n",
    "        mu = distributions[:, :self.z_dim]\n",
    "        #mu = F.softmax(mu)\n",
    "        logvar = distributions[:, self.z_dim:]\n",
    "\n",
    "        # Note: this doesnt match what Prof. Greg taught in class\n",
    "        # see slides 36-42: https://drive.google.com/file/d/1gMv5JOsEH7cpL_I_GBdloGoeMEp1anj2/view\n",
    "        # here, we are assuming the encoder directly provides log(s_x)^2 instead of s_x\n",
    "\n",
    "        z = self.reparametrize(mu, logvar)\n",
    "        return z, mu, logvar\n",
    "    \n",
    "    def decode(self, z, squash=False):\n",
    "        logits = self.decoder(z)\n",
    "        return torch.sigmoid(logits) if squash else logits \n",
    "    \n",
    "    def reparametrize(self, mu, logvar):\n",
    "        std = logvar.div(2).exp()\n",
    "        #eps = Variable(std.data.new(std.size()).normal_())\n",
    "        eps = torch.zeros(std.shape, device=std.device).normal_()\n",
    "        #with torch.no_grad():\n",
    "        #    eps = self.noise_dist.sample((mu.shape[0],))\n",
    "        #print(mu.device, std.device, eps.device, '::', mu.shape, std.shape, eps.shape)\n",
    "        return mu + std * eps\n"
   ]
  },
  {
   "cell_type": "code",
   "execution_count": 375,
   "metadata": {},
   "outputs": [
    {
     "data": {
      "text/plain": [
       "PosixPath('/media/storage_f/tg/phd/cs699-f19/hw3.ipynb')"
      ]
     },
     "execution_count": 375,
     "metadata": {},
     "output_type": "execute_result"
    }
   ],
   "source": []
  },
  {
   "cell_type": "code",
   "execution_count": 8,
   "metadata": {},
   "outputs": [
    {
     "name": "stderr",
     "output_type": "stream",
     "text": [
      "INFO:root:DEVICE=cuda\n"
     ]
    }
   ],
   "source": [
    "DEVICE = torch.device('cuda' if torch.cuda.is_available() else 'cpu')\n",
    "log.info(f\"DEVICE={DEVICE}\")\n",
    "NOTEBOOK = Path('/media/storage_f/tg/phd/cs699-f19/hw3.ipynb') # take a backup in dir\n",
    "\n",
    "class BetaVAETrainer:\n",
    "    \n",
    "    def __init__(self, vae_model, beta, run_dir, device=DEVICE, nosave=False, lr=5e-4,\n",
    "                 adam_betas=(0.5, 0.999), adam_weight_decay=0):\n",
    "        self.device = DEVICE\n",
    "        self.model = vae_model.to(device)\n",
    "        self.beta = beta\n",
    "        self.optim = torch.optim.Adam(params=self.model.parameters(), lr=lr,\n",
    "                                      betas=adam_betas, weight_decay=adam_weight_decay)\n",
    "        self.run_dir = run_dir\n",
    "        self.tbd = SummaryWriter(log_dir=run_dir, flush_secs=60, max_queue=50)\n",
    "        self.cur_step = 0\n",
    "        self.models_dir = Path(self.run_dir) / 'models'\n",
    "        self.nosave = nosave\n",
    "        if not self.models_dir.exists():\n",
    "            self.models_dir.mkdir(parents=True)\n",
    "        # backup of code \n",
    "        (Path(run_dir) / 'code.ipynb').write_bytes(NOTEBOOK.read_bytes())\n",
    "\n",
    "    def validate(self, data) -> float:\n",
    "        self.model.eval()\n",
    "        val_losses = []\n",
    "        with torch.no_grad():\n",
    "            for i, batch in enumerate(data):\n",
    "                batch = batch.to(self.device)\n",
    "                recon_batch, mu, logvar = self.model(batch)\n",
    "                recon_loss = self.reconstruction_loss(batch, recon_batch)\n",
    "                val_losses.append(recon_loss.item())\n",
    "                if i == 0: # first batch\n",
    "                    # log some images to viz progress\n",
    "                    batch_rec = torch.sigmoid(recon_batch).cpu()\n",
    "                    self.tbd.add_images('reconstruction', batch_rec, self.cur_step)\n",
    "        return sum(val_losses) / len(val_losses)\n",
    "\n",
    "    def checkpoint(self, val_loss, train_loss):\n",
    "        \"\"\"Saves model parameters to disk.\"\"\"\n",
    "        if self.nosave:\n",
    "            return\n",
    "        model_out_file = f'model_{self.cur_step}_val{val_loss:.2f}_train{train_loss:.2f}.pth'\n",
    "                                   \n",
    "        model_out_file = self.models_dir / model_out_file\n",
    "        log.info(f'Saving model state to {model_out_file}')\n",
    "        # model = self.model.to('cpu')\n",
    "        chkpt = {'model_state': self.model.state_dict(), \n",
    "                'optim': self.optim.state_dict(),\n",
    "                'step': self.cur_step}\n",
    "        torch.save(chkpt, model_out_file)\n",
    "        \n",
    "    def train(self, steps, train_data, validn_data, chkpt):\n",
    "        train_data = LoopingIterator(train_data, total_steps=steps - self.cur_step)\n",
    "        if self.cur_step <= 1:\n",
    "            # log some images to viz progress\n",
    "            for first_batch in validn_data:\n",
    "                break\n",
    "            self.tbd.add_images('originals', first_batch, self.cur_step)\n",
    "\n",
    "        self.model.train()\n",
    "        start = time()\n",
    "        n_imgs = 0\n",
    "        train_recons = []\n",
    "        with tqdm(train_data, initial=self.cur_step, total=steps) as data_bar:\n",
    "            for batch in data_bar:\n",
    "                self.cur_step += 1\n",
    "                if self.cur_step % chkpt == 0:\n",
    "                    # validation\n",
    "                    val_loss = self.validate(validn_data)\n",
    "                    train_loss = sum(train_recons) / len(train_recons)\n",
    "                    self.tbd.add_scalars('ReconsLoss', {\n",
    "                        'train': train_loss,\n",
    "                        'validn': val_loss\n",
    "                    }, self.cur_step)\n",
    "                    self.checkpoint(val_loss, train_loss)\n",
    "\n",
    "                    self.model.train()\n",
    "                    start = time()\n",
    "                    n_imgs = 0\n",
    "                    train_recons.clear()\n",
    "\n",
    "                self.optim.zero_grad() # clear accumulated grads for all params\n",
    "                batch = batch.to(self.device)\n",
    "                \n",
    "                recon_batch, mu, logvar = self.model(batch)\n",
    "                recon_loss = self.reconstruction_loss(batch, recon_batch)\n",
    "                diverg_loss = self.latent_diverg_loss(mu, logvar)\n",
    "                combo_loss = recon_loss + self.beta * diverg_loss\n",
    "                #combo_loss = recon_loss\n",
    "                if self.cur_step % 20 == 0:\n",
    "                    self.tbd.add_scalars('train_losses', {\n",
    "                        'combo': combo_loss.item(),\n",
    "                        'reconst': recon_loss.item(),\n",
    "                        'diverg': diverg_loss.item()\n",
    "                    }, self.cur_step)\n",
    "                train_recons.append(recon_loss.item())\n",
    "                combo_loss.backward()\n",
    "                self.optim.step()\n",
    "\n",
    "                n_imgs += batch.shape[0]\n",
    "                data_bar.set_postfix(loss=combo_loss.item(), recon_loss=recon_loss.item(), kld=diverg_loss.item(),\n",
    "                                speed=f'{n_imgs/(time()-start):.1f} img/sec')\n",
    "\n",
    "    \n",
    "    def reconstruction_loss(self, original, recon_logits):\n",
    "        batch_size = original.shape[0]\n",
    "        assert original.shape == recon_logits.shape\n",
    "\n",
    "        losses = F.binary_cross_entropy_with_logits(recon_logits, original, reduction='none')\n",
    "        # Sum all pixel losses per each image, then mean over batch\n",
    "        loss = losses.view(batch_size, -1).mean(dim=1).mean(dim=0)\n",
    "        #loss = F.binary_cross_entropy_with_logits(recon_logits, original, size_average=False).div(batch_size)\n",
    "        return loss\n",
    "    \n",
    "    def latent_diverg_loss(self, mu, logvar):\n",
    "        # Note: this doesnt match what Prof. Greg taught in class\n",
    "        # see slides 36-42: https://drive.google.com/file/d/1gMv5JOsEH7cpL_I_GBdloGoeMEp1anj2/view\n",
    "        batch_size = mu.shape[0]\n",
    "        assert batch_size > 0\n",
    "        assert mu.shape[1] == logvar.shape[1] == self.model.z_dim\n",
    "        \n",
    "        klds = -0.5 * (1 + logvar - mu.pow(2) - logvar.exp())\n",
    "        total_kld = klds.sum(1).mean(0, True)\n",
    "        \n",
    "        # this is as in slides\n",
    "        #klds = -0.5 * (1 + logvar.pow(2).log() - mu.pow(2) - logvar.pow(2))\n",
    "    \n",
    "        #dimension_wise_kld = klds.mean(0)\n",
    "        #mean_kld = klds.mean(1).mean(0, True)\n",
    "        #return total_kld, dimension_wise_kld, mean_kld\n",
    "        return total_kld\n"
   ]
  },
  {
   "cell_type": "code",
   "execution_count": 11,
   "metadata": {},
   "outputs": [],
   "source": [
    "vae_model = BetaVAE(z_dim=25, inp_chs=1)\n",
    "trainer = BetaVAETrainer(vae_model=vae_model, beta=5, run_dir='runs/runs-008-z25-b5')"
   ]
  },
  {
   "cell_type": "code",
   "execution_count": null,
   "metadata": {},
   "outputs": [],
   "source": [
    "batch_size = 200\n",
    "val_data = DataLoader(validn_imgs, shuffle=False, batch_size=batch_size)\n",
    "train_data = DataLoader(train_split_imgs, shuffle=True, batch_size=batch_size)\n",
    "trainer.train(steps=50000, train_data = train_data, validn_data=val_data, chkpt=1000)"
   ]
  },
  {
   "cell_type": "code",
   "execution_count": null,
   "metadata": {},
   "outputs": [],
   "source": [
    "start_step = 100_000\n",
    "trainer.cur_step = start_step\n",
    "trainer.beta = 2 # reduce beta\n",
    "trainer.train(steps=start_step+50_000, train_data = train_data, validn_data=val_data, chkpt=1000)"
   ]
  },
  {
   "cell_type": "code",
   "execution_count": 10,
   "metadata": {},
   "outputs": [
    {
     "name": "stdout",
     "output_type": "stream",
     "text": [
      "1.14.0\n",
      "No known TensorBoard instances running.\n"
     ]
    }
   ],
   "source": [
    "import tensorboard\n",
    "from tensorboard import notebook as tbdnb\n",
    "print(tensorboard.version.VERSION)\n",
    "tbdnb.list()"
   ]
  },
  {
   "cell_type": "code",
   "execution_count": null,
   "metadata": {},
   "outputs": [],
   "source": [
    "tbdnb.display(port=6006, height=768) "
   ]
  },
  {
   "cell_type": "markdown",
   "metadata": {},
   "source": [
    "# Restore model"
   ]
  },
  {
   "cell_type": "code",
   "execution_count": 3,
   "metadata": {},
   "outputs": [
    {
     "name": "stdout",
     "output_type": "stream",
     "text": [
      "runs-006-z50-b0.1/models/model_100000_val10.43_train10.30.pth\n"
     ]
    }
   ],
   "source": [
    "!ls runs-006-z50-b0.1/models/model_100000_val10.43_train10.30.pth"
   ]
  },
  {
   "cell_type": "code",
   "execution_count": 14,
   "metadata": {},
   "outputs": [],
   "source": []
  },
  {
   "cell_type": "code",
   "execution_count": 14,
   "metadata": {},
   "outputs": [
    {
     "data": {
      "text/plain": [
       "BetaVAE(\n",
       "  (encoder): Sequential(\n",
       "    (0): Conv2d(1, 32, kernel_size=(4, 4), stride=(2, 2), padding=(1, 1))\n",
       "    (1): ReLU(inplace)\n",
       "    (2): Conv2d(32, 32, kernel_size=(4, 4), stride=(2, 2), padding=(1, 1))\n",
       "    (3): ReLU(inplace)\n",
       "    (4): Conv2d(32, 32, kernel_size=(4, 4), stride=(2, 2), padding=(1, 1))\n",
       "    (5): ReLU(inplace)\n",
       "    (6): Conv2d(32, 32, kernel_size=(4, 4), stride=(2, 2), padding=(1, 1))\n",
       "    (7): ReLU(inplace)\n",
       "    (8): View()\n",
       "    (9): Linear(in_features=512, out_features=256, bias=True)\n",
       "    (10): ReLU(inplace)\n",
       "    (11): Linear(in_features=256, out_features=256, bias=True)\n",
       "    (12): ReLU(inplace)\n",
       "    (13): Linear(in_features=256, out_features=50, bias=True)\n",
       "  )\n",
       "  (decoder): Sequential(\n",
       "    (0): Linear(in_features=25, out_features=256, bias=True)\n",
       "    (1): ReLU(inplace)\n",
       "    (2): Linear(in_features=256, out_features=256, bias=True)\n",
       "    (3): ReLU(inplace)\n",
       "    (4): Linear(in_features=256, out_features=512, bias=True)\n",
       "    (5): ReLU(inplace)\n",
       "    (6): View()\n",
       "    (7): ConvTranspose2d(32, 32, kernel_size=(4, 4), stride=(2, 2), padding=(1, 1))\n",
       "    (8): ReLU(inplace)\n",
       "    (9): ConvTranspose2d(32, 32, kernel_size=(4, 4), stride=(2, 2), padding=(1, 1))\n",
       "    (10): ReLU(inplace)\n",
       "    (11): ConvTranspose2d(32, 32, kernel_size=(4, 4), stride=(2, 2), padding=(1, 1))\n",
       "    (12): ReLU(inplace)\n",
       "    (13): ConvTranspose2d(32, 1, kernel_size=(4, 4), stride=(2, 2), padding=(1, 1))\n",
       "  )\n",
       ")"
      ]
     },
     "execution_count": 14,
     "metadata": {},
     "output_type": "execute_result"
    }
   ],
   "source": [
    "model = BetaVAE(z_dim=25, inp_chs=1, use_norm=False)\n",
    "chkpt_path = 'runs/runs-008-z25-b5/models/model_150000_val24.82_train24.23.pth'\n",
    "\n",
    "#model = BetaVAE(z_dim=25, inp_chs=1)\n",
    "#chkpt_path = 'runs-008-z25-b0.5/models/model_50000_val22.82_train23.44.pth'\n",
    "\n",
    "\n",
    "#model = BetaVAE(z_dim=20, inp_chs=1)\n",
    "#chkpt_path = 'runs-007-z20-b1/models/model_50000_val30.83_train29.75.pth'\n",
    "#chkpt_path = 'runs-007-z20-b1/models/model_100000_val22.45_train22.08.pth'\n",
    "\n",
    "chkpt = torch.load(chkpt_path, map_location=DEVICE)\n",
    "model.load_state_dict(chkpt['model_state'])\n",
    "model = model.to(DEVICE)\n",
    "model = model.eval()\n",
    "model"
   ]
  },
  {
   "cell_type": "markdown",
   "metadata": {},
   "source": [
    "# Reconstruction\n"
   ]
  },
  {
   "cell_type": "code",
   "execution_count": 107,
   "metadata": {},
   "outputs": [],
   "source": [
    "recon_imgs = model(torch.tensor(test_reconstruct, dtype=torch.float).view(-1, 1, 64,64).cuda())[0]\n",
    "recon_imgs = torch.sigmoid(recon_imgs).detach().cpu()"
   ]
  },
  {
   "cell_type": "code",
   "execution_count": 116,
   "metadata": {},
   "outputs": [
    {
     "data": {
      "image/png": "[encoded data removed]",
      "text/plain": [
       "<Figure size 864x1728 with 30 Axes>"
      ]
     },
     "metadata": {
      "needs_background": "light"
     },
     "output_type": "display_data"
    }
   ],
   "source": [
    "\n",
    "fig = plt.figure(figsize=(12, 24))\n",
    "\n",
    "columns = 4\n",
    "rows = 8\n",
    "assert len(test_reconstruct) <= columns * rows * 0.5\n",
    "\n",
    "for i in range(len(test_reconstruct)):\n",
    "    #img = np.random.randint(255, size=(h,w))\n",
    "    \n",
    "    orig = test_reconstruct[i] * 255\n",
    "    subp = fig.add_subplot(rows, columns, 2*i + 1)\n",
    "    if i in (0, 1):\n",
    "        subp.set_title(\"Original\")\n",
    "    subp.axis('off')\n",
    "    plt.imshow(orig)\n",
    "    \n",
    "    recon = recon_imgs[i, 0] * 255\n",
    "    subp = fig.add_subplot(rows, columns, 2*i + 2)\n",
    "    if i in (0,1):\n",
    "        subp.set_title(\"Reconstruction\")\n",
    "    subp.axis('off')        \n",
    "    plt.imshow(recon)\n",
    "plt.savefig('q1_a.pdf', bbox_inches='tight')\n",
    "plt.show()"
   ]
  },
  {
   "cell_type": "markdown",
   "metadata": {},
   "source": [
    "--- \n",
    "# 1b Interpolation\n"
   ]
  },
  {
   "cell_type": "code",
   "execution_count": 15,
   "metadata": {},
   "outputs": [
    {
     "data": {
      "image/png": "[encoded data removed]",
      "text/plain": [
       "<Figure size 2160x1080 with 40 Axes>"
      ]
     },
     "metadata": {
      "needs_background": "light"
     },
     "output_type": "display_data"
    }
   ],
   "source": [
    "alphas = [1.0, 0.8, 0.6, 0.4, 0.2, 0.0]\n",
    "\n",
    "def plot_interpoloated(imgs, alphas=alphas):\n",
    "    rows = len(imgs)\n",
    "    n_mixs = len(imgs[0][2])\n",
    "    cols = 2 + 2 + n_mixs\n",
    "    assert n_mixs == len(alphas)\n",
    "\n",
    "    fig = plt.figure(figsize=(cols*3, rows*3))\n",
    "    \n",
    "    for row_idx, (orig_a, orig_b, inters) in enumerate(imgs):\n",
    "        subp = fig.add_subplot(rows, cols, 1 + row_idx*cols)\n",
    "        subp.set_title(\"$a$\")\n",
    "        subp.axis('off')\n",
    "        plt.imshow(orig_a)\n",
    "\n",
    "        for idx, (alpha, inter) in enumerate(zip(alphas, inters), start= 3 + row_idx*cols):\n",
    "            subp = fig.add_subplot(rows, cols, idx)\n",
    "            subp.set_title(f'$\\\\alpha={alpha}$')\n",
    "            subp.axis('off')\n",
    "            plt.imshow(inter)\n",
    "\n",
    "\n",
    "        subp = fig.add_subplot(rows, cols, cols + row_idx*cols)\n",
    "        subp.set_title(\"$b$\")\n",
    "        subp.axis('off')\n",
    "        plt.imshow(orig_b)\n",
    "\n",
    "    plt.savefig('q1_b.pdf')\n",
    "    plt.show()\n",
    "    \n",
    "\n",
    "imgs = []\n",
    "for pair in test_interpolate:\n",
    "    a, b = pair[0], pair[1]\n",
    "    batch_a = torch.tensor([[a]], dtype=torch.float, device=DEVICE)\n",
    "    batch_b = torch.tensor([[b]], dtype=torch.float, device=DEVICE)\n",
    "    z_a, _, _ = model.encode(batch_a)\n",
    "    z_b, _, _ = model.encode(batch_b)\n",
    "    mix_zs = [alpha * z_a + (1 - alpha) * z_b for alpha in alphas]\n",
    "    mix_imgs = [model.decode(z, squash=True)[0, 0].detach().cpu() for z in mix_zs]\n",
    "    imgs.append((a, b, mix_imgs))\n",
    "    #plot_interpoloated(a, b, inters=mix_imgx, alphas=alphas)\n",
    "\n",
    "plot_interpoloated(imgs, alphas=alphas)\n",
    "\n",
    "\n"
   ]
  },
  {
   "cell_type": "markdown",
   "metadata": {},
   "source": [
    "--- \n",
    "\n",
    "# Latent supervision\n"
   ]
  },
  {
   "cell_type": "code",
   "execution_count": 15,
   "metadata": {},
   "outputs": [
    {
     "data": {
      "text/plain": [
       "((16384, 64, 64), (16384, 6), (16384, 6))"
      ]
     },
     "execution_count": 15,
     "metadata": {},
     "output_type": "execute_result"
    }
   ],
   "source": [
    "sup_train_imgs.shape, sup_train_factors.shape, sup_train_classes.shape"
   ]
  },
  {
   "cell_type": "code",
   "execution_count": 11,
   "metadata": {},
   "outputs": [
    {
     "name": "stderr",
     "output_type": "stream",
     "text": [
      "INFO:root:(1500, 1, 64, 64) (14884, 1, 64, 64):: (1500, 6) (1500, 6)\n"
     ]
    }
   ],
   "source": [
    "np.random.seed(12345)\n",
    "if sup_train_imgs.data.ndim < 4:\n",
    "    sup_train_imgs = np.expand_dims(sup_train_imgs, axis=1)  # add a dummy dim for single channel\n",
    "if sup_train_imgs.dtype != 'float32':\n",
    "    sup_train_imgs = sup_train_imgs.astype('float32', copy=False)\n",
    "\n",
    "# shuffle two arrays the same order\n",
    "assert len(sup_train_imgs) == len(sup_train_classes)\n",
    "p = np.random.permutation(len(sup_train_imgs))\n",
    "sup_train_imgs =  sup_train_imgs[p]\n",
    "sup_train_classes = sup_train_classes[p]\n",
    "\n",
    "sup_validn_count = 1_500\n",
    "sup_validn_imgs, sup_train_split_imgs = sup_train_imgs[:sup_validn_count], sup_train_imgs[sup_validn_count:]\n",
    "sup_validn_classes, sup_train_split_classes = sup_train_classes[:sup_validn_count], sup_train_classes[sup_validn_count:]\n",
    "log.info(f'{sup_validn_imgs.shape} {sup_train_split_imgs.shape}:: {sup_validn_classes.shape} {sup_validn_classes.shape}')"
   ]
  },
  {
   "cell_type": "code",
   "execution_count": 12,
   "metadata": {},
   "outputs": [
    {
     "name": "stdout",
     "output_type": "stream",
     "text": [
      "[3, 9, 49, 81, 113]\n"
     ]
    }
   ],
   "source": [
    "factor_dims = [3, 6, 40, 32, 32]\n",
    "z_partitions = []\n",
    "for d in factor_dims:\n",
    "    if z_partitions:\n",
    "        d += z_partitions[-1]\n",
    "    z_partitions.append(d)\n",
    "print(z_partitions)\n",
    "\n",
    "def quantize_latent(data):\n",
    "    dims = z_partitions[-1]\n",
    "    batch_size = len(data)\n",
    "    dtype = torch.uint8\n",
    "    quantized = torch.zeros(batch_size, dims, dtype=dtype)\n",
    "    #ones = torch.ones(batch_size, dtype=dtype)\n",
    "    start_dim = 0\n",
    "    for idx, end_dim in enumerate(z_partitions):\n",
    "        packets = torch.tensor(data[:, idx], device=quantized.device).view(batch_size, 1)\n",
    "        q_index = start_dim + packets\n",
    "        quantized.scatter_(dim=1, index=q_index, value=1)\n",
    "        start_dim = end_dim\n",
    "\n",
    "    return quantized\n",
    "\n",
    "sup_train_ys = quantize_latent(sup_train_split_classes[:, 1:])\n",
    "sup_validn_ys = quantize_latent(sup_validn_classes[:, 1:])"
   ]
  },
  {
   "cell_type": "code",
   "execution_count": 13,
   "metadata": {},
   "outputs": [],
   "source": [
    "from torch.utils.data import Dataset, DataLoader\n",
    "\n",
    "class DSpritesData(Dataset):\n",
    "    \n",
    "    def __init__(self, imgs, latents):\n",
    "        self.imgs = imgs\n",
    "        self.latents = latents\n",
    "        assert len(imgs) == len(latents)\n",
    "        self._len = len(imgs)\n",
    "    \n",
    "    def __len__(self):\n",
    "        return self._len\n",
    "    \n",
    "    def __getitem__(self, idx):\n",
    "        return self.imgs[idx], self.latents[idx]\n",
    "    \n",
    "batch_size = 64\n",
    "sup_train_data = DataLoader(DSpritesData(sup_train_split_imgs, sup_train_ys),\n",
    "                            batch_size=batch_size, shuffle=True)\n",
    "sup_validn_data = DataLoader(DSpritesData(sup_validn_imgs, sup_validn_ys),\n",
    "                            batch_size=batch_size, shuffle=False)\n",
    "unsup_train_data = DataLoader(train_imgs, shuffle=True, batch_size=batch_size)"
   ]
  },
  {
   "cell_type": "code",
   "execution_count": 16,
   "metadata": {},
   "outputs": [
    {
     "name": "stderr",
     "output_type": "stream",
     "text": [
      "INFO:root:DEVICE=cuda\n"
     ]
    }
   ],
   "source": [
    "\n",
    "DEVICE = torch.device('cuda' if torch.cuda.is_available() else 'cpu')\n",
    "log.info(f\"DEVICE={DEVICE}\")\n",
    "\n",
    "\n",
    "class SSLatentVAE(BetaVAE):\n",
    "\n",
    "    def __init__(self, z_dim=113, inp_chs=1, z_partitions=z_partitions, dropout=0.1):\n",
    "        super().__init__(z_dim=z_dim, enc_dim=z_dim, use_norm=True)\n",
    "        assert z_dim == z_partitions[-1]\n",
    "        self.z_partitions = z_partitions\n",
    "        self.z_slices = list(zip([0] + z_partitions, z_partitions))\n",
    "        \n",
    "    def forward(self, x):\n",
    "        z = self.encoder(x)                \n",
    "        latent = [F.gumbel_softmax(z[:, st: en], hard=True, tau=1) for st, en in self.z_slices]\n",
    "        latent = torch.cat(latent, dim=1)\n",
    "        rec_logits = self.decode(latent)\n",
    "        return rec_logits, z\n",
    "\n",
    "\n",
    "class LatentTrainer(BetaVAETrainer):\n",
    "\n",
    "    def __init__(self, lr=5e-4, *args, **kwargs):\n",
    "        super().__init__(*args, lr=lr, **kwargs)\n",
    "        self.z_slices = self.model.z_slices\n",
    "\n",
    "    def sup_loss(self, logits, truth):\n",
    "        batch_size =  logits.shape[0]\n",
    "        losses = F.binary_cross_entropy_with_logits(logits, truth, reduction='none')\n",
    "        # Sum all pixel losses per each image, then mean over batch\n",
    "        loss = losses.view(batch_size, -1).mean(dim=1).mean(dim=0)\n",
    "        return loss\n",
    "\n",
    "    def validate(self, data) -> float:\n",
    "        self.model.eval()\n",
    "        val_losses = []\n",
    "        with torch.no_grad():\n",
    "            for i, (batch, latent) in enumerate(data):\n",
    "                batch = batch.to(self.device)\n",
    "                recon_batch  = self.model(batch)[0]\n",
    "                recon_loss = self.reconstruction_loss(batch, recon_batch)\n",
    "                val_losses.append(recon_loss.item())\n",
    "                if i == 0: # first batch\n",
    "                    # log some images to viz progress\n",
    "                    batch_rec = torch.sigmoid(recon_batch).cpu()\n",
    "                    self.tbd.add_images('reconstruction', batch_rec, self.cur_step)\n",
    "        return sum(val_losses) / len(val_losses)\n",
    "\n",
    "    def train(self, steps, sup_train_data, unsup_train_data, validn_data, chkpt, grad_clip=5):\n",
    "        if grad_clip > 0:\n",
    "            log.info(f'clipping grad value to {grad_clip}')\n",
    "        sup_train_data_loop = LoopingIterator(sup_train_data, total_steps=steps - self.cur_step)\n",
    "        unsup_train_data_loop = LoopingIterator(unsup_train_data, total_steps=steps - self.cur_step)\n",
    "        if self.cur_step <= 1:\n",
    "            # log some images to viz progress\n",
    "            for first_batch, _ in validn_data: break\n",
    "            self.tbd.add_images('originals', first_batch, self.cur_step)\n",
    "\n",
    "        self.model.train()\n",
    "        start = time()\n",
    "        n_imgs = 0\n",
    "        train_recons = []\n",
    "        unsup_data = iter(unsup_train_data_loop)\n",
    "        zeros_batch = None\n",
    "        with tqdm(sup_train_data_loop, initial=self.cur_step, total=steps, mininterval=0.5) as data_bar:\n",
    "            for batch_sup, ys in data_bar:\n",
    "                self.cur_step += 1\n",
    "                if self.cur_step % chkpt == 0:\n",
    "                    # validation\n",
    "                    val_loss = self.validate(validn_data)\n",
    "                    train_loss = sum(train_recons) / len(train_recons)\n",
    "                    self.tbd.add_scalars('ReconsLoss', {\n",
    "                        'train': train_loss,\n",
    "                        'validn': val_loss\n",
    "                    }, self.cur_step)\n",
    "                    self.checkpoint(val_loss, train_loss)\n",
    "\n",
    "                    self.model.train()\n",
    "                    start = time()\n",
    "                    n_imgs = 0\n",
    "                    train_recons.clear()\n",
    "\n",
    "                self.optim.zero_grad() # clear accumulated grads for all params\n",
    "                batch_sup = batch_sup.to(self.device)\n",
    "                ys = ys.to(self.device).float()\n",
    "\n",
    "                recon_batch_sup,  z_logits_sup = self.model(batch_sup)                \n",
    "                recon_loss_sup = self.reconstruction_loss(batch_sup, recon_batch_sup)\n",
    "                sup_loss = self.sup_loss(z_logits_sup, ys)\n",
    "\n",
    "                # Unsupervised data for better reconstruction\n",
    "                batch_unsup = next(unsup_data).to(self.device)\n",
    "                recon_batch_unsup, _ = self.model(batch_unsup)\n",
    "                recon_loss_unsup = self.reconstruction_loss(batch_unsup, recon_batch_unsup)\n",
    "                \n",
    "                recon_loss = 0.5 * (recon_loss_sup + recon_loss_unsup)\n",
    "                combo_loss = recon_loss + self.beta * sup_loss\n",
    "                if torch.isnan(combo_loss):\n",
    "                    log.warning(f'Skipping a batch due to NaN loss: C:{combo_loss} RS:{recon_loss_sup} RUS:{recon_loss_unsup} SL:{sup_loss}')\n",
    "                    continue\n",
    "\n",
    "                if self.cur_step % 20 == 0:\n",
    "                    self.tbd.add_scalars('train_losses', {\n",
    "                        'combo': combo_loss.item(),\n",
    "                        'recon_sup': recon_loss_sup.item(),\n",
    "                        'recon_unsup': recon_loss_unsup.item(),                        \n",
    "                        'sup_loss':  sup_loss.item()                      \n",
    "                    }, self.cur_step)\n",
    "                train_recons.append(recon_loss_sup.item())\n",
    "                combo_loss.backward()\n",
    "                if grad_clip > 0:\n",
    "                    torch.nn.utils.clip_grad_value_(self.model.parameters(), grad_clip)\n",
    "                self.optim.step()\n",
    "\n",
    "                n_imgs += batch_sup.shape[0] + batch_unsup.shape[0]\n",
    "                data_bar.set_postfix(comb_loss=combo_loss.item(), recon_loss=recon_loss.item(),\n",
    "                                     sup_loss=sup_loss.item(),\n",
    "                                    speed=f'{n_imgs/(time()-start):.1f} img/sec', refresh=False)\n"
   ]
  },
  {
   "cell_type": "code",
   "execution_count": null,
   "metadata": {},
   "outputs": [],
   "source": [
    "vae_model = SSLatentVAE(z_dim=113, inp_chs=1)\n",
    "trainer = LatentTrainer(vae_model=vae_model, beta=0.1, adam_betas=(0.5, 0.999),\n",
    "                        adam_weight_decay=5e-4, lr=1e-4,\n",
    "                        run_dir='runs/runs-025-z113-gumbel-norm')"
   ]
  },
  {
   "cell_type": "code",
   "execution_count": null,
   "metadata": {},
   "outputs": [],
   "source": [
    "args = dict(sup_train_data=sup_train_data, unsup_train_data=unsup_train_data,\n",
    "            validn_data=sup_validn_data, chkpt=1000, grad_clip=0)\n",
    "\n",
    "trainer.beta = 0.1\n",
    "trainer.train(steps=100_000, **args)\n",
    "\n",
    "trainer.beta = 0.4\n",
    "trainer.train(steps=200_000, **args)\n",
    "\n",
    "trainer.beta = 0.80\n",
    "trainer.train(steps=300_000, **args)\n",
    "\n",
    "trainer.beta = 1\n",
    "trainer.train(steps=400_000, **args)"
   ]
  },
  {
   "cell_type": "code",
   "execution_count": null,
   "metadata": {},
   "outputs": [],
   "source": []
  },
  {
   "cell_type": "code",
   "execution_count": 154,
   "metadata": {},
   "outputs": [
    {
     "name": "stdout",
     "output_type": "stream",
     "text": [
      "-rw-rw-r-- 1 tg tg 6.5M Nov 14 22:25 runs/runs-023-z113-gumbel-laynorm-b0.1/models/model_379000_val0.00_train0.00.pth\n",
      "-rw-rw-r-- 1 tg tg 6.5M Nov 14 22:25 runs/runs-023-z113-gumbel-laynorm-b0.1/models/model_380000_val0.00_train0.00.pth\n"
     ]
    }
   ],
   "source": [
    "!ls -latrh runs/runs-023-z113-gumbel-laynorm-b0.1/models/* | tail -2"
   ]
  },
  {
   "cell_type": "markdown",
   "metadata": {},
   "source": [
    "---- \n",
    "# Q2_B  Interpolation"
   ]
  },
  {
   "cell_type": "code",
   "execution_count": 26,
   "metadata": {},
   "outputs": [
    {
     "data": {
      "text/plain": [
       "SSLatentVAE(\n",
       "  (encoder): Sequential(\n",
       "    (0): LayerNorm(torch.Size([1, 64, 64]), eps=1e-05, elementwise_affine=True)\n",
       "    (1): Conv2d(1, 32, kernel_size=(4, 4), stride=(2, 2), padding=(1, 1))\n",
       "    (2): ReLU(inplace)\n",
       "    (3): Conv2d(32, 32, kernel_size=(4, 4), stride=(2, 2), padding=(1, 1))\n",
       "    (4): ReLU(inplace)\n",
       "    (5): Conv2d(32, 32, kernel_size=(4, 4), stride=(2, 2), padding=(1, 1))\n",
       "    (6): ReLU(inplace)\n",
       "    (7): Conv2d(32, 32, kernel_size=(4, 4), stride=(2, 2), padding=(1, 1))\n",
       "    (8): ReLU(inplace)\n",
       "    (9): View()\n",
       "    (10): Linear(in_features=512, out_features=256, bias=True)\n",
       "    (11): ReLU(inplace)\n",
       "    (12): Linear(in_features=256, out_features=256, bias=True)\n",
       "    (13): ReLU(inplace)\n",
       "    (14): Linear(in_features=256, out_features=113, bias=True)\n",
       "    (15): LayerNorm(torch.Size([113]), eps=1e-05, elementwise_affine=True)\n",
       "  )\n",
       "  (decoder): Sequential(\n",
       "    (0): Linear(in_features=113, out_features=256, bias=True)\n",
       "    (1): ReLU(inplace)\n",
       "    (2): Linear(in_features=256, out_features=256, bias=True)\n",
       "    (3): ReLU(inplace)\n",
       "    (4): Linear(in_features=256, out_features=512, bias=True)\n",
       "    (5): ReLU(inplace)\n",
       "    (6): View()\n",
       "    (7): ConvTranspose2d(32, 32, kernel_size=(4, 4), stride=(2, 2), padding=(1, 1))\n",
       "    (8): ReLU(inplace)\n",
       "    (9): ConvTranspose2d(32, 32, kernel_size=(4, 4), stride=(2, 2), padding=(1, 1))\n",
       "    (10): ReLU(inplace)\n",
       "    (11): ConvTranspose2d(32, 32, kernel_size=(4, 4), stride=(2, 2), padding=(1, 1))\n",
       "    (12): ReLU(inplace)\n",
       "    (13): ConvTranspose2d(32, 1, kernel_size=(4, 4), stride=(2, 2), padding=(1, 1))\n",
       "  )\n",
       ")"
      ]
     },
     "execution_count": 26,
     "metadata": {},
     "output_type": "execute_result"
    }
   ],
   "source": [
    "model = SSLatentVAE(z_dim=113, inp_chs=1)\n",
    "chkpt_path = 'runs/runs-023-z113-gumbel-laynorm-b0.1/models/model_380000_val0.00_train0.00.pth'\n",
    "\n",
    "chkpt = torch.load(chkpt_path, map_location=DEVICE)\n",
    "chkpt['model_state'].pop('z_weight')\n",
    "chkpt['model_state'].pop('z_bias')\n",
    "\n",
    "model.load_state_dict(chkpt['model_state'])\n",
    "model = model.to(DEVICE)\n",
    "model = model.eval()\n",
    "model"
   ]
  },
  {
   "cell_type": "code",
   "execution_count": 40,
   "metadata": {},
   "outputs": [
    {
     "data": {
      "image/png": "[encoded data removed]",
      "text/plain": [
       "<Figure size 1944x1080 with 45 Axes>"
      ]
     },
     "metadata": {
      "needs_background": "light"
     },
     "output_type": "display_data"
    }
   ],
   "source": [
    "from copy import copy\n",
    "\n",
    "def plot_img_rows(imgs, titles, cols=6, save=None, fig_title=None):\n",
    "    rows = len(imgs) // cols\n",
    "    assert rows * cols == len(imgs)\n",
    "    assert len(imgs) == len(titles)\n",
    "    fig = plt.figure(figsize=(3*cols, 3*rows))\n",
    "    if fig_title:\n",
    "        fig.suptitle(fig_title, fontsize=16)\n",
    "    for idx, (img, title) in enumerate(zip(imgs, titles), start=1):\n",
    "        subp = fig.add_subplot(rows, cols, idx)\n",
    "        subp.set_title(title)\n",
    "        subp.axis('off')\n",
    "        plt.imshow(img)\n",
    "    if save:\n",
    "        plt.savefig(save)\n",
    "    plt.show()\n",
    "\n",
    "    \n",
    "model = model.eval()\n",
    "imgs = []\n",
    "titles = []\n",
    "\n",
    "\n",
    "for pair in test_interpolate:\n",
    "    a, b = pair[0], pair[1]\n",
    "    \n",
    "    batch_a = torch.tensor([[a]], dtype=torch.float, device=DEVICE)\n",
    "    batch_b = torch.tensor([[b]], dtype=torch.float, device=DEVICE)\n",
    "    z_a  = model.encoder(batch_a)\n",
    "    z_b  = model.encoder(batch_b)\n",
    "\n",
    "    z_a_parts = [F.gumbel_softmax(z_a[:, start: end], dim=1, hard=True) for start, end in model.z_slices]\n",
    "    z_b_parts = [F.gumbel_softmax(z_b[:, start: end], dim=1, hard=True) for start, end in model.z_slices]\n",
    "\n",
    "    alphas = [-1] + list(range(len(z_b_parts)))\n",
    "    \n",
    "    a_recon = model.decode(torch.cat(z_a_parts, dim=1), squash=True)[0, 0].detach().cpu()\n",
    "    imgs.append(a)\n",
    "    titles.append('a')\n",
    "    imgs.append(a_recon)\n",
    "    titles.append(r\"$p_1^{(a)},p_2^{(a)},p_3^{(a)},p_4^{(a)},p_5^{(a)}$\")   \n",
    "\n",
    "    for i, p in enumerate(z_b_parts):\n",
    "        z = copy(z_a_parts)\n",
    "        z[i] = p\n",
    "        img = model.decode(torch.cat(z, dim=1), squash=True)[0, 0].detach().cpu()\n",
    "        imgs.append(img)\n",
    "        title = r\"$p_1^{(a)},p_2^{(a)},p_3^{(a)},p_4^{(a)},p_5^{(a)}$\"\n",
    "        title = title.replace(\"p_%d^{(a)}\" % (i+1), \"p_%d^{(\\\\textbf{b})} \" % (i+1))\n",
    "        titles.append(title)\n",
    "\n",
    "    b_recon = model.decode(torch.cat(z_b_parts, dim=1), squash=True)[0, 0].detach().cpu()    \n",
    "    imgs.append(b_recon)\n",
    "    titles.append(r\"$p_1^{(b)},p_2^{(b)},p_3^{(b)},p_4^{(b)},p_5^{(b)}$\")\n",
    "\n",
    "    imgs.append(b)\n",
    "    titles.append('b')\n",
    "\n",
    "plot_img_rows(imgs, titles, cols=9, save='q2_b.pdf', fig_title=\"Latent Space interpolation\")"
   ]
  },
  {
   "cell_type": "code",
   "execution_count": 24,
   "metadata": {},
   "outputs": [
    {
     "data": {
      "image/png": "[encoded data removed]",
      "text/plain": [
       "<Figure size 432x288 with 1 Axes>"
      ]
     },
     "metadata": {
      "needs_background": "light"
     },
     "output_type": "display_data"
    }
   ],
   "source": [
    "\n",
    "import matplotlib.pyplot as plt\n",
    "from matplotlib import rcParams\n",
    "rcParams['text.usetex'] = True\n",
    "\n",
    "\n",
    "txte = r\"$p_1^{(a)},p_2^{(a)},p_3^{(a)},p_4^{(a)},p_5^{(a)}$\"\n",
    "\n",
    "\n",
    "plt.text(0.0, 0.0, txte, fontsize=14)\n",
    "ax = plt.gca()\n",
    "ax.axes.get_xaxis().set_visible(False)\n",
    "ax.axes.get_yaxis().set_visible(False)\n",
    "\n",
    "plt.show()"
   ]
  },
  {
   "cell_type": "code",
   "execution_count": 153,
   "metadata": {},
   "outputs": [
    {
     "data": {
      "image/png": "[encoded data removed]",
      "text/plain": [
       "<Figure size 1296x2592 with 72 Axes>"
      ]
     },
     "metadata": {
      "needs_background": "light"
     },
     "output_type": "display_data"
    }
   ],
   "source": [
    "\n",
    "z_dim = 113\n",
    "samples = [\n",
    "     ('scale',  3, [0, 1, 2, 3, 4, 5]),     # scale\n",
    "     ('orient', 9, [0, 7, 15, 23, 31, 39]),   # orient        \n",
    "     ('X',      49, [0, 5, 11, 17, 23, 31]),  # X Pos\n",
    "     ('Y',      81, [0, 5, 11, 17, 23, 31])]  # Y Pos\n",
    "imgs, titles = [], []\n",
    "for shape in [0, 1, 2]:\n",
    "    for name, start, poss in samples:\n",
    "        for pos in poss:\n",
    "            hots = torch.tensor(list({shape, 3, 9, 49, 81} - {start}) + [start+pos])       \n",
    "            z = torch.zeros(1, z_dim, device=DEVICE)\n",
    "            z[0, hots] = 1.0\n",
    "            img = model.decode(z, squash=True)[0,0].detach().cpu()\n",
    "            imgs.append(img)\n",
    "            titles.append(f'shape$={shape}$; {name}$={pos}$')\n",
    "plot_img_rows(imgs, titles, save='q2_b_extra.pdf', fig_title=\"Generation from multi hot z\")"
   ]
  },
  {
   "cell_type": "code",
   "execution_count": null,
   "metadata": {},
   "outputs": [],
   "source": []
  },
  {
   "cell_type": "code",
   "execution_count": 110,
   "metadata": {},
   "outputs": [
    {
     "data": {
      "text/plain": [
       "[3, 9, 49, 81, 113]"
      ]
     },
     "execution_count": 110,
     "metadata": {},
     "output_type": "execute_result"
    }
   ],
   "source": [
    "z_partitions"
   ]
  },
  {
   "cell_type": "code",
   "execution_count": null,
   "metadata": {},
   "outputs": [],
   "source": []
  },
  {
   "cell_type": "code",
   "execution_count": null,
   "metadata": {},
   "outputs": [],
   "source": []
  },
  {
   "cell_type": "code",
   "execution_count": null,
   "metadata": {},
   "outputs": [],
   "source": []
  }
 ],
 "metadata": {
  "kernelspec": {
   "display_name": "Python 3",
   "language": "python",
   "name": "python3"
  },
  "language_info": {
   "codemirror_mode": {
    "name": "ipython",
    "version": 3
   },
   "file_extension": ".py",
   "mimetype": "text/x-python",
   "name": "python",
   "nbconvert_exporter": "python",
   "pygments_lexer": "ipython3",
   "version": "3.7.3"
  }
 },
 "nbformat": 4,
 "nbformat_minor": 4
}
